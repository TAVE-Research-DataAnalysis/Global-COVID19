{
  "nbformat": 4,
  "nbformat_minor": 0,
  "metadata": {
    "kernelspec": {
      "language": "python",
      "display_name": "Python 3",
      "name": "python3"
    },
    "language_info": {
      "pygments_lexer": "ipython3",
      "nbconvert_exporter": "python",
      "version": "3.6.4",
      "file_extension": ".py",
      "codemirror_mode": {
        "name": "ipython",
        "version": 3
      },
      "name": "python",
      "mimetype": "text/x-python"
    },
    "colab": {
      "name": "covid-19-holidays-of-kr.ipynb",
      "provenance": []
    }
  },
  "cells": [
    {
      "cell_type": "markdown",
      "metadata": {
        "papermill": {
          "duration": 0.032785,
          "end_time": "2020-08-09T19:17:38.896903",
          "exception": false,
          "start_time": "2020-08-09T19:17:38.864118",
          "status": "completed"
        },
        "tags": [],
        "id": "dFxejbF-vf0h"
      },
      "source": [
        "# COVID-19 in Korea, Republic of Korea (South Korea)"
      ]
    },
    {
      "cell_type": "markdown",
      "metadata": {
        "papermill": {
          "duration": 0.02639,
          "end_time": "2020-08-09T19:17:39.127615",
          "exception": false,
          "start_time": "2020-08-09T19:17:39.101225",
          "status": "completed"
        },
        "tags": [],
        "id": "EbIhaAuvvf0p"
      },
      "source": [
        "<a class=\"anchor\" id=\"0.1\"></a>\n",
        "## Table of Contents\n",
        "\n",
        "1. [Import libraries](#1)\n",
        "1. [Download data](#2)\n",
        "1. [Selection data with holidays](#3)\n",
        "1. [EDA](#4)"
      ]
    },
    {
      "cell_type": "code",
      "metadata": {
        "execution": {
          "iopub.execute_input": "2020-08-09T19:17:39.193151Z",
          "iopub.status.busy": "2020-08-09T19:17:39.192288Z",
          "iopub.status.idle": "2020-08-09T19:17:39.196652Z",
          "shell.execute_reply": "2020-08-09T19:17:39.19587Z"
        },
        "papermill": {
          "duration": 0.037726,
          "end_time": "2020-08-09T19:17:39.196791",
          "exception": false,
          "start_time": "2020-08-09T19:17:39.159065",
          "status": "completed"
        },
        "tags": [],
        "trusted": true,
        "id": "1s-a5oLzvf0p"
      },
      "source": [
        "country_main = 'Korea, Republic of'"
      ],
      "execution_count": 1,
      "outputs": []
    },
    {
      "cell_type": "markdown",
      "metadata": {
        "papermill": {
          "duration": 0.027057,
          "end_time": "2020-08-09T19:17:39.25113",
          "exception": false,
          "start_time": "2020-08-09T19:17:39.224073",
          "status": "completed"
        },
        "tags": [],
        "id": "XrP-Z6DXvf0r"
      },
      "source": [
        "## 1. Import libraries<a class=\"anchor\" id=\"1\"></a>\n",
        "\n",
        "[Back to Table of Contents](#0.1)"
      ]
    },
    {
      "cell_type": "markdown",
      "metadata": {
        "papermill": {
          "duration": 0.026365,
          "end_time": "2020-08-09T19:17:39.304906",
          "exception": false,
          "start_time": "2020-08-09T19:17:39.278541",
          "status": "completed"
        },
        "tags": [],
        "id": "bFsipJ8gvf0r"
      },
      "source": [
        "Import libraries"
      ]
    },
    {
      "cell_type": "code",
      "metadata": {
        "colab": {
          "base_uri": "https://localhost:8080/"
        },
        "id": "c-t1Mc5FwKwh",
        "outputId": "44a078b0-ebfa-4265-dbec-cbeb87d57a92"
      },
      "source": [
        "!pip install pycountry"
      ],
      "execution_count": 2,
      "outputs": [
        {
          "output_type": "stream",
          "name": "stdout",
          "text": [
            "Collecting pycountry\n",
            "  Downloading pycountry-20.7.3.tar.gz (10.1 MB)\n",
            "\u001b[K     |████████████████████████████████| 10.1 MB 5.0 MB/s \n",
            "\u001b[?25hBuilding wheels for collected packages: pycountry\n",
            "  Building wheel for pycountry (setup.py) ... \u001b[?25l\u001b[?25hdone\n",
            "  Created wheel for pycountry: filename=pycountry-20.7.3-py2.py3-none-any.whl size=10746883 sha256=331dde3540bc74ce94166f87a2645e4593de7fb35a86e06d12f64dbbd8101154\n",
            "  Stored in directory: /root/.cache/pip/wheels/57/e8/3f/120ccc1ff7541c108bc5d656e2a14c39da0d824653b62284c6\n",
            "Successfully built pycountry\n",
            "Installing collected packages: pycountry\n",
            "Successfully installed pycountry-20.7.3\n"
          ]
        }
      ]
    },
    {
      "cell_type": "code",
      "metadata": {
        "_cell_guid": "79c7e3d0-c299-4dcb-8224-4455121ee9b0",
        "_kg_hide-input": true,
        "_uuid": "d629ff2d2480ee46fbb7e2d37f6b5fab8052498a",
        "execution": {
          "iopub.execute_input": "2020-08-09T19:17:39.378929Z",
          "iopub.status.busy": "2020-08-09T19:17:39.377647Z",
          "iopub.status.idle": "2020-08-09T19:17:42.593415Z",
          "shell.execute_reply": "2020-08-09T19:17:42.592427Z"
        },
        "papermill": {
          "duration": 3.262118,
          "end_time": "2020-08-09T19:17:42.593609",
          "exception": false,
          "start_time": "2020-08-09T19:17:39.331491",
          "status": "completed"
        },
        "tags": [],
        "trusted": true,
        "id": "hvx-mT77vf0s"
      },
      "source": [
        "import os\n",
        "import pandas as pd\n",
        "import numpy as np\n",
        "import requests\n",
        "import seaborn as sns\n",
        "from matplotlib import pyplot as plt\n",
        "import plotly.express as px\n",
        "import plotly.graph_objects as go\n",
        "\n",
        "from datetime import date, timedelta, datetime\n",
        "from fbprophet import Prophet\n",
        "from fbprophet.make_holidays import make_holidays_df\n",
        "from fbprophet.diagnostics import cross_validation, performance_metrics\n",
        "from fbprophet.plot import plot_cross_validation_metric\n",
        "import holidays\n",
        "from collections import Counter\n",
        "import pycountry\n",
        "\n",
        "import warnings\n",
        "warnings.simplefilter('ignore')"
      ],
      "execution_count": 3,
      "outputs": []
    },
    {
      "cell_type": "markdown",
      "metadata": {
        "papermill": {
          "duration": 0.026623,
          "end_time": "2020-08-09T19:17:42.647993",
          "exception": false,
          "start_time": "2020-08-09T19:17:42.62137",
          "status": "completed"
        },
        "tags": [],
        "id": "e-2HP6t7vf0t"
      },
      "source": [
        "## 2. Download data<a class=\"anchor\" id=\"2\"></a>\n",
        "\n",
        "[Back to Table of Contents](#0.1)"
      ]
    },
    {
      "cell_type": "markdown",
      "metadata": {
        "id": "lxOe0tkNdYx_"
      },
      "source": [
        "[질병관리청 코로나19 데이터](http://ncov.mohw.go.kr/)"
      ]
    },
    {
      "cell_type": "code",
      "metadata": {
        "colab": {
          "base_uri": "https://localhost:8080/"
        },
        "id": "w-DFv_IQxCja",
        "outputId": "42de8805-07f2-488f-8cb4-faaa60971a9a"
      },
      "source": [
        "from google.colab import drive\n",
        "drive.mount('/content/drive')"
      ],
      "execution_count": 4,
      "outputs": [
        {
          "output_type": "stream",
          "name": "stdout",
          "text": [
            "Mounted at /content/drive\n"
          ]
        }
      ]
    },
    {
      "cell_type": "code",
      "metadata": {
        "colab": {
          "base_uri": "https://localhost:8080/",
          "height": 206
        },
        "id": "gwOjvbJRcxUp",
        "outputId": "9e7424a4-f88e-430e-a1ba-73a332e0463e"
      },
      "source": [
        "df = pd.read_excel(\"/content/drive/MyDrive/TR_코로나 데이터분석/코로나바이러스감염증-19_확진환자_발생현황_210924.xlsx\")\n",
        "df.head()"
      ],
      "execution_count": 5,
      "outputs": [
        {
          "output_type": "execute_result",
          "data": {
            "text/html": [
              "<div>\n",
              "<style scoped>\n",
              "    .dataframe tbody tr th:only-of-type {\n",
              "        vertical-align: middle;\n",
              "    }\n",
              "\n",
              "    .dataframe tbody tr th {\n",
              "        vertical-align: top;\n",
              "    }\n",
              "\n",
              "    .dataframe thead th {\n",
              "        text-align: right;\n",
              "    }\n",
              "</style>\n",
              "<table border=\"1\" class=\"dataframe\">\n",
              "  <thead>\n",
              "    <tr style=\"text-align: right;\">\n",
              "      <th></th>\n",
              "      <th>Unnamed: 0</th>\n",
              "      <th>Unnamed: 1</th>\n",
              "      <th>Unnamed: 2</th>\n",
              "      <th>Unnamed: 3</th>\n",
              "      <th>Unnamed: 4</th>\n",
              "    </tr>\n",
              "  </thead>\n",
              "  <tbody>\n",
              "    <tr>\n",
              "      <th>0</th>\n",
              "      <td>NaN</td>\n",
              "      <td>NaN</td>\n",
              "      <td>NaN</td>\n",
              "      <td>NaN</td>\n",
              "      <td>NaN</td>\n",
              "    </tr>\n",
              "    <tr>\n",
              "      <th>1</th>\n",
              "      <td>NaN</td>\n",
              "      <td>NaN</td>\n",
              "      <td>NaN</td>\n",
              "      <td>NaN</td>\n",
              "      <td>NaN</td>\n",
              "    </tr>\n",
              "    <tr>\n",
              "      <th>2</th>\n",
              "      <td>NaN</td>\n",
              "      <td>NaN</td>\n",
              "      <td>NaN</td>\n",
              "      <td>NaN</td>\n",
              "      <td>NaN</td>\n",
              "    </tr>\n",
              "    <tr>\n",
              "      <th>3</th>\n",
              "      <td>일자</td>\n",
              "      <td>계(명)</td>\n",
              "      <td>국내발생(명)</td>\n",
              "      <td>해외유입(명)</td>\n",
              "      <td>사망(명)</td>\n",
              "    </tr>\n",
              "    <tr>\n",
              "      <th>4</th>\n",
              "      <td>누적(명)</td>\n",
              "      <td>295132</td>\n",
              "      <td>280857</td>\n",
              "      <td>14275</td>\n",
              "      <td>2434</td>\n",
              "    </tr>\n",
              "  </tbody>\n",
              "</table>\n",
              "</div>"
            ],
            "text/plain": [
              "  Unnamed: 0 Unnamed: 1 Unnamed: 2 Unnamed: 3 Unnamed: 4\n",
              "0        NaN        NaN        NaN        NaN        NaN\n",
              "1        NaN        NaN        NaN        NaN        NaN\n",
              "2        NaN        NaN        NaN        NaN        NaN\n",
              "3         일자       계(명)    국내발생(명)    해외유입(명)      사망(명)\n",
              "4      누적(명)     295132     280857      14275       2434"
            ]
          },
          "metadata": {},
          "execution_count": 5
        }
      ]
    },
    {
      "cell_type": "code",
      "metadata": {
        "colab": {
          "base_uri": "https://localhost:8080/",
          "height": 206
        },
        "id": "CVaX5vpWc29X",
        "outputId": "5671bb93-c0a5-44a4-fee2-f02bf6914955"
      },
      "source": [
        "df.columns=['Date', 'Confirmed', 'domestic','foreign', 'dead']\n",
        "df = df.iloc[5:]\n",
        "df.reset_index(drop=True, inplace=True)\n",
        "df.head()"
      ],
      "execution_count": 6,
      "outputs": [
        {
          "output_type": "execute_result",
          "data": {
            "text/html": [
              "<div>\n",
              "<style scoped>\n",
              "    .dataframe tbody tr th:only-of-type {\n",
              "        vertical-align: middle;\n",
              "    }\n",
              "\n",
              "    .dataframe tbody tr th {\n",
              "        vertical-align: top;\n",
              "    }\n",
              "\n",
              "    .dataframe thead th {\n",
              "        text-align: right;\n",
              "    }\n",
              "</style>\n",
              "<table border=\"1\" class=\"dataframe\">\n",
              "  <thead>\n",
              "    <tr style=\"text-align: right;\">\n",
              "      <th></th>\n",
              "      <th>Date</th>\n",
              "      <th>Confirmed</th>\n",
              "      <th>domestic</th>\n",
              "      <th>foreign</th>\n",
              "      <th>dead</th>\n",
              "    </tr>\n",
              "  </thead>\n",
              "  <tbody>\n",
              "    <tr>\n",
              "      <th>0</th>\n",
              "      <td>2020-01-20 00:00:00</td>\n",
              "      <td>1</td>\n",
              "      <td>-</td>\n",
              "      <td>1</td>\n",
              "      <td>-</td>\n",
              "    </tr>\n",
              "    <tr>\n",
              "      <th>1</th>\n",
              "      <td>2020-01-21 00:00:00</td>\n",
              "      <td>0</td>\n",
              "      <td>-</td>\n",
              "      <td>-</td>\n",
              "      <td>-</td>\n",
              "    </tr>\n",
              "    <tr>\n",
              "      <th>2</th>\n",
              "      <td>2020-01-22 00:00:00</td>\n",
              "      <td>0</td>\n",
              "      <td>-</td>\n",
              "      <td>-</td>\n",
              "      <td>-</td>\n",
              "    </tr>\n",
              "    <tr>\n",
              "      <th>3</th>\n",
              "      <td>2020-01-23 00:00:00</td>\n",
              "      <td>0</td>\n",
              "      <td>-</td>\n",
              "      <td>-</td>\n",
              "      <td>-</td>\n",
              "    </tr>\n",
              "    <tr>\n",
              "      <th>4</th>\n",
              "      <td>2020-01-24 00:00:00</td>\n",
              "      <td>1</td>\n",
              "      <td>-</td>\n",
              "      <td>1</td>\n",
              "      <td>-</td>\n",
              "    </tr>\n",
              "  </tbody>\n",
              "</table>\n",
              "</div>"
            ],
            "text/plain": [
              "                  Date Confirmed domestic foreign dead\n",
              "0  2020-01-20 00:00:00         1        -       1    -\n",
              "1  2020-01-21 00:00:00         0        -       -    -\n",
              "2  2020-01-22 00:00:00         0        -       -    -\n",
              "3  2020-01-23 00:00:00         0        -       -    -\n",
              "4  2020-01-24 00:00:00         1        -       1    -"
            ]
          },
          "metadata": {},
          "execution_count": 6
        }
      ]
    },
    {
      "cell_type": "code",
      "metadata": {
        "colab": {
          "base_uri": "https://localhost:8080/"
        },
        "id": "ordF9bKQaDQ4",
        "outputId": "fe62edfd-46b3-40ec-856d-3ce5ef38c153"
      },
      "source": [
        "df.info()"
      ],
      "execution_count": 7,
      "outputs": [
        {
          "output_type": "stream",
          "name": "stdout",
          "text": [
            "<class 'pandas.core.frame.DataFrame'>\n",
            "RangeIndex: 614 entries, 0 to 613\n",
            "Data columns (total 5 columns):\n",
            " #   Column     Non-Null Count  Dtype \n",
            "---  ------     --------------  ----- \n",
            " 0   Date       614 non-null    object\n",
            " 1   Confirmed  614 non-null    object\n",
            " 2   domestic   614 non-null    object\n",
            " 3   foreign    614 non-null    object\n",
            " 4   dead       614 non-null    object\n",
            "dtypes: object(5)\n",
            "memory usage: 24.1+ KB\n"
          ]
        }
      ]
    },
    {
      "cell_type": "code",
      "metadata": {
        "id": "wfPibiK6ku3d",
        "colab": {
          "base_uri": "https://localhost:8080/"
        },
        "outputId": "95a5b469-3091-438c-efc9-9da230fd1dba"
      },
      "source": [
        "df['Date'] = pd.to_datetime(df['Date'])\n",
        "print('data period: {} ~ {} '.format(df['Date'].min(), df['Date'].max()))"
      ],
      "execution_count": 8,
      "outputs": [
        {
          "output_type": "stream",
          "name": "stdout",
          "text": [
            "data period: 2020-01-20 00:00:00 ~ 2021-09-24 00:00:00 \n"
          ]
        }
      ]
    },
    {
      "cell_type": "code",
      "metadata": {
        "colab": {
          "base_uri": "https://localhost:8080/",
          "height": 206
        },
        "id": "slN1F3XZfx9H",
        "outputId": "7ab01545-f0e4-48b7-dcf1-6894631b5e55"
      },
      "source": [
        "import itertools\n",
        "\n",
        "df['cum_Confirmed'] = list(itertools.accumulate(df['Confirmed']))\n",
        "df.head()"
      ],
      "execution_count": 9,
      "outputs": [
        {
          "output_type": "execute_result",
          "data": {
            "text/html": [
              "<div>\n",
              "<style scoped>\n",
              "    .dataframe tbody tr th:only-of-type {\n",
              "        vertical-align: middle;\n",
              "    }\n",
              "\n",
              "    .dataframe tbody tr th {\n",
              "        vertical-align: top;\n",
              "    }\n",
              "\n",
              "    .dataframe thead th {\n",
              "        text-align: right;\n",
              "    }\n",
              "</style>\n",
              "<table border=\"1\" class=\"dataframe\">\n",
              "  <thead>\n",
              "    <tr style=\"text-align: right;\">\n",
              "      <th></th>\n",
              "      <th>Date</th>\n",
              "      <th>Confirmed</th>\n",
              "      <th>domestic</th>\n",
              "      <th>foreign</th>\n",
              "      <th>dead</th>\n",
              "      <th>cum_Confirmed</th>\n",
              "    </tr>\n",
              "  </thead>\n",
              "  <tbody>\n",
              "    <tr>\n",
              "      <th>0</th>\n",
              "      <td>2020-01-20</td>\n",
              "      <td>1</td>\n",
              "      <td>-</td>\n",
              "      <td>1</td>\n",
              "      <td>-</td>\n",
              "      <td>1</td>\n",
              "    </tr>\n",
              "    <tr>\n",
              "      <th>1</th>\n",
              "      <td>2020-01-21</td>\n",
              "      <td>0</td>\n",
              "      <td>-</td>\n",
              "      <td>-</td>\n",
              "      <td>-</td>\n",
              "      <td>1</td>\n",
              "    </tr>\n",
              "    <tr>\n",
              "      <th>2</th>\n",
              "      <td>2020-01-22</td>\n",
              "      <td>0</td>\n",
              "      <td>-</td>\n",
              "      <td>-</td>\n",
              "      <td>-</td>\n",
              "      <td>1</td>\n",
              "    </tr>\n",
              "    <tr>\n",
              "      <th>3</th>\n",
              "      <td>2020-01-23</td>\n",
              "      <td>0</td>\n",
              "      <td>-</td>\n",
              "      <td>-</td>\n",
              "      <td>-</td>\n",
              "      <td>1</td>\n",
              "    </tr>\n",
              "    <tr>\n",
              "      <th>4</th>\n",
              "      <td>2020-01-24</td>\n",
              "      <td>1</td>\n",
              "      <td>-</td>\n",
              "      <td>1</td>\n",
              "      <td>-</td>\n",
              "      <td>2</td>\n",
              "    </tr>\n",
              "  </tbody>\n",
              "</table>\n",
              "</div>"
            ],
            "text/plain": [
              "        Date Confirmed domestic foreign dead  cum_Confirmed\n",
              "0 2020-01-20         1        -       1    -              1\n",
              "1 2020-01-21         0        -       -    -              1\n",
              "2 2020-01-22         0        -       -    -              1\n",
              "3 2020-01-23         0        -       -    -              1\n",
              "4 2020-01-24         1        -       1    -              2"
            ]
          },
          "metadata": {},
          "execution_count": 9
        }
      ]
    },
    {
      "cell_type": "markdown",
      "metadata": {
        "papermill": {
          "duration": 0.027137,
          "end_time": "2020-08-09T19:17:43.805316",
          "exception": false,
          "start_time": "2020-08-09T19:17:43.778179",
          "status": "completed"
        },
        "tags": [],
        "id": "9-72a4Rpvf0v"
      },
      "source": [
        "## 3. Selection data with holidays<a class=\"anchor\" id=\"3\"></a>"
      ]
    },
    {
      "cell_type": "markdown",
      "metadata": {
        "papermill": {
          "duration": 0.027219,
          "end_time": "2020-08-09T19:17:43.861785",
          "exception": false,
          "start_time": "2020-08-09T19:17:43.834566",
          "status": "completed"
        },
        "tags": [],
        "id": "zmTbWtknvf0v"
      },
      "source": [
        "## 3.1. Holidays with a shift<a class=\"anchor\" id=\"3.1\"></a>\n",
        "\n",
        "[Back to Table of Contents](#0.1)"
      ]
    },
    {
      "cell_type": "markdown",
      "metadata": {
        "papermill": {
          "duration": 0.027332,
          "end_time": "2020-08-09T19:17:43.916885",
          "exception": false,
          "start_time": "2020-08-09T19:17:43.889553",
          "status": "completed"
        },
        "tags": [],
        "id": "Pf0MpEsTvf0w"
      },
      "source": [
        "[COVID-19: Holidays of countries](https://www.kaggle.com/vbmokin/covid19-holidays-of-countries)"
      ]
    },
    {
      "cell_type": "code",
      "metadata": {
        "execution": {
          "iopub.execute_input": "2020-08-09T19:17:43.983103Z",
          "iopub.status.busy": "2020-08-09T19:17:43.981967Z",
          "iopub.status.idle": "2020-08-09T19:17:44.016961Z",
          "shell.execute_reply": "2020-08-09T19:17:44.016101Z"
        },
        "papermill": {
          "duration": 0.071634,
          "end_time": "2020-08-09T19:17:44.017102",
          "exception": false,
          "start_time": "2020-08-09T19:17:43.945468",
          "status": "completed"
        },
        "tags": [],
        "trusted": true,
        "colab": {
          "base_uri": "https://localhost:8080/",
          "height": 293
        },
        "id": "ORwn25Lsvf0w",
        "outputId": "5a842203-7b2a-4d08-c0fc-d91998c765e5"
      },
      "source": [
        "holidays_df = pd.read_csv('/content/drive/MyDrive/TR_코로나 데이터분석/holidays_df_of_70_countries_for_covid_19.csv')\n",
        "holidays_df[holidays_df['country'] == country_main].head()"
      ],
      "execution_count": 10,
      "outputs": [
        {
          "output_type": "execute_result",
          "data": {
            "text/html": [
              "<div>\n",
              "<style scoped>\n",
              "    .dataframe tbody tr th:only-of-type {\n",
              "        vertical-align: middle;\n",
              "    }\n",
              "\n",
              "    .dataframe tbody tr th {\n",
              "        vertical-align: top;\n",
              "    }\n",
              "\n",
              "    .dataframe thead th {\n",
              "        text-align: right;\n",
              "    }\n",
              "</style>\n",
              "<table border=\"1\" class=\"dataframe\">\n",
              "  <thead>\n",
              "    <tr style=\"text-align: right;\">\n",
              "      <th></th>\n",
              "      <th>ds_holidays</th>\n",
              "      <th>holiday</th>\n",
              "      <th>ds</th>\n",
              "      <th>country</th>\n",
              "      <th>code</th>\n",
              "      <th>country_official_name</th>\n",
              "      <th>lower_window</th>\n",
              "      <th>upper_window</th>\n",
              "      <th>prior_scale</th>\n",
              "      <th>source</th>\n",
              "    </tr>\n",
              "  </thead>\n",
              "  <tbody>\n",
              "    <tr>\n",
              "      <th>432</th>\n",
              "      <td>2020-01-24</td>\n",
              "      <td>The day preceding of Lunar New Year's Day</td>\n",
              "      <td>2020-01-31</td>\n",
              "      <td>Korea, Republic of</td>\n",
              "      <td>KR</td>\n",
              "      <td>Korea, Republic of</td>\n",
              "      <td>-3</td>\n",
              "      <td>3</td>\n",
              "      <td>10</td>\n",
              "      <td>https://github.com/dr-prodigy/python-holidays</td>\n",
              "    </tr>\n",
              "    <tr>\n",
              "      <th>433</th>\n",
              "      <td>2020-01-25</td>\n",
              "      <td>Lunar New Year's Day</td>\n",
              "      <td>2020-02-01</td>\n",
              "      <td>Korea, Republic of</td>\n",
              "      <td>KR</td>\n",
              "      <td>Korea, Republic of</td>\n",
              "      <td>-3</td>\n",
              "      <td>3</td>\n",
              "      <td>10</td>\n",
              "      <td>https://github.com/dr-prodigy/python-holidays</td>\n",
              "    </tr>\n",
              "    <tr>\n",
              "      <th>434</th>\n",
              "      <td>2020-01-26</td>\n",
              "      <td>The second day of Lunar New Year's Day</td>\n",
              "      <td>2020-02-02</td>\n",
              "      <td>Korea, Republic of</td>\n",
              "      <td>KR</td>\n",
              "      <td>Korea, Republic of</td>\n",
              "      <td>-3</td>\n",
              "      <td>3</td>\n",
              "      <td>10</td>\n",
              "      <td>https://github.com/dr-prodigy/python-holidays</td>\n",
              "    </tr>\n",
              "    <tr>\n",
              "      <th>435</th>\n",
              "      <td>2020-01-27</td>\n",
              "      <td>Alternative holiday of Lunar New Year's Day</td>\n",
              "      <td>2020-02-03</td>\n",
              "      <td>Korea, Republic of</td>\n",
              "      <td>KR</td>\n",
              "      <td>Korea, Republic of</td>\n",
              "      <td>-3</td>\n",
              "      <td>3</td>\n",
              "      <td>10</td>\n",
              "      <td>https://github.com/dr-prodigy/python-holidays</td>\n",
              "    </tr>\n",
              "    <tr>\n",
              "      <th>436</th>\n",
              "      <td>2020-03-01</td>\n",
              "      <td>Independence Movement Day</td>\n",
              "      <td>2020-03-08</td>\n",
              "      <td>Korea, Republic of</td>\n",
              "      <td>KR</td>\n",
              "      <td>Korea, Republic of</td>\n",
              "      <td>-3</td>\n",
              "      <td>3</td>\n",
              "      <td>10</td>\n",
              "      <td>https://github.com/dr-prodigy/python-holidays</td>\n",
              "    </tr>\n",
              "  </tbody>\n",
              "</table>\n",
              "</div>"
            ],
            "text/plain": [
              "    ds_holidays  ...                                         source\n",
              "432  2020-01-24  ...  https://github.com/dr-prodigy/python-holidays\n",
              "433  2020-01-25  ...  https://github.com/dr-prodigy/python-holidays\n",
              "434  2020-01-26  ...  https://github.com/dr-prodigy/python-holidays\n",
              "435  2020-01-27  ...  https://github.com/dr-prodigy/python-holidays\n",
              "436  2020-03-01  ...  https://github.com/dr-prodigy/python-holidays\n",
              "\n",
              "[5 rows x 10 columns]"
            ]
          },
          "metadata": {},
          "execution_count": 10
        }
      ]
    },
    {
      "cell_type": "code",
      "metadata": {
        "execution": {
          "iopub.execute_input": "2020-08-09T19:17:44.082044Z",
          "iopub.status.busy": "2020-08-09T19:17:44.081142Z",
          "iopub.status.idle": "2020-08-09T19:17:44.085973Z",
          "shell.execute_reply": "2020-08-09T19:17:44.085319Z"
        },
        "papermill": {
          "duration": 0.040123,
          "end_time": "2020-08-09T19:17:44.08611",
          "exception": false,
          "start_time": "2020-08-09T19:17:44.045987",
          "status": "completed"
        },
        "tags": [],
        "trusted": true,
        "colab": {
          "base_uri": "https://localhost:8080/"
        },
        "id": "YiIO-Xbovf0w",
        "outputId": "dca627d7-139f-4a08-fe55-c7bc7c301b90"
      },
      "source": [
        "holidays_df_code_countries = holidays_df['code'].unique()\n",
        "holidays_df_code_countries"
      ],
      "execution_count": 11,
      "outputs": [
        {
          "output_type": "execute_result",
          "data": {
            "text/plain": [
              "array(['AR', 'AT', 'AU', 'BD', 'BE', 'BG', 'BI', 'BR', 'BY', 'CA', 'CH',\n",
              "       'CL', 'CN', 'CO', 'CZ', 'DE', 'DK', 'DO', 'EE', 'EG', 'ES', 'FI',\n",
              "       'FR', 'GB', 'GR', 'HN', 'HR', 'HU', 'ID', 'IE', 'IL', 'IN', 'IS',\n",
              "       'IT', 'JP', 'KE', 'KR', 'LT', 'LU', 'LV', 'MA', 'MX', 'MY', 'NG',\n",
              "       'NI', 'NL', 'NO', 'NZ', 'PE', 'PH', 'PK', 'PL', 'PT', 'PY', 'RO',\n",
              "       'RS', 'RU', 'SE', 'SG', 'SI', 'SK', 'TH', 'TR', 'UA', 'US', 'VN',\n",
              "       'ZA', 'GE', 'AL', 'MD'], dtype=object)"
            ]
          },
          "metadata": {},
          "execution_count": 11
        }
      ]
    },
    {
      "cell_type": "code",
      "metadata": {
        "_kg_hide-input": true,
        "execution": {
          "iopub.execute_input": "2020-08-09T19:17:44.163817Z",
          "iopub.status.busy": "2020-08-09T19:17:44.15256Z",
          "iopub.status.idle": "2020-08-09T19:17:44.167321Z",
          "shell.execute_reply": "2020-08-09T19:17:44.166572Z"
        },
        "papermill": {
          "duration": 0.052968,
          "end_time": "2020-08-09T19:17:44.167543",
          "exception": false,
          "start_time": "2020-08-09T19:17:44.114575",
          "status": "completed"
        },
        "tags": [],
        "trusted": true,
        "id": "nw7EC0PFvf0w"
      },
      "source": [
        "# notebook: https://www.kaggle.com/vbmokin/covid-19-prophet-forecast-next-2-weeks\n",
        "def dict_code_countries_with_holidays(list_name_countries: list,\n",
        "                                      holidays_df: pd.DataFrame()):\n",
        "        \n",
        "    \"\"\"\n",
        "    Defines a dictionary with the names of user countries and their two-letter codes (ISO 3166) \n",
        "    in the dataset \"COVID-19: Holidays of countries\" \n",
        "    \n",
        "    Returns: \n",
        "    - countries: dictionary with the names of user countries and their two-letter codes (ISO 3166) \n",
        "    - holidays_df_identificated: DataFrame with holidays data for countries from dictionary 'countries'\n",
        "    \n",
        "    Args: \n",
        "    - list_name_countries: list of the name of countries (name or common_name or official_name or alha2 or alpha3 codes from ISO 3166)\n",
        "    - holidays_df: DataFrame with holidays \"COVID-19: Holidays of countries\"\n",
        "    \"\"\"\n",
        "    \n",
        "    import pycountry\n",
        "    \n",
        "    # Identification of countries for which there are names according to ISO\n",
        "    countries = {}\n",
        "    dataset_all_countries = list(holidays_df['code'].unique())\n",
        "    list_name_countries_identificated = []\n",
        "    list_name_countries_not_identificated = []\n",
        "    for country in list_name_countries:\n",
        "        try: \n",
        "            country_id = pycountry.countries.get(alpha_2=country)\n",
        "            if country_id.alpha_2 in dataset_all_countries:\n",
        "                countries[country] = country_id.alpha_2\n",
        "        except AttributeError:\n",
        "            try: \n",
        "                country_id = pycountry.countries.get(name=country)\n",
        "                if country_id.alpha_2 in dataset_all_countries:\n",
        "                    countries[country] = country_id.alpha_2\n",
        "            except AttributeError:\n",
        "                try: \n",
        "                    country_id = pycountry.countries.get(official_name=country)\n",
        "                    if country_id.alpha_2 in dataset_all_countries:\n",
        "                        countries[country] = country_id.alpha_2\n",
        "                except AttributeError:\n",
        "                    try: \n",
        "                        country_id = pycountry.countries.get(common_name=country)\n",
        "                        if country_id.alpha_2 in dataset_all_countries:\n",
        "                            countries[country] = country_id.alpha_2\n",
        "                    except AttributeError:\n",
        "                        try: \n",
        "                            country_id = pycountry.countries.get(alpha_3=country)\n",
        "                            if country_id.alpha_2 in dataset_all_countries:\n",
        "                                countries[country] = country_id.alpha_2\n",
        "                        except AttributeError:\n",
        "                            list_name_countries_not_identificated.append(country)\n",
        "    holidays_df_identificated = holidays_df[holidays_df['code'].isin(countries.values())]\n",
        "    \n",
        "    print(f'Thus, the dataset has holidays in {len(countries)} countries from your list with {len(list_name_countries)} countries')\n",
        "  \n",
        "    return countries, holidays_df_identificated.reset_index(drop=True)"
      ],
      "execution_count": 12,
      "outputs": []
    },
    {
      "cell_type": "code",
      "metadata": {
        "execution": {
          "iopub.execute_input": "2020-08-09T19:17:44.231421Z",
          "iopub.status.busy": "2020-08-09T19:17:44.230578Z",
          "iopub.status.idle": "2020-08-09T19:17:44.244369Z",
          "shell.execute_reply": "2020-08-09T19:17:44.243605Z"
        },
        "papermill": {
          "duration": 0.04775,
          "end_time": "2020-08-09T19:17:44.244564",
          "exception": false,
          "start_time": "2020-08-09T19:17:44.196814",
          "status": "completed"
        },
        "tags": [],
        "trusted": true,
        "colab": {
          "base_uri": "https://localhost:8080/"
        },
        "id": "3KWwwVidvf0x",
        "outputId": "7c279906-7547-4760-914e-b1c9fc1240c6"
      },
      "source": [
        "countries_dict, holidays_df = dict_code_countries_with_holidays([country_main], holidays_df)\n",
        "countries_dict"
      ],
      "execution_count": 13,
      "outputs": [
        {
          "output_type": "stream",
          "name": "stdout",
          "text": [
            "Thus, the dataset has holidays in 1 countries from your list with 1 countries\n"
          ]
        },
        {
          "output_type": "execute_result",
          "data": {
            "text/plain": [
              "{'Korea, Republic of': 'KR'}"
            ]
          },
          "metadata": {},
          "execution_count": 13
        }
      ]
    },
    {
      "cell_type": "code",
      "metadata": {
        "colab": {
          "base_uri": "https://localhost:8080/",
          "height": 293
        },
        "id": "A3gRp9h7naZ2",
        "outputId": "f1916c07-2bc8-4f4d-e9a3-8f8d9b002e3a"
      },
      "source": [
        "holidays_df.head()"
      ],
      "execution_count": 14,
      "outputs": [
        {
          "output_type": "execute_result",
          "data": {
            "text/html": [
              "<div>\n",
              "<style scoped>\n",
              "    .dataframe tbody tr th:only-of-type {\n",
              "        vertical-align: middle;\n",
              "    }\n",
              "\n",
              "    .dataframe tbody tr th {\n",
              "        vertical-align: top;\n",
              "    }\n",
              "\n",
              "    .dataframe thead th {\n",
              "        text-align: right;\n",
              "    }\n",
              "</style>\n",
              "<table border=\"1\" class=\"dataframe\">\n",
              "  <thead>\n",
              "    <tr style=\"text-align: right;\">\n",
              "      <th></th>\n",
              "      <th>ds_holidays</th>\n",
              "      <th>holiday</th>\n",
              "      <th>ds</th>\n",
              "      <th>country</th>\n",
              "      <th>code</th>\n",
              "      <th>country_official_name</th>\n",
              "      <th>lower_window</th>\n",
              "      <th>upper_window</th>\n",
              "      <th>prior_scale</th>\n",
              "      <th>source</th>\n",
              "    </tr>\n",
              "  </thead>\n",
              "  <tbody>\n",
              "    <tr>\n",
              "      <th>0</th>\n",
              "      <td>2020-01-24</td>\n",
              "      <td>The day preceding of Lunar New Year's Day</td>\n",
              "      <td>2020-01-31</td>\n",
              "      <td>Korea, Republic of</td>\n",
              "      <td>KR</td>\n",
              "      <td>Korea, Republic of</td>\n",
              "      <td>-3</td>\n",
              "      <td>3</td>\n",
              "      <td>10</td>\n",
              "      <td>https://github.com/dr-prodigy/python-holidays</td>\n",
              "    </tr>\n",
              "    <tr>\n",
              "      <th>1</th>\n",
              "      <td>2020-01-25</td>\n",
              "      <td>Lunar New Year's Day</td>\n",
              "      <td>2020-02-01</td>\n",
              "      <td>Korea, Republic of</td>\n",
              "      <td>KR</td>\n",
              "      <td>Korea, Republic of</td>\n",
              "      <td>-3</td>\n",
              "      <td>3</td>\n",
              "      <td>10</td>\n",
              "      <td>https://github.com/dr-prodigy/python-holidays</td>\n",
              "    </tr>\n",
              "    <tr>\n",
              "      <th>2</th>\n",
              "      <td>2020-01-26</td>\n",
              "      <td>The second day of Lunar New Year's Day</td>\n",
              "      <td>2020-02-02</td>\n",
              "      <td>Korea, Republic of</td>\n",
              "      <td>KR</td>\n",
              "      <td>Korea, Republic of</td>\n",
              "      <td>-3</td>\n",
              "      <td>3</td>\n",
              "      <td>10</td>\n",
              "      <td>https://github.com/dr-prodigy/python-holidays</td>\n",
              "    </tr>\n",
              "    <tr>\n",
              "      <th>3</th>\n",
              "      <td>2020-01-27</td>\n",
              "      <td>Alternative holiday of Lunar New Year's Day</td>\n",
              "      <td>2020-02-03</td>\n",
              "      <td>Korea, Republic of</td>\n",
              "      <td>KR</td>\n",
              "      <td>Korea, Republic of</td>\n",
              "      <td>-3</td>\n",
              "      <td>3</td>\n",
              "      <td>10</td>\n",
              "      <td>https://github.com/dr-prodigy/python-holidays</td>\n",
              "    </tr>\n",
              "    <tr>\n",
              "      <th>4</th>\n",
              "      <td>2020-03-01</td>\n",
              "      <td>Independence Movement Day</td>\n",
              "      <td>2020-03-08</td>\n",
              "      <td>Korea, Republic of</td>\n",
              "      <td>KR</td>\n",
              "      <td>Korea, Republic of</td>\n",
              "      <td>-3</td>\n",
              "      <td>3</td>\n",
              "      <td>10</td>\n",
              "      <td>https://github.com/dr-prodigy/python-holidays</td>\n",
              "    </tr>\n",
              "  </tbody>\n",
              "</table>\n",
              "</div>"
            ],
            "text/plain": [
              "  ds_holidays  ...                                         source\n",
              "0  2020-01-24  ...  https://github.com/dr-prodigy/python-holidays\n",
              "1  2020-01-25  ...  https://github.com/dr-prodigy/python-holidays\n",
              "2  2020-01-26  ...  https://github.com/dr-prodigy/python-holidays\n",
              "3  2020-01-27  ...  https://github.com/dr-prodigy/python-holidays\n",
              "4  2020-03-01  ...  https://github.com/dr-prodigy/python-holidays\n",
              "\n",
              "[5 rows x 10 columns]"
            ]
          },
          "metadata": {},
          "execution_count": 14
        }
      ]
    },
    {
      "cell_type": "markdown",
      "metadata": {
        "papermill": {
          "duration": 0.028626,
          "end_time": "2020-08-09T19:17:44.534918",
          "exception": false,
          "start_time": "2020-08-09T19:17:44.506292",
          "status": "completed"
        },
        "tags": [],
        "id": "ZnUdDfyTvf0x"
      },
      "source": [
        "## 3.2. Additional dates of anomalies as holidays<a class=\"anchor\" id=\"3.2\"></a>\n",
        "\n",
        "[Back to Table of Contents](#0.1)"
      ]
    },
    {
      "cell_type": "markdown",
      "metadata": {
        "papermill": {
          "duration": 0.02863,
          "end_time": "2020-08-09T19:17:44.592847",
          "exception": false,
          "start_time": "2020-08-09T19:17:44.564217",
          "status": "completed"
        },
        "tags": [],
        "id": "XQXanmULvf0x"
      },
      "source": [
        "**[COVID-19 Open Data](https://github.com/GoogleCloudPlatform/covid-19-open-data)**"
      ]
    },
    {
      "cell_type": "code",
      "metadata": {
        "execution": {
          "iopub.execute_input": "2020-08-09T19:17:44.665622Z",
          "iopub.status.busy": "2020-08-09T19:17:44.664798Z",
          "iopub.status.idle": "2020-08-09T19:17:44.762311Z",
          "shell.execute_reply": "2020-08-09T19:17:44.761502Z"
        },
        "papermill": {
          "duration": 0.140652,
          "end_time": "2020-08-09T19:17:44.762469",
          "exception": false,
          "start_time": "2020-08-09T19:17:44.621817",
          "status": "completed"
        },
        "tags": [],
        "trusted": true,
        "id": "V8UxTc30vf0x"
      },
      "source": [
        "data = pd.read_csv(f\"https://storage.googleapis.com/covid19-open-data/v2/KR/main.csv\")"
      ],
      "execution_count": 15,
      "outputs": []
    },
    {
      "cell_type": "code",
      "metadata": {
        "colab": {
          "base_uri": "https://localhost:8080/",
          "height": 394
        },
        "id": "hP4j2hX2n_GV",
        "outputId": "90771df0-673d-4288-d244-121a3b96bfca"
      },
      "source": [
        "data.head()"
      ],
      "execution_count": 16,
      "outputs": [
        {
          "output_type": "execute_result",
          "data": {
            "text/html": [
              "<div>\n",
              "<style scoped>\n",
              "    .dataframe tbody tr th:only-of-type {\n",
              "        vertical-align: middle;\n",
              "    }\n",
              "\n",
              "    .dataframe tbody tr th {\n",
              "        vertical-align: top;\n",
              "    }\n",
              "\n",
              "    .dataframe thead th {\n",
              "        text-align: right;\n",
              "    }\n",
              "</style>\n",
              "<table border=\"1\" class=\"dataframe\">\n",
              "  <thead>\n",
              "    <tr style=\"text-align: right;\">\n",
              "      <th></th>\n",
              "      <th>key</th>\n",
              "      <th>date</th>\n",
              "      <th>place_id</th>\n",
              "      <th>wikidata</th>\n",
              "      <th>datacommons</th>\n",
              "      <th>country_code</th>\n",
              "      <th>country_name</th>\n",
              "      <th>subregion1_code</th>\n",
              "      <th>subregion1_name</th>\n",
              "      <th>subregion2_code</th>\n",
              "      <th>subregion2_name</th>\n",
              "      <th>locality_code</th>\n",
              "      <th>locality_name</th>\n",
              "      <th>3166-1-alpha-2</th>\n",
              "      <th>3166-1-alpha-3</th>\n",
              "      <th>aggregation_level</th>\n",
              "      <th>new_confirmed</th>\n",
              "      <th>new_deceased</th>\n",
              "      <th>new_recovered</th>\n",
              "      <th>new_tested</th>\n",
              "      <th>total_confirmed</th>\n",
              "      <th>total_deceased</th>\n",
              "      <th>total_recovered</th>\n",
              "      <th>total_tested</th>\n",
              "      <th>new_hospitalized</th>\n",
              "      <th>total_hospitalized</th>\n",
              "      <th>current_hospitalized</th>\n",
              "      <th>new_intensive_care</th>\n",
              "      <th>total_intensive_care</th>\n",
              "      <th>current_intensive_care</th>\n",
              "      <th>new_ventilator</th>\n",
              "      <th>total_ventilator</th>\n",
              "      <th>current_ventilator</th>\n",
              "      <th>population</th>\n",
              "      <th>population_male</th>\n",
              "      <th>population_female</th>\n",
              "      <th>rural_population</th>\n",
              "      <th>urban_population</th>\n",
              "      <th>largest_city_population</th>\n",
              "      <th>clustered_population</th>\n",
              "      <th>...</th>\n",
              "      <th>hospital_beds</th>\n",
              "      <th>nurses</th>\n",
              "      <th>physicians</th>\n",
              "      <th>health_expenditure</th>\n",
              "      <th>out_of_pocket_health_expenditure</th>\n",
              "      <th>mobility_retail_and_recreation</th>\n",
              "      <th>mobility_grocery_and_pharmacy</th>\n",
              "      <th>mobility_parks</th>\n",
              "      <th>mobility_transit_stations</th>\n",
              "      <th>mobility_workplaces</th>\n",
              "      <th>mobility_residential</th>\n",
              "      <th>school_closing</th>\n",
              "      <th>workplace_closing</th>\n",
              "      <th>cancel_public_events</th>\n",
              "      <th>restrictions_on_gatherings</th>\n",
              "      <th>public_transport_closing</th>\n",
              "      <th>stay_at_home_requirements</th>\n",
              "      <th>restrictions_on_internal_movement</th>\n",
              "      <th>international_travel_controls</th>\n",
              "      <th>income_support</th>\n",
              "      <th>debt_relief</th>\n",
              "      <th>fiscal_measures</th>\n",
              "      <th>international_support</th>\n",
              "      <th>public_information_campaigns</th>\n",
              "      <th>testing_policy</th>\n",
              "      <th>contact_tracing</th>\n",
              "      <th>emergency_investment_in_healthcare</th>\n",
              "      <th>investment_in_vaccines</th>\n",
              "      <th>facial_coverings</th>\n",
              "      <th>vaccination_policy</th>\n",
              "      <th>stringency_index</th>\n",
              "      <th>noaa_station</th>\n",
              "      <th>noaa_distance</th>\n",
              "      <th>average_temperature</th>\n",
              "      <th>minimum_temperature</th>\n",
              "      <th>maximum_temperature</th>\n",
              "      <th>rainfall</th>\n",
              "      <th>snowfall</th>\n",
              "      <th>dew_point</th>\n",
              "      <th>relative_humidity</th>\n",
              "    </tr>\n",
              "  </thead>\n",
              "  <tbody>\n",
              "    <tr>\n",
              "      <th>0</th>\n",
              "      <td>KR</td>\n",
              "      <td>2020-01-01</td>\n",
              "      <td>ChIJm7oRy-tVZDURS9uIugCbJJE</td>\n",
              "      <td>Q884</td>\n",
              "      <td>country/KOR</td>\n",
              "      <td>KR</td>\n",
              "      <td>South Korea</td>\n",
              "      <td>NaN</td>\n",
              "      <td>NaN</td>\n",
              "      <td>NaN</td>\n",
              "      <td>NaN</td>\n",
              "      <td>NaN</td>\n",
              "      <td>NaN</td>\n",
              "      <td>KR</td>\n",
              "      <td>KOR</td>\n",
              "      <td>0</td>\n",
              "      <td>0.0</td>\n",
              "      <td>0.0</td>\n",
              "      <td>NaN</td>\n",
              "      <td>NaN</td>\n",
              "      <td>0.0</td>\n",
              "      <td>0.0</td>\n",
              "      <td>NaN</td>\n",
              "      <td>NaN</td>\n",
              "      <td>NaN</td>\n",
              "      <td>NaN</td>\n",
              "      <td>NaN</td>\n",
              "      <td>NaN</td>\n",
              "      <td>NaN</td>\n",
              "      <td>NaN</td>\n",
              "      <td>NaN</td>\n",
              "      <td>NaN</td>\n",
              "      <td>NaN</td>\n",
              "      <td>51269183</td>\n",
              "      <td>25665854</td>\n",
              "      <td>25603328</td>\n",
              "      <td>9602379</td>\n",
              "      <td>42106719</td>\n",
              "      <td>9962393</td>\n",
              "      <td>25963874</td>\n",
              "      <td>...</td>\n",
              "      <td>11.5</td>\n",
              "      <td>7.3009</td>\n",
              "      <td>2.3608</td>\n",
              "      <td>2283.074707</td>\n",
              "      <td>768.689453</td>\n",
              "      <td>NaN</td>\n",
              "      <td>NaN</td>\n",
              "      <td>NaN</td>\n",
              "      <td>NaN</td>\n",
              "      <td>NaN</td>\n",
              "      <td>NaN</td>\n",
              "      <td>0.0</td>\n",
              "      <td>0.0</td>\n",
              "      <td>0.0</td>\n",
              "      <td>0.0</td>\n",
              "      <td>0.0</td>\n",
              "      <td>0.0</td>\n",
              "      <td>0.0</td>\n",
              "      <td>0.0</td>\n",
              "      <td>0.0</td>\n",
              "      <td>0.0</td>\n",
              "      <td>0.0</td>\n",
              "      <td>0.0</td>\n",
              "      <td>0.0</td>\n",
              "      <td>0.0</td>\n",
              "      <td>0.0</td>\n",
              "      <td>0.0</td>\n",
              "      <td>0.0</td>\n",
              "      <td>0.0</td>\n",
              "      <td>0.0</td>\n",
              "      <td>0.0</td>\n",
              "      <td>4.713510e+10</td>\n",
              "      <td>24.18517</td>\n",
              "      <td>-0.488889</td>\n",
              "      <td>-6.506173</td>\n",
              "      <td>3.870370</td>\n",
              "      <td>0.0</td>\n",
              "      <td>NaN</td>\n",
              "      <td>-5.422222</td>\n",
              "      <td>69.894145</td>\n",
              "    </tr>\n",
              "    <tr>\n",
              "      <th>1</th>\n",
              "      <td>KR</td>\n",
              "      <td>2020-01-02</td>\n",
              "      <td>ChIJm7oRy-tVZDURS9uIugCbJJE</td>\n",
              "      <td>Q884</td>\n",
              "      <td>country/KOR</td>\n",
              "      <td>KR</td>\n",
              "      <td>South Korea</td>\n",
              "      <td>NaN</td>\n",
              "      <td>NaN</td>\n",
              "      <td>NaN</td>\n",
              "      <td>NaN</td>\n",
              "      <td>NaN</td>\n",
              "      <td>NaN</td>\n",
              "      <td>KR</td>\n",
              "      <td>KOR</td>\n",
              "      <td>0</td>\n",
              "      <td>0.0</td>\n",
              "      <td>0.0</td>\n",
              "      <td>NaN</td>\n",
              "      <td>NaN</td>\n",
              "      <td>0.0</td>\n",
              "      <td>0.0</td>\n",
              "      <td>NaN</td>\n",
              "      <td>NaN</td>\n",
              "      <td>NaN</td>\n",
              "      <td>NaN</td>\n",
              "      <td>NaN</td>\n",
              "      <td>NaN</td>\n",
              "      <td>NaN</td>\n",
              "      <td>NaN</td>\n",
              "      <td>NaN</td>\n",
              "      <td>NaN</td>\n",
              "      <td>NaN</td>\n",
              "      <td>51269183</td>\n",
              "      <td>25665854</td>\n",
              "      <td>25603328</td>\n",
              "      <td>9602379</td>\n",
              "      <td>42106719</td>\n",
              "      <td>9962393</td>\n",
              "      <td>25963874</td>\n",
              "      <td>...</td>\n",
              "      <td>11.5</td>\n",
              "      <td>7.3009</td>\n",
              "      <td>2.3608</td>\n",
              "      <td>2283.074707</td>\n",
              "      <td>768.689453</td>\n",
              "      <td>NaN</td>\n",
              "      <td>NaN</td>\n",
              "      <td>NaN</td>\n",
              "      <td>NaN</td>\n",
              "      <td>NaN</td>\n",
              "      <td>NaN</td>\n",
              "      <td>0.0</td>\n",
              "      <td>0.0</td>\n",
              "      <td>0.0</td>\n",
              "      <td>0.0</td>\n",
              "      <td>0.0</td>\n",
              "      <td>0.0</td>\n",
              "      <td>0.0</td>\n",
              "      <td>0.0</td>\n",
              "      <td>0.0</td>\n",
              "      <td>0.0</td>\n",
              "      <td>0.0</td>\n",
              "      <td>0.0</td>\n",
              "      <td>0.0</td>\n",
              "      <td>0.0</td>\n",
              "      <td>0.0</td>\n",
              "      <td>0.0</td>\n",
              "      <td>0.0</td>\n",
              "      <td>0.0</td>\n",
              "      <td>0.0</td>\n",
              "      <td>0.0</td>\n",
              "      <td>4.713510e+10</td>\n",
              "      <td>24.18517</td>\n",
              "      <td>1.861111</td>\n",
              "      <td>-2.894444</td>\n",
              "      <td>5.388889</td>\n",
              "      <td>0.0</td>\n",
              "      <td>NaN</td>\n",
              "      <td>-3.400000</td>\n",
              "      <td>68.549224</td>\n",
              "    </tr>\n",
              "    <tr>\n",
              "      <th>2</th>\n",
              "      <td>KR</td>\n",
              "      <td>2020-01-03</td>\n",
              "      <td>ChIJm7oRy-tVZDURS9uIugCbJJE</td>\n",
              "      <td>Q884</td>\n",
              "      <td>country/KOR</td>\n",
              "      <td>KR</td>\n",
              "      <td>South Korea</td>\n",
              "      <td>NaN</td>\n",
              "      <td>NaN</td>\n",
              "      <td>NaN</td>\n",
              "      <td>NaN</td>\n",
              "      <td>NaN</td>\n",
              "      <td>NaN</td>\n",
              "      <td>KR</td>\n",
              "      <td>KOR</td>\n",
              "      <td>0</td>\n",
              "      <td>0.0</td>\n",
              "      <td>0.0</td>\n",
              "      <td>NaN</td>\n",
              "      <td>NaN</td>\n",
              "      <td>0.0</td>\n",
              "      <td>0.0</td>\n",
              "      <td>NaN</td>\n",
              "      <td>NaN</td>\n",
              "      <td>NaN</td>\n",
              "      <td>NaN</td>\n",
              "      <td>NaN</td>\n",
              "      <td>NaN</td>\n",
              "      <td>NaN</td>\n",
              "      <td>NaN</td>\n",
              "      <td>NaN</td>\n",
              "      <td>NaN</td>\n",
              "      <td>NaN</td>\n",
              "      <td>51269183</td>\n",
              "      <td>25665854</td>\n",
              "      <td>25603328</td>\n",
              "      <td>9602379</td>\n",
              "      <td>42106719</td>\n",
              "      <td>9962393</td>\n",
              "      <td>25963874</td>\n",
              "      <td>...</td>\n",
              "      <td>11.5</td>\n",
              "      <td>7.3009</td>\n",
              "      <td>2.3608</td>\n",
              "      <td>2283.074707</td>\n",
              "      <td>768.689453</td>\n",
              "      <td>NaN</td>\n",
              "      <td>NaN</td>\n",
              "      <td>NaN</td>\n",
              "      <td>NaN</td>\n",
              "      <td>NaN</td>\n",
              "      <td>NaN</td>\n",
              "      <td>0.0</td>\n",
              "      <td>0.0</td>\n",
              "      <td>0.0</td>\n",
              "      <td>0.0</td>\n",
              "      <td>0.0</td>\n",
              "      <td>0.0</td>\n",
              "      <td>0.0</td>\n",
              "      <td>0.0</td>\n",
              "      <td>0.0</td>\n",
              "      <td>0.0</td>\n",
              "      <td>0.0</td>\n",
              "      <td>0.0</td>\n",
              "      <td>0.0</td>\n",
              "      <td>0.0</td>\n",
              "      <td>0.0</td>\n",
              "      <td>0.0</td>\n",
              "      <td>0.0</td>\n",
              "      <td>0.0</td>\n",
              "      <td>0.0</td>\n",
              "      <td>0.0</td>\n",
              "      <td>4.713510e+10</td>\n",
              "      <td>24.18517</td>\n",
              "      <td>1.072222</td>\n",
              "      <td>-3.855556</td>\n",
              "      <td>6.994444</td>\n",
              "      <td>0.0</td>\n",
              "      <td>NaN</td>\n",
              "      <td>-5.400000</td>\n",
              "      <td>62.730600</td>\n",
              "    </tr>\n",
              "    <tr>\n",
              "      <th>3</th>\n",
              "      <td>KR</td>\n",
              "      <td>2020-01-04</td>\n",
              "      <td>ChIJm7oRy-tVZDURS9uIugCbJJE</td>\n",
              "      <td>Q884</td>\n",
              "      <td>country/KOR</td>\n",
              "      <td>KR</td>\n",
              "      <td>South Korea</td>\n",
              "      <td>NaN</td>\n",
              "      <td>NaN</td>\n",
              "      <td>NaN</td>\n",
              "      <td>NaN</td>\n",
              "      <td>NaN</td>\n",
              "      <td>NaN</td>\n",
              "      <td>KR</td>\n",
              "      <td>KOR</td>\n",
              "      <td>0</td>\n",
              "      <td>0.0</td>\n",
              "      <td>0.0</td>\n",
              "      <td>NaN</td>\n",
              "      <td>NaN</td>\n",
              "      <td>0.0</td>\n",
              "      <td>0.0</td>\n",
              "      <td>NaN</td>\n",
              "      <td>NaN</td>\n",
              "      <td>NaN</td>\n",
              "      <td>NaN</td>\n",
              "      <td>NaN</td>\n",
              "      <td>NaN</td>\n",
              "      <td>NaN</td>\n",
              "      <td>NaN</td>\n",
              "      <td>NaN</td>\n",
              "      <td>NaN</td>\n",
              "      <td>NaN</td>\n",
              "      <td>51269183</td>\n",
              "      <td>25665854</td>\n",
              "      <td>25603328</td>\n",
              "      <td>9602379</td>\n",
              "      <td>42106719</td>\n",
              "      <td>9962393</td>\n",
              "      <td>25963874</td>\n",
              "      <td>...</td>\n",
              "      <td>11.5</td>\n",
              "      <td>7.3009</td>\n",
              "      <td>2.3608</td>\n",
              "      <td>2283.074707</td>\n",
              "      <td>768.689453</td>\n",
              "      <td>NaN</td>\n",
              "      <td>NaN</td>\n",
              "      <td>NaN</td>\n",
              "      <td>NaN</td>\n",
              "      <td>NaN</td>\n",
              "      <td>NaN</td>\n",
              "      <td>0.0</td>\n",
              "      <td>0.0</td>\n",
              "      <td>0.0</td>\n",
              "      <td>0.0</td>\n",
              "      <td>0.0</td>\n",
              "      <td>0.0</td>\n",
              "      <td>0.0</td>\n",
              "      <td>0.0</td>\n",
              "      <td>0.0</td>\n",
              "      <td>0.0</td>\n",
              "      <td>0.0</td>\n",
              "      <td>0.0</td>\n",
              "      <td>0.0</td>\n",
              "      <td>0.0</td>\n",
              "      <td>0.0</td>\n",
              "      <td>0.0</td>\n",
              "      <td>0.0</td>\n",
              "      <td>0.0</td>\n",
              "      <td>0.0</td>\n",
              "      <td>0.0</td>\n",
              "      <td>4.713510e+10</td>\n",
              "      <td>24.18517</td>\n",
              "      <td>0.320988</td>\n",
              "      <td>-5.888889</td>\n",
              "      <td>7.080247</td>\n",
              "      <td>0.0</td>\n",
              "      <td>NaN</td>\n",
              "      <td>-5.216049</td>\n",
              "      <td>66.906845</td>\n",
              "    </tr>\n",
              "    <tr>\n",
              "      <th>4</th>\n",
              "      <td>KR</td>\n",
              "      <td>2020-01-05</td>\n",
              "      <td>ChIJm7oRy-tVZDURS9uIugCbJJE</td>\n",
              "      <td>Q884</td>\n",
              "      <td>country/KOR</td>\n",
              "      <td>KR</td>\n",
              "      <td>South Korea</td>\n",
              "      <td>NaN</td>\n",
              "      <td>NaN</td>\n",
              "      <td>NaN</td>\n",
              "      <td>NaN</td>\n",
              "      <td>NaN</td>\n",
              "      <td>NaN</td>\n",
              "      <td>KR</td>\n",
              "      <td>KOR</td>\n",
              "      <td>0</td>\n",
              "      <td>0.0</td>\n",
              "      <td>0.0</td>\n",
              "      <td>NaN</td>\n",
              "      <td>NaN</td>\n",
              "      <td>0.0</td>\n",
              "      <td>0.0</td>\n",
              "      <td>NaN</td>\n",
              "      <td>NaN</td>\n",
              "      <td>NaN</td>\n",
              "      <td>NaN</td>\n",
              "      <td>NaN</td>\n",
              "      <td>NaN</td>\n",
              "      <td>NaN</td>\n",
              "      <td>NaN</td>\n",
              "      <td>NaN</td>\n",
              "      <td>NaN</td>\n",
              "      <td>NaN</td>\n",
              "      <td>51269183</td>\n",
              "      <td>25665854</td>\n",
              "      <td>25603328</td>\n",
              "      <td>9602379</td>\n",
              "      <td>42106719</td>\n",
              "      <td>9962393</td>\n",
              "      <td>25963874</td>\n",
              "      <td>...</td>\n",
              "      <td>11.5</td>\n",
              "      <td>7.3009</td>\n",
              "      <td>2.3608</td>\n",
              "      <td>2283.074707</td>\n",
              "      <td>768.689453</td>\n",
              "      <td>NaN</td>\n",
              "      <td>NaN</td>\n",
              "      <td>NaN</td>\n",
              "      <td>NaN</td>\n",
              "      <td>NaN</td>\n",
              "      <td>NaN</td>\n",
              "      <td>0.0</td>\n",
              "      <td>0.0</td>\n",
              "      <td>0.0</td>\n",
              "      <td>0.0</td>\n",
              "      <td>0.0</td>\n",
              "      <td>0.0</td>\n",
              "      <td>0.0</td>\n",
              "      <td>0.0</td>\n",
              "      <td>0.0</td>\n",
              "      <td>0.0</td>\n",
              "      <td>0.0</td>\n",
              "      <td>0.0</td>\n",
              "      <td>0.0</td>\n",
              "      <td>0.0</td>\n",
              "      <td>0.0</td>\n",
              "      <td>0.0</td>\n",
              "      <td>0.0</td>\n",
              "      <td>0.0</td>\n",
              "      <td>0.0</td>\n",
              "      <td>0.0</td>\n",
              "      <td>4.713510e+10</td>\n",
              "      <td>24.18517</td>\n",
              "      <td>1.209877</td>\n",
              "      <td>-5.123457</td>\n",
              "      <td>8.271605</td>\n",
              "      <td>0.0</td>\n",
              "      <td>NaN</td>\n",
              "      <td>-6.728395</td>\n",
              "      <td>56.087381</td>\n",
              "    </tr>\n",
              "  </tbody>\n",
              "</table>\n",
              "<p>5 rows × 111 columns</p>\n",
              "</div>"
            ],
            "text/plain": [
              "  key        date  ... dew_point relative_humidity\n",
              "0  KR  2020-01-01  ... -5.422222         69.894145\n",
              "1  KR  2020-01-02  ... -3.400000         68.549224\n",
              "2  KR  2020-01-03  ... -5.400000         62.730600\n",
              "3  KR  2020-01-04  ... -5.216049         66.906845\n",
              "4  KR  2020-01-05  ... -6.728395         56.087381\n",
              "\n",
              "[5 rows x 111 columns]"
            ]
          },
          "metadata": {},
          "execution_count": 16
        }
      ]
    },
    {
      "cell_type": "code",
      "metadata": {
        "colab": {
          "base_uri": "https://localhost:8080/"
        },
        "id": "2Ok-8ITBpKJ-",
        "outputId": "26e12a04-fbd5-4eaa-84b8-93508f8b7925"
      },
      "source": [
        "data.shape"
      ],
      "execution_count": 17,
      "outputs": [
        {
          "output_type": "execute_result",
          "data": {
            "text/plain": [
              "(635, 111)"
            ]
          },
          "metadata": {},
          "execution_count": 17
        }
      ]
    },
    {
      "cell_type": "code",
      "metadata": {
        "execution": {
          "iopub.execute_input": "2020-08-09T19:17:44.834602Z",
          "iopub.status.busy": "2020-08-09T19:17:44.833778Z",
          "iopub.status.idle": "2020-08-09T19:17:44.836529Z",
          "shell.execute_reply": "2020-08-09T19:17:44.837121Z"
        },
        "papermill": {
          "duration": 0.045406,
          "end_time": "2020-08-09T19:17:44.837292",
          "exception": false,
          "start_time": "2020-08-09T19:17:44.791886",
          "status": "completed"
        },
        "tags": [],
        "trusted": true,
        "id": "LGi587agvf0y"
      },
      "source": [
        "def aux_holidays_df_generator(holidays_df, dates_list, name, source):\n",
        "    last_row = len(holidays_df)\n",
        "    holidays_dates = holidays_df['ds_holidays'].tolist()\n",
        "    common_dates = list(set(holidays_dates).intersection(set(dates_list)))\n",
        "    dates_list = list(set(dates_list).difference(set(common_dates)))\n",
        "    for i in range(len(dates_list)):\n",
        "        holidays_df = holidays_df.append([holidays_df.loc[last_row-1,:]], ignore_index=True)\n",
        "        ds_dt = datetime.strptime(dates_list[i], '%Y-%m-%d')\n",
        "        holidays_df.loc[last_row+i, 'ds_holidays'] = dates_list[i]\n",
        "        holidays_df.loc[last_row+i, 'holiday'] = name\n",
        "        holidays_df.loc[last_row+i, 'ds'] = (ds_dt + timedelta(days=7)).strftime('%Y-%m-%d')\n",
        "        holidays_df.loc[last_row+i, 'source'] = source\n",
        "        \n",
        "    return holidays_df.sort_values(by=['ds_holidays'])"
      ],
      "execution_count": 19,
      "outputs": []
    },
    {
      "cell_type": "code",
      "metadata": {
        "execution": {
          "iopub.execute_input": "2020-08-09T19:17:44.91191Z",
          "iopub.status.busy": "2020-08-09T19:17:44.911106Z",
          "iopub.status.idle": "2020-08-09T19:17:44.913982Z",
          "shell.execute_reply": "2020-08-09T19:17:44.914582Z"
        },
        "papermill": {
          "duration": 0.047585,
          "end_time": "2020-08-09T19:17:44.914762",
          "exception": false,
          "start_time": "2020-08-09T19:17:44.867177",
          "status": "completed"
        },
        "tags": [],
        "trusted": true,
        "id": "Vad7o0XCvf0y"
      },
      "source": [
        "def plot_with_anomalies(df, cols_y_list, cols_y_list_name, dates_x, col_anomalies, val_anomal, log_y=False):\n",
        "\n",
        "    fig = px.line(df, x=dates_x, y=cols_y_list[0], title=cols_y_list_name[cols_y_list[0]], log_y=log_y, template='gridon',width=1000, height=600)\n",
        "    for i in range(len(cols_y_list)-1):\n",
        "        fig.add_trace(go.Scatter(x=df[dates_x], y=df[cols_y_list[i+1]], mode='lines', name=cols_y_list_name[cols_y_list[i+1]]))\n",
        "    \n",
        "    anomal_dates_list = df[df[col_anomalies] == val_anomal][dates_x].tolist()\n",
        "    y_max = df[cols_y_list[0]].max()\n",
        "    y_min = min(df[cols_y_list[0]].min(),0)\n",
        "    for i in range(len(anomal_dates_list)):\n",
        "        anomal_date = anomal_dates_list[i]\n",
        "        fig.add_shape(dict(type=\"line\", x0=anomal_date, y0=y_min, x1=anomal_date, y1=y_max, line=dict(color=\"red\", width=1)))\n",
        "    fig.show()"
      ],
      "execution_count": 20,
      "outputs": []
    },
    {
      "cell_type": "markdown",
      "metadata": {
        "papermill": {
          "duration": 0.084534,
          "end_time": "2020-08-09T19:17:45.028232",
          "exception": false,
          "start_time": "2020-08-09T19:17:44.943698",
          "status": "completed"
        },
        "tags": [],
        "id": "zHe_w1cwvf0y"
      },
      "source": [
        "### 3.2.1. The weakening of quarantine<a class=\"anchor\" id=\"3.2.1\"></a>\n",
        "\n",
        "[Back to Table of Contents](#0.1)"
      ]
    },
    {
      "cell_type": "markdown",
      "metadata": {
        "papermill": {
          "duration": 0.028205,
          "end_time": "2020-08-09T19:17:45.086057",
          "exception": false,
          "start_time": "2020-08-09T19:17:45.057852",
          "status": "completed"
        },
        "tags": [],
        "id": "EKih-VJNvf0y"
      },
      "source": [
        "* [COVID-19 Open Data](https://github.com/GoogleCloudPlatform/covid-19-open-data)\n",
        "* [Oxford COVID-19 government response tracker](https://www.bsg.ox.ac.uk/research/research-projects/oxford-covid-19-government-response-tracker)"
      ]
    },
    {
      "cell_type": "markdown",
      "metadata": {
        "id": "haocqHYrtUSn"
      },
      "source": [
        "엄격성 지수(stringency_index): 학교·직장 폐쇄, 공공행사 취소, 여행 금지 등 이동 및 경제활동 제약을 나타내는 지수"
      ]
    },
    {
      "cell_type": "code",
      "metadata": {
        "execution": {
          "iopub.execute_input": "2020-08-09T19:17:45.221061Z",
          "iopub.status.busy": "2020-08-09T19:17:45.196298Z",
          "iopub.status.idle": "2020-08-09T19:17:45.623681Z",
          "shell.execute_reply": "2020-08-09T19:17:45.624256Z"
        },
        "papermill": {
          "duration": 0.509807,
          "end_time": "2020-08-09T19:17:45.624497",
          "exception": false,
          "start_time": "2020-08-09T19:17:45.11469",
          "status": "completed"
        },
        "tags": [],
        "trusted": true,
        "colab": {
          "base_uri": "https://localhost:8080/",
          "height": 617
        },
        "id": "E0ToPVdUvf0y",
        "outputId": "9d6ba386-e358-4cd9-9bb4-42d929d266b8"
      },
      "source": [
        "data['stringency_index_jump'] = 0\n",
        "for i in range(len(data)-1):\n",
        "    if (data.loc[i+1,'stringency_index'] is not None) and (data.loc[i,'stringency_index'] is not None) and (data.loc[i+1,'stringency_index'] < data.loc[i,'stringency_index']):\n",
        "        data.loc[i+1, 'stringency_index_jump'] = 1\n",
        "source_gov = 'https://www.bsg.ox.ac.uk/research/research-projects/oxford-covid-19-government-response-tracker'\n",
        "dates_gov_list = data[data['stringency_index_jump'] == 1]['date'].tolist()\n",
        "holidays_df = aux_holidays_df_generator(holidays_df, dates_gov_list, 'the weakening of quarantine', source_gov)\n",
        "plot_with_anomalies(data, [\"stringency_index\"], {\"stringency_index\" : \"Stringency index and dates of the weakening of quarantine in \" + country_main}, 'date', 'stringency_index_jump', 1)"
      ],
      "execution_count": 21,
      "outputs": [
        {
          "output_type": "display_data",
          "data": {
            "text/html": [
              "<html>\n",
              "<head><meta charset=\"utf-8\" /></head>\n",
              "<body>\n",
              "    <div>\n",
              "            <script src=\"https://cdnjs.cloudflare.com/ajax/libs/mathjax/2.7.5/MathJax.js?config=TeX-AMS-MML_SVG\"></script><script type=\"text/javascript\">if (window.MathJax) {MathJax.Hub.Config({SVG: {font: \"STIX-Web\"}});}</script>\n",
              "                <script type=\"text/javascript\">window.PlotlyConfig = {MathJaxConfig: 'local'};</script>\n",
              "        <script src=\"https://cdn.plot.ly/plotly-latest.min.js\"></script>    \n",
              "            <div id=\"f8210859-6b30-4f2f-a66c-356ea1fd1685\" class=\"plotly-graph-div\" style=\"height:600px; width:1000px;\"></div>\n",
              "            <script type=\"text/javascript\">\n",
              "                \n",
              "                    window.PLOTLYENV=window.PLOTLYENV || {};\n",
              "                    \n",
              "                if (document.getElementById(\"f8210859-6b30-4f2f-a66c-356ea1fd1685\")) {\n",
              "                    Plotly.newPlot(\n",
              "                        'f8210859-6b30-4f2f-a66c-356ea1fd1685',\n",
              "                        [{\"hoverlabel\": {\"namelength\": 0}, \"hovertemplate\": \"date=%{x}<br>stringency_index=%{y}\", \"legendgroup\": \"\", \"line\": {\"color\": \"#1F77B4\", \"dash\": \"solid\"}, \"mode\": \"lines\", \"name\": \"\", \"showlegend\": false, \"type\": \"scatter\", \"x\": [\"2020-01-01\", \"2020-01-02\", \"2020-01-03\", \"2020-01-04\", \"2020-01-05\", \"2020-01-06\", \"2020-01-07\", \"2020-01-08\", \"2020-01-09\", \"2020-01-10\", \"2020-01-11\", \"2020-01-12\", \"2020-01-13\", \"2020-01-14\", \"2020-01-15\", \"2020-01-16\", \"2020-01-17\", \"2020-01-18\", \"2020-01-19\", \"2020-01-20\", \"2020-01-21\", \"2020-01-22\", \"2020-01-23\", \"2020-01-24\", \"2020-01-25\", \"2020-01-26\", \"2020-01-27\", \"2020-01-28\", \"2020-01-29\", \"2020-01-30\", \"2020-01-31\", \"2020-02-01\", \"2020-02-02\", \"2020-02-03\", \"2020-02-04\", \"2020-02-05\", \"2020-02-06\", \"2020-02-07\", \"2020-02-08\", \"2020-02-09\", \"2020-02-10\", \"2020-02-11\", \"2020-02-12\", \"2020-02-13\", \"2020-02-14\", \"2020-02-15\", \"2020-02-16\", \"2020-02-17\", \"2020-02-18\", \"2020-02-19\", \"2020-02-20\", \"2020-02-21\", \"2020-02-22\", \"2020-02-23\", \"2020-02-24\", \"2020-02-25\", \"2020-02-26\", \"2020-02-27\", \"2020-02-28\", \"2020-02-29\", \"2020-03-01\", \"2020-03-02\", \"2020-03-03\", \"2020-03-04\", \"2020-03-05\", \"2020-03-06\", \"2020-03-07\", \"2020-03-08\", \"2020-03-09\", \"2020-03-10\", \"2020-03-11\", \"2020-03-12\", \"2020-03-13\", \"2020-03-14\", \"2020-03-15\", \"2020-03-16\", \"2020-03-17\", \"2020-03-18\", \"2020-03-19\", \"2020-03-20\", \"2020-03-21\", \"2020-03-22\", \"2020-03-23\", \"2020-03-24\", \"2020-03-25\", \"2020-03-26\", \"2020-03-27\", \"2020-03-28\", \"2020-03-29\", \"2020-03-30\", \"2020-03-31\", \"2020-04-01\", \"2020-04-02\", \"2020-04-03\", \"2020-04-04\", \"2020-04-05\", \"2020-04-06\", \"2020-04-07\", \"2020-04-08\", \"2020-04-09\", \"2020-04-10\", \"2020-04-11\", \"2020-04-12\", \"2020-04-13\", \"2020-04-14\", \"2020-04-15\", \"2020-04-16\", \"2020-04-17\", \"2020-04-18\", \"2020-04-19\", \"2020-04-20\", \"2020-04-21\", \"2020-04-22\", \"2020-04-23\", \"2020-04-24\", \"2020-04-25\", \"2020-04-26\", \"2020-04-27\", \"2020-04-28\", \"2020-04-29\", \"2020-04-30\", \"2020-05-01\", \"2020-05-02\", \"2020-05-03\", \"2020-05-04\", \"2020-05-05\", \"2020-05-06\", \"2020-05-07\", \"2020-05-08\", \"2020-05-09\", \"2020-05-10\", \"2020-05-11\", \"2020-05-12\", \"2020-05-13\", \"2020-05-14\", \"2020-05-15\", \"2020-05-16\", \"2020-05-17\", \"2020-05-18\", \"2020-05-19\", \"2020-05-20\", \"2020-05-21\", \"2020-05-22\", \"2020-05-23\", \"2020-05-24\", \"2020-05-25\", \"2020-05-26\", \"2020-05-27\", \"2020-05-28\", \"2020-05-29\", \"2020-05-30\", \"2020-05-31\", \"2020-06-01\", \"2020-06-02\", \"2020-06-03\", \"2020-06-04\", \"2020-06-05\", \"2020-06-06\", \"2020-06-07\", \"2020-06-08\", \"2020-06-09\", \"2020-06-10\", \"2020-06-11\", \"2020-06-12\", \"2020-06-13\", \"2020-06-14\", \"2020-06-15\", \"2020-06-16\", \"2020-06-17\", \"2020-06-18\", \"2020-06-19\", \"2020-06-20\", \"2020-06-21\", \"2020-06-22\", \"2020-06-23\", \"2020-06-24\", \"2020-06-25\", \"2020-06-26\", \"2020-06-27\", \"2020-06-28\", \"2020-06-29\", \"2020-06-30\", \"2020-07-01\", \"2020-07-02\", \"2020-07-03\", \"2020-07-04\", \"2020-07-05\", \"2020-07-06\", \"2020-07-07\", \"2020-07-08\", \"2020-07-09\", \"2020-07-10\", \"2020-07-11\", \"2020-07-12\", \"2020-07-13\", \"2020-07-14\", \"2020-07-15\", \"2020-07-16\", \"2020-07-17\", \"2020-07-18\", \"2020-07-19\", \"2020-07-20\", \"2020-07-21\", \"2020-07-22\", \"2020-07-23\", \"2020-07-24\", \"2020-07-25\", \"2020-07-26\", \"2020-07-27\", \"2020-07-28\", \"2020-07-29\", \"2020-07-30\", \"2020-07-31\", \"2020-08-01\", \"2020-08-02\", \"2020-08-03\", \"2020-08-04\", \"2020-08-05\", \"2020-08-06\", \"2020-08-07\", \"2020-08-08\", \"2020-08-09\", \"2020-08-10\", \"2020-08-11\", \"2020-08-12\", \"2020-08-13\", \"2020-08-14\", \"2020-08-15\", \"2020-08-16\", \"2020-08-17\", \"2020-08-18\", \"2020-08-19\", \"2020-08-20\", \"2020-08-21\", \"2020-08-22\", \"2020-08-23\", \"2020-08-24\", \"2020-08-25\", \"2020-08-26\", \"2020-08-27\", \"2020-08-28\", \"2020-08-29\", \"2020-08-30\", \"2020-08-31\", \"2020-09-01\", \"2020-09-02\", \"2020-09-03\", \"2020-09-04\", \"2020-09-05\", \"2020-09-06\", \"2020-09-07\", \"2020-09-08\", \"2020-09-09\", \"2020-09-10\", \"2020-09-11\", \"2020-09-12\", \"2020-09-13\", \"2020-09-14\", \"2020-09-15\", \"2020-09-16\", \"2020-09-17\", \"2020-09-18\", \"2020-09-19\", \"2020-09-20\", \"2020-09-21\", \"2020-09-22\", \"2020-09-23\", \"2020-09-24\", \"2020-09-25\", \"2020-09-26\", \"2020-09-27\", \"2020-09-28\", \"2020-09-29\", \"2020-09-30\", \"2020-10-01\", \"2020-10-02\", \"2020-10-03\", \"2020-10-04\", \"2020-10-05\", \"2020-10-06\", \"2020-10-07\", \"2020-10-08\", \"2020-10-09\", \"2020-10-10\", \"2020-10-11\", \"2020-10-12\", \"2020-10-13\", \"2020-10-14\", \"2020-10-15\", \"2020-10-16\", \"2020-10-17\", \"2020-10-18\", \"2020-10-19\", \"2020-10-20\", \"2020-10-21\", \"2020-10-22\", \"2020-10-23\", \"2020-10-24\", \"2020-10-25\", \"2020-10-26\", \"2020-10-27\", \"2020-10-28\", \"2020-10-29\", \"2020-10-30\", \"2020-10-31\", \"2020-11-01\", \"2020-11-02\", \"2020-11-03\", \"2020-11-04\", \"2020-11-05\", \"2020-11-06\", \"2020-11-07\", \"2020-11-08\", \"2020-11-09\", \"2020-11-10\", \"2020-11-11\", \"2020-11-12\", \"2020-11-13\", \"2020-11-14\", \"2020-11-15\", \"2020-11-16\", \"2020-11-17\", \"2020-11-18\", \"2020-11-19\", \"2020-11-20\", \"2020-11-21\", \"2020-11-22\", \"2020-11-23\", \"2020-11-24\", \"2020-11-25\", \"2020-11-26\", \"2020-11-27\", \"2020-11-28\", \"2020-11-29\", \"2020-11-30\", \"2020-12-01\", \"2020-12-02\", \"2020-12-03\", \"2020-12-04\", \"2020-12-05\", \"2020-12-06\", \"2020-12-07\", \"2020-12-08\", \"2020-12-09\", \"2020-12-10\", \"2020-12-11\", \"2020-12-12\", \"2020-12-13\", \"2020-12-14\", \"2020-12-15\", \"2020-12-16\", \"2020-12-17\", \"2020-12-18\", \"2020-12-19\", \"2020-12-20\", \"2020-12-21\", \"2020-12-22\", \"2020-12-23\", \"2020-12-24\", \"2020-12-25\", \"2020-12-26\", \"2020-12-27\", \"2020-12-28\", \"2020-12-29\", \"2020-12-30\", \"2020-12-31\", \"2021-01-01\", \"2021-01-02\", \"2021-01-03\", \"2021-01-04\", \"2021-01-05\", \"2021-01-06\", \"2021-01-07\", \"2021-01-08\", \"2021-01-09\", \"2021-01-10\", \"2021-01-11\", \"2021-01-12\", \"2021-01-13\", \"2021-01-14\", \"2021-01-15\", \"2021-01-16\", \"2021-01-17\", \"2021-01-18\", \"2021-01-19\", \"2021-01-20\", \"2021-01-21\", \"2021-01-22\", \"2021-01-23\", \"2021-01-24\", \"2021-01-25\", \"2021-01-26\", \"2021-01-27\", \"2021-01-28\", \"2021-01-29\", \"2021-01-30\", \"2021-01-31\", \"2021-02-01\", \"2021-02-02\", \"2021-02-03\", \"2021-02-04\", \"2021-02-05\", \"2021-02-06\", \"2021-02-07\", \"2021-02-08\", \"2021-02-09\", \"2021-02-10\", \"2021-02-11\", \"2021-02-12\", \"2021-02-13\", \"2021-02-14\", \"2021-02-15\", \"2021-02-16\", \"2021-02-17\", \"2021-02-18\", \"2021-02-19\", \"2021-02-20\", \"2021-02-21\", \"2021-02-22\", \"2021-02-23\", \"2021-02-24\", \"2021-02-25\", \"2021-02-26\", \"2021-02-27\", \"2021-02-28\", \"2021-03-01\", \"2021-03-02\", \"2021-03-03\", \"2021-03-04\", \"2021-03-05\", \"2021-03-06\", \"2021-03-07\", \"2021-03-08\", \"2021-03-09\", \"2021-03-10\", \"2021-03-11\", \"2021-03-12\", \"2021-03-13\", \"2021-03-14\", \"2021-03-15\", \"2021-03-16\", \"2021-03-17\", \"2021-03-18\", \"2021-03-19\", \"2021-03-20\", \"2021-03-21\", \"2021-03-22\", \"2021-03-23\", \"2021-03-24\", \"2021-03-25\", \"2021-03-26\", \"2021-03-27\", \"2021-03-28\", \"2021-03-29\", \"2021-03-30\", \"2021-03-31\", \"2021-04-01\", \"2021-04-02\", \"2021-04-03\", \"2021-04-04\", \"2021-04-05\", \"2021-04-06\", \"2021-04-07\", \"2021-04-08\", \"2021-04-09\", \"2021-04-10\", \"2021-04-11\", \"2021-04-12\", \"2021-04-13\", \"2021-04-14\", \"2021-04-15\", \"2021-04-16\", \"2021-04-17\", \"2021-04-18\", \"2021-04-19\", \"2021-04-20\", \"2021-04-21\", \"2021-04-22\", \"2021-04-23\", \"2021-04-24\", \"2021-04-25\", \"2021-04-26\", \"2021-04-27\", \"2021-04-28\", \"2021-04-29\", \"2021-04-30\", \"2021-05-01\", \"2021-05-02\", \"2021-05-03\", \"2021-05-04\", \"2021-05-05\", \"2021-05-06\", \"2021-05-07\", \"2021-05-08\", \"2021-05-09\", \"2021-05-10\", \"2021-05-11\", \"2021-05-12\", \"2021-05-13\", \"2021-05-14\", \"2021-05-15\", \"2021-05-16\", \"2021-05-17\", \"2021-05-18\", \"2021-05-19\", \"2021-05-20\", \"2021-05-21\", \"2021-05-22\", \"2021-05-23\", \"2021-05-24\", \"2021-05-25\", \"2021-05-26\", \"2021-05-27\", \"2021-05-28\", \"2021-05-29\", \"2021-05-30\", \"2021-05-31\", \"2021-06-01\", \"2021-06-02\", \"2021-06-03\", \"2021-06-04\", \"2021-06-05\", \"2021-06-06\", \"2021-06-07\", \"2021-06-08\", \"2021-06-09\", \"2021-06-10\", \"2021-06-11\", \"2021-06-12\", \"2021-06-13\", \"2021-06-14\", \"2021-06-15\", \"2021-06-16\", \"2021-06-17\", \"2021-06-18\", \"2021-06-19\", \"2021-06-20\", \"2021-06-21\", \"2021-06-22\", \"2021-06-23\", \"2021-06-24\", \"2021-06-25\", \"2021-06-26\", \"2021-06-27\", \"2021-06-28\", \"2021-06-29\", \"2021-06-30\", \"2021-07-01\", \"2021-07-02\", \"2021-07-03\", \"2021-07-04\", \"2021-07-05\", \"2021-07-06\", \"2021-07-07\", \"2021-07-08\", \"2021-07-09\", \"2021-07-10\", \"2021-07-11\", \"2021-07-12\", \"2021-07-13\", \"2021-07-14\", \"2021-07-15\", \"2021-07-16\", \"2021-07-17\", \"2021-07-18\", \"2021-07-19\", \"2021-07-20\", \"2021-07-21\", \"2021-07-22\", \"2021-07-23\", \"2021-07-24\", \"2021-07-25\", \"2021-07-26\", \"2021-07-27\", \"2021-07-28\", \"2021-07-29\", \"2021-07-30\", \"2021-07-31\", \"2021-08-01\", \"2021-08-02\", \"2021-08-03\", \"2021-08-04\", \"2021-08-05\", \"2021-08-06\", \"2021-08-07\", \"2021-08-08\", \"2021-08-09\", \"2021-08-10\", \"2021-08-11\", \"2021-08-12\", \"2021-08-13\", \"2021-08-14\", \"2021-08-15\", \"2021-08-16\", \"2021-08-17\", \"2021-08-18\", \"2021-08-19\", \"2021-08-20\", \"2021-08-21\", \"2021-08-22\", \"2021-08-23\", \"2021-08-24\", \"2021-08-25\", \"2021-08-26\", \"2021-08-27\", \"2021-08-28\", \"2021-08-29\", \"2021-08-30\", \"2021-08-31\", \"2021-09-01\", \"2021-09-02\", \"2021-09-03\", \"2021-09-04\", \"2021-09-05\", \"2021-09-06\", \"2021-09-07\", \"2021-09-08\", \"2021-09-09\", \"2021-09-10\", \"2021-09-11\", \"2021-09-12\", \"2021-09-13\", \"2021-09-14\", \"2021-09-15\", \"2021-09-16\", \"2021-09-17\", \"2021-09-18\", \"2021-09-19\", \"2021-09-20\", \"2021-09-21\", \"2021-09-22\", \"2021-09-23\", \"2021-09-24\", \"2021-09-25\", \"2021-09-26\"], \"xaxis\": \"x\", \"y\": [0.0, 0.0, 0.0, 0.0, 0.0, 0.0, 0.0, 0.0, 0.0, 0.0, 0.0, 0.0, 0.0, 0.0, 0.0, 0.0, 0.0, 0.0, 0.0, 0.0, 0.0, 0.0, 0.0, 0.0, 0.0, 0.0, 0.0, 0.0, 0.0, 0.0, 2.78, 13.89, 13.89, 23.15, 31.48, 31.48, 31.48, 31.48, 31.48, 31.48, 31.48, 31.48, 31.48, 31.48, 31.48, 31.48, 31.48, 31.48, 31.48, 31.48, 31.48, 45.37, 45.37, 50.0, 55.56, 55.56, 55.56, 55.56, 55.56, 55.56, 55.56, 55.56, 55.56, 55.56, 55.56, 55.56, 55.56, 55.56, 55.56, 55.56, 55.56, 55.56, 55.56, 55.56, 55.56, 55.56, 55.56, 55.56, 55.56, 55.56, 69.44, 75.93, 75.93, 75.93, 75.93, 75.93, 75.93, 75.93, 75.93, 75.93, 75.93, 75.93, 75.93, 75.93, 78.7, 78.7, 82.41, 82.41, 82.41, 82.41, 82.41, 82.41, 82.41, 82.41, 82.41, 82.41, 82.41, 82.41, 73.15, 73.15, 43.52, 43.52, 43.52, 43.52, 43.52, 43.52, 43.52, 43.52, 43.52, 43.52, 43.52, 43.52, 43.52, 43.52, 43.52, 43.52, 43.52, 43.52, 43.52, 43.52, 43.52, 43.52, 43.52, 43.52, 43.52, 43.52, 43.52, 43.52, 43.52, 43.52, 39.81, 39.81, 39.81, 39.81, 39.81, 39.81, 39.81, 39.81, 39.81, 55.09, 55.09, 55.09, 55.09, 55.09, 55.09, 55.09, 55.09, 55.09, 55.09, 53.24, 53.24, 53.24, 53.24, 53.24, 53.24, 53.24, 53.24, 53.24, 53.24, 53.24, 53.24, 53.24, 53.24, 53.24, 53.24, 53.24, 53.24, 53.24, 53.24, 53.24, 53.24, 53.24, 53.24, 56.94, 56.94, 53.24, 53.24, 53.24, 53.24, 53.24, 53.24, 53.24, 53.24, 53.24, 53.24, 53.24, 53.24, 53.24, 53.24, 53.24, 53.24, 53.24, 53.24, 53.24, 53.24, 53.24, 53.24, 53.24, 53.24, 53.24, 53.24, 53.24, 53.24, 53.24, 53.24, 53.24, 53.24, 53.24, 53.24, 53.24, 53.24, 53.24, 53.24, 53.24, 53.24, 53.24, 53.24, 53.24, 53.24, 53.24, 53.24, 53.24, 53.24, 53.24, 53.24, 53.24, 53.24, 53.24, 53.24, 53.24, 53.24, 53.24, 53.24, 53.24, 53.24, 50.46, 50.46, 50.46, 50.46, 50.46, 50.46, 50.46, 50.46, 50.46, 50.46, 50.46, 50.46, 50.46, 50.46, 50.46, 50.46, 50.46, 50.46, 50.46, 48.61, 48.61, 48.61, 48.61, 48.61, 48.61, 48.61, 60.19, 60.19, 60.19, 60.19, 60.19, 62.96, 60.19, 65.74, 65.74, 65.74, 65.74, 60.19, 60.19, 60.19, 56.94, 56.94, 56.94, 56.94, 56.94, 56.94, 56.94, 56.94, 56.94, 56.94, 56.94, 56.94, 56.94, 51.39, 51.39, 51.39, 51.39, 51.39, 51.39, 51.39, 51.39, 51.39, 51.39, 51.39, 51.39, 51.39, 51.39, 51.39, 51.39, 51.39, 51.39, 51.39, 51.39, 51.39, 51.39, 51.39, 51.39, 51.39, 51.39, 51.39, 51.39, 51.39, 56.94, 54.17, 54.17, 57.87, 57.87, 57.87, 57.87, 57.87, 60.65, 60.65, 60.65, 60.65, 60.65, 60.65, 60.65, 57.87, 57.87, 57.87, 57.87, 57.87, 57.87, 57.87, 57.87, 57.87, 57.87, 57.87, 57.87, 57.87, 57.87, 61.57, 67.13, 68.98, 68.98, 68.98, 68.98, 68.98, 68.98, 68.98, 68.98, 66.2, 67.59, 67.59, 67.59, 67.59, 67.59, 63.89, 63.89, 63.89, 63.89, 63.89, 63.89, 63.89, 63.89, 63.89, 63.89, 63.89, 63.89, 63.89, 63.89, 63.89, 63.89, 63.89, 63.89, 63.89, 63.89, 63.89, 63.89, 63.89, 63.89, 63.89, 63.89, 63.89, 63.89, 63.89, 63.89, 63.89, 63.89, 63.89, 63.89, 63.89, 63.89, 63.89, 63.89, 63.89, 63.89, 63.89, 63.89, 63.89, 63.89, 63.89, 63.89, 63.89, 63.89, 63.89, 63.89, 63.89, 63.89, 63.89, 58.33, 58.33, 58.33, 58.33, 58.33, 58.33, 58.33, 58.33, 58.33, 58.33, 58.33, 58.33, 58.33, 58.33, 58.33, 58.33, 58.33, 58.33, 58.33, 58.33, 58.33, 58.33, 58.33, 58.33, 58.33, 58.33, 58.33, 58.33, 58.33, 58.33, 58.33, 58.33, 58.33, 58.33, 58.33, 58.33, 58.33, 58.33, 58.33, 58.33, 58.33, 58.33, 58.33, 58.33, 58.33, 58.33, 58.33, 58.33, 58.33, 58.33, 58.33, 58.33, 58.33, 58.33, 58.33, 58.33, 58.33, 58.33, 58.33, 58.33, 58.33, 58.33, 58.33, 52.78, 52.78, 52.78, 50.0, 50.0, 50.0, 50.0, 50.0, 50.0, 50.0, 50.0, 50.0, 50.0, 50.0, 50.0, 50.0, 50.0, 50.0, 50.0, 50.0, 50.0, 50.0, 50.0, 50.0, 50.0, 50.0, 50.0, 50.0, 50.0, 50.0, 50.0, 50.0, 50.0, 50.0, 50.0, 50.0, 50.0, 50.0, 50.0, 50.0, 50.0, 50.0, 50.0, 50.0, 50.0, 50.0, 50.0, 50.0, 50.0, 50.0, 50.0, 50.0, 50.0, 50.0, 50.0, 50.0, 50.0, 50.0, 50.0, 36.57, 36.57, 36.57, 36.57, 36.57, 36.57, 36.57, 36.57, 36.57, 36.57, 36.57, 45.37, 45.37, 45.37, 49.07, 49.07, 49.07, 49.07, 49.07, 49.07, 49.07, 49.07, 49.07, 49.07, 49.07, 49.07, 49.07, 49.07, 49.07, 49.07, 49.07, 49.07, 49.07, 49.07, 49.07, 49.07, 50.93, 50.93, 50.93, 50.93, 50.93, 50.93, 50.93, 50.93, 50.93, 50.93, 50.93, 50.93, 50.93, 50.93, 50.93, 50.93, 50.93, 50.93, 50.93, 50.93, 50.93, 50.93, 50.93, 50.93, 50.93, 50.93, 50.93, 50.93, 50.93, 50.93, 50.93, 47.22, 47.22, 47.22, 47.22, 47.22, 47.22, 47.22, 47.22, 47.22, 47.22, 47.22, 47.22, 47.22, 47.22, 47.22, null, null, null, null, null, null], \"yaxis\": \"y\"}],\n",
              "                        {\"height\": 600, \"legend\": {\"tracegroupgap\": 0}, \"shapes\": [{\"line\": {\"color\": \"red\", \"width\": 1}, \"type\": \"line\", \"x0\": \"2020-04-18\", \"x1\": \"2020-04-18\", \"y0\": 0.0, \"y1\": 82.41}, {\"line\": {\"color\": \"red\", \"width\": 1}, \"type\": \"line\", \"x0\": \"2020-04-20\", \"x1\": \"2020-04-20\", \"y0\": 0.0, \"y1\": 82.41}, {\"line\": {\"color\": \"red\", \"width\": 1}, \"type\": \"line\", \"x0\": \"2020-05-20\", \"x1\": \"2020-05-20\", \"y0\": 0.0, \"y1\": 82.41}, {\"line\": {\"color\": \"red\", \"width\": 1}, \"type\": \"line\", \"x0\": \"2020-06-08\", \"x1\": \"2020-06-08\", \"y0\": 0.0, \"y1\": 82.41}, {\"line\": {\"color\": \"red\", \"width\": 1}, \"type\": \"line\", \"x0\": \"2020-07-04\", \"x1\": \"2020-07-04\", \"y0\": 0.0, \"y1\": 82.41}, {\"line\": {\"color\": \"red\", \"width\": 1}, \"type\": \"line\", \"x0\": \"2020-09-02\", \"x1\": \"2020-09-02\", \"y0\": 0.0, \"y1\": 82.41}, {\"line\": {\"color\": \"red\", \"width\": 1}, \"type\": \"line\", \"x0\": \"2020-09-21\", \"x1\": \"2020-09-21\", \"y0\": 0.0, \"y1\": 82.41}, {\"line\": {\"color\": \"red\", \"width\": 1}, \"type\": \"line\", \"x0\": \"2020-10-04\", \"x1\": \"2020-10-04\", \"y0\": 0.0, \"y1\": 82.41}, {\"line\": {\"color\": \"red\", \"width\": 1}, \"type\": \"line\", \"x0\": \"2020-10-09\", \"x1\": \"2020-10-09\", \"y0\": 0.0, \"y1\": 82.41}, {\"line\": {\"color\": \"red\", \"width\": 1}, \"type\": \"line\", \"x0\": \"2020-10-12\", \"x1\": \"2020-10-12\", \"y0\": 0.0, \"y1\": 82.41}, {\"line\": {\"color\": \"red\", \"width\": 1}, \"type\": \"line\", \"x0\": \"2020-10-25\", \"x1\": \"2020-10-25\", \"y0\": 0.0, \"y1\": 82.41}, {\"line\": {\"color\": \"red\", \"width\": 1}, \"type\": \"line\", \"x0\": \"2020-11-24\", \"x1\": \"2020-11-24\", \"y0\": 0.0, \"y1\": 82.41}, {\"line\": {\"color\": \"red\", \"width\": 1}, \"type\": \"line\", \"x0\": \"2020-12-08\", \"x1\": \"2020-12-08\", \"y0\": 0.0, \"y1\": 82.41}, {\"line\": {\"color\": \"red\", \"width\": 1}, \"type\": \"line\", \"x0\": \"2021-01-01\", \"x1\": \"2021-01-01\", \"y0\": 0.0, \"y1\": 82.41}, {\"line\": {\"color\": \"red\", \"width\": 1}, \"type\": \"line\", \"x0\": \"2021-01-07\", \"x1\": \"2021-01-07\", \"y0\": 0.0, \"y1\": 82.41}, {\"line\": {\"color\": \"red\", \"width\": 1}, \"type\": \"line\", \"x0\": \"2021-03-01\", \"x1\": \"2021-03-01\", \"y0\": 0.0, \"y1\": 82.41}, {\"line\": {\"color\": \"red\", \"width\": 1}, \"type\": \"line\", \"x0\": \"2021-05-03\", \"x1\": \"2021-05-03\", \"y0\": 0.0, \"y1\": 82.41}, {\"line\": {\"color\": \"red\", \"width\": 1}, \"type\": \"line\", \"x0\": \"2021-05-06\", \"x1\": \"2021-05-06\", \"y0\": 0.0, \"y1\": 82.41}, {\"line\": {\"color\": \"red\", \"width\": 1}, \"type\": \"line\", \"x0\": \"2021-07-01\", \"x1\": \"2021-07-01\", \"y0\": 0.0, \"y1\": 82.41}, {\"line\": {\"color\": \"red\", \"width\": 1}, \"type\": \"line\", \"x0\": \"2021-09-06\", \"x1\": \"2021-09-06\", \"y0\": 0.0, \"y1\": 82.41}], \"template\": {\"data\": {\"pie\": [{\"automargin\": true, \"type\": \"pie\"}]}, \"layout\": {\"xaxis\": {\"showgrid\": true, \"title\": {\"standoff\": 15}}, \"yaxis\": {\"showgrid\": true, \"title\": {\"standoff\": 15}}}}, \"title\": {\"text\": \"Stringency index and dates of the weakening of quarantine in Korea, Republic of\"}, \"width\": 1000, \"xaxis\": {\"anchor\": \"y\", \"domain\": [0.0, 1.0], \"title\": {\"text\": \"date\"}}, \"yaxis\": {\"anchor\": \"x\", \"domain\": [0.0, 1.0], \"title\": {\"text\": \"stringency_index\"}}},\n",
              "                        {\"responsive\": true}\n",
              "                    ).then(function(){\n",
              "                            \n",
              "var gd = document.getElementById('f8210859-6b30-4f2f-a66c-356ea1fd1685');\n",
              "var x = new MutationObserver(function (mutations, observer) {{\n",
              "        var display = window.getComputedStyle(gd).display;\n",
              "        if (!display || display === 'none') {{\n",
              "            console.log([gd, 'removed!']);\n",
              "            Plotly.purge(gd);\n",
              "            observer.disconnect();\n",
              "        }}\n",
              "}});\n",
              "\n",
              "// Listen for the removal of the full notebook cells\n",
              "var notebookContainer = gd.closest('#notebook-container');\n",
              "if (notebookContainer) {{\n",
              "    x.observe(notebookContainer, {childList: true});\n",
              "}}\n",
              "\n",
              "// Listen for the clearing of the current output cell\n",
              "var outputEl = gd.closest('.output');\n",
              "if (outputEl) {{\n",
              "    x.observe(outputEl, {childList: true});\n",
              "}}\n",
              "\n",
              "                        })\n",
              "                };\n",
              "                \n",
              "            </script>\n",
              "        </div>\n",
              "</body>\n",
              "</html>"
            ]
          },
          "metadata": {}
        }
      ]
    },
    {
      "cell_type": "code",
      "metadata": {
        "colab": {
          "base_uri": "https://localhost:8080/",
          "height": 206
        },
        "id": "fqXSIQ6917Nv",
        "outputId": "61fc09c7-7f1f-4993-ac56-9f0b1cef9251"
      },
      "source": [
        "df.head()"
      ],
      "execution_count": 22,
      "outputs": [
        {
          "output_type": "execute_result",
          "data": {
            "text/html": [
              "<div>\n",
              "<style scoped>\n",
              "    .dataframe tbody tr th:only-of-type {\n",
              "        vertical-align: middle;\n",
              "    }\n",
              "\n",
              "    .dataframe tbody tr th {\n",
              "        vertical-align: top;\n",
              "    }\n",
              "\n",
              "    .dataframe thead th {\n",
              "        text-align: right;\n",
              "    }\n",
              "</style>\n",
              "<table border=\"1\" class=\"dataframe\">\n",
              "  <thead>\n",
              "    <tr style=\"text-align: right;\">\n",
              "      <th></th>\n",
              "      <th>Date</th>\n",
              "      <th>Confirmed</th>\n",
              "      <th>domestic</th>\n",
              "      <th>foreign</th>\n",
              "      <th>dead</th>\n",
              "      <th>cum_Confirmed</th>\n",
              "    </tr>\n",
              "  </thead>\n",
              "  <tbody>\n",
              "    <tr>\n",
              "      <th>0</th>\n",
              "      <td>2020-01-20</td>\n",
              "      <td>1</td>\n",
              "      <td>-</td>\n",
              "      <td>1</td>\n",
              "      <td>-</td>\n",
              "      <td>1</td>\n",
              "    </tr>\n",
              "    <tr>\n",
              "      <th>1</th>\n",
              "      <td>2020-01-21</td>\n",
              "      <td>0</td>\n",
              "      <td>-</td>\n",
              "      <td>-</td>\n",
              "      <td>-</td>\n",
              "      <td>1</td>\n",
              "    </tr>\n",
              "    <tr>\n",
              "      <th>2</th>\n",
              "      <td>2020-01-22</td>\n",
              "      <td>0</td>\n",
              "      <td>-</td>\n",
              "      <td>-</td>\n",
              "      <td>-</td>\n",
              "      <td>1</td>\n",
              "    </tr>\n",
              "    <tr>\n",
              "      <th>3</th>\n",
              "      <td>2020-01-23</td>\n",
              "      <td>0</td>\n",
              "      <td>-</td>\n",
              "      <td>-</td>\n",
              "      <td>-</td>\n",
              "      <td>1</td>\n",
              "    </tr>\n",
              "    <tr>\n",
              "      <th>4</th>\n",
              "      <td>2020-01-24</td>\n",
              "      <td>1</td>\n",
              "      <td>-</td>\n",
              "      <td>1</td>\n",
              "      <td>-</td>\n",
              "      <td>2</td>\n",
              "    </tr>\n",
              "  </tbody>\n",
              "</table>\n",
              "</div>"
            ],
            "text/plain": [
              "        Date Confirmed domestic foreign dead  cum_Confirmed\n",
              "0 2020-01-20         1        -       1    -              1\n",
              "1 2020-01-21         0        -       -    -              1\n",
              "2 2020-01-22         0        -       -    -              1\n",
              "3 2020-01-23         0        -       -    -              1\n",
              "4 2020-01-24         1        -       1    -              2"
            ]
          },
          "metadata": {},
          "execution_count": 22
        }
      ]
    },
    {
      "cell_type": "code",
      "metadata": {
        "colab": {
          "base_uri": "https://localhost:8080/"
        },
        "id": "o9g43-7o2P7L",
        "outputId": "9840a23b-7174-493b-dcc4-20c71b23acf8"
      },
      "source": [
        "df['Date'][0]"
      ],
      "execution_count": 23,
      "outputs": [
        {
          "output_type": "execute_result",
          "data": {
            "text/plain": [
              "Timestamp('2020-01-20 00:00:00')"
            ]
          },
          "metadata": {},
          "execution_count": 23
        }
      ]
    },
    {
      "cell_type": "code",
      "metadata": {
        "id": "FbdzPKha2cc4"
      },
      "source": [
        "data['date'] = pd.to_datetime(data['date'])"
      ],
      "execution_count": 24,
      "outputs": []
    },
    {
      "cell_type": "code",
      "metadata": {
        "id": "TX9XEz8B3dRj"
      },
      "source": [
        "df3 = data[(data['date'] >= df['Date'][0]) & (data['date'] <= df['Date'][613])]\n",
        "df3.reset_index(drop=True, inplace=True)\n",
        "\n",
        "df.reset_index(drop=True, inplace=True)"
      ],
      "execution_count": 25,
      "outputs": []
    },
    {
      "cell_type": "code",
      "metadata": {
        "id": "8r8Ezyta2A5V"
      },
      "source": [
        "tmp = pd.concat([df3, df[['Confirmed', 'cum_Confirmed']]], axis=1)"
      ],
      "execution_count": 41,
      "outputs": []
    },
    {
      "cell_type": "code",
      "metadata": {
        "colab": {
          "base_uri": "https://localhost:8080/",
          "height": 392
        },
        "id": "pUPTvIGheQwK",
        "outputId": "7eb45cc1-a8f7-4c37-cf29-985cb67b6104"
      },
      "source": [
        "tmp['log_cum_Confirmed'] = np.log(tmp['cum_Confirmed'])\n",
        "tmp['sqrt_Confirmed'] = np.sqrt(tmp['Confirmed'])"
      ],
      "execution_count": 48,
      "outputs": [
        {
          "output_type": "error",
          "ename": "TypeError",
          "evalue": "ignored",
          "traceback": [
            "\u001b[0;31m---------------------------------------------------------------------------\u001b[0m",
            "\u001b[0;31mAttributeError\u001b[0m                            Traceback (most recent call last)",
            "\u001b[0;31mAttributeError\u001b[0m: 'int' object has no attribute 'sqrt'",
            "\nThe above exception was the direct cause of the following exception:\n",
            "\u001b[0;31mTypeError\u001b[0m                                 Traceback (most recent call last)",
            "\u001b[0;32m<ipython-input-48-cfd8e3ed4b11>\u001b[0m in \u001b[0;36m<module>\u001b[0;34m()\u001b[0m\n\u001b[1;32m      1\u001b[0m \u001b[0mtmp\u001b[0m\u001b[0;34m[\u001b[0m\u001b[0;34m'log_cum_Confirmed'\u001b[0m\u001b[0;34m]\u001b[0m \u001b[0;34m=\u001b[0m \u001b[0mnp\u001b[0m\u001b[0;34m.\u001b[0m\u001b[0mlog\u001b[0m\u001b[0;34m(\u001b[0m\u001b[0mtmp\u001b[0m\u001b[0;34m[\u001b[0m\u001b[0;34m'cum_Confirmed'\u001b[0m\u001b[0;34m]\u001b[0m\u001b[0;34m)\u001b[0m\u001b[0;34m\u001b[0m\u001b[0;34m\u001b[0m\u001b[0m\n\u001b[0;32m----> 2\u001b[0;31m \u001b[0mtmp\u001b[0m\u001b[0;34m[\u001b[0m\u001b[0;34m'sqrt_Confirmed'\u001b[0m\u001b[0;34m]\u001b[0m \u001b[0;34m=\u001b[0m \u001b[0mnp\u001b[0m\u001b[0;34m.\u001b[0m\u001b[0msqrt\u001b[0m\u001b[0;34m(\u001b[0m\u001b[0mtmp\u001b[0m\u001b[0;34m[\u001b[0m\u001b[0;34m'Confirmed'\u001b[0m\u001b[0;34m]\u001b[0m\u001b[0;34m)\u001b[0m\u001b[0;34m\u001b[0m\u001b[0;34m\u001b[0m\u001b[0m\n\u001b[0m",
            "\u001b[0;32m/usr/local/lib/python3.7/dist-packages/pandas/core/series.py\u001b[0m in \u001b[0;36m__array_ufunc__\u001b[0;34m(self, ufunc, method, *inputs, **kwargs)\u001b[0m\n\u001b[1;32m    724\u001b[0m \u001b[0;34m\u001b[0m\u001b[0m\n\u001b[1;32m    725\u001b[0m         \u001b[0minputs\u001b[0m \u001b[0;34m=\u001b[0m \u001b[0mtuple\u001b[0m\u001b[0;34m(\u001b[0m\u001b[0mextract_array\u001b[0m\u001b[0;34m(\u001b[0m\u001b[0mx\u001b[0m\u001b[0;34m,\u001b[0m \u001b[0mextract_numpy\u001b[0m\u001b[0;34m=\u001b[0m\u001b[0;32mTrue\u001b[0m\u001b[0;34m)\u001b[0m \u001b[0;32mfor\u001b[0m \u001b[0mx\u001b[0m \u001b[0;32min\u001b[0m \u001b[0minputs\u001b[0m\u001b[0;34m)\u001b[0m\u001b[0;34m\u001b[0m\u001b[0;34m\u001b[0m\u001b[0m\n\u001b[0;32m--> 726\u001b[0;31m         \u001b[0mresult\u001b[0m \u001b[0;34m=\u001b[0m \u001b[0mgetattr\u001b[0m\u001b[0;34m(\u001b[0m\u001b[0mufunc\u001b[0m\u001b[0;34m,\u001b[0m \u001b[0mmethod\u001b[0m\u001b[0;34m)\u001b[0m\u001b[0;34m(\u001b[0m\u001b[0;34m*\u001b[0m\u001b[0minputs\u001b[0m\u001b[0;34m,\u001b[0m \u001b[0;34m**\u001b[0m\u001b[0mkwargs\u001b[0m\u001b[0;34m)\u001b[0m\u001b[0;34m\u001b[0m\u001b[0;34m\u001b[0m\u001b[0m\n\u001b[0m\u001b[1;32m    727\u001b[0m \u001b[0;34m\u001b[0m\u001b[0m\n\u001b[1;32m    728\u001b[0m         \u001b[0mname\u001b[0m \u001b[0;34m=\u001b[0m \u001b[0mnames\u001b[0m\u001b[0;34m[\u001b[0m\u001b[0;36m0\u001b[0m\u001b[0;34m]\u001b[0m \u001b[0;32mif\u001b[0m \u001b[0mlen\u001b[0m\u001b[0;34m(\u001b[0m\u001b[0mset\u001b[0m\u001b[0;34m(\u001b[0m\u001b[0mnames\u001b[0m\u001b[0;34m)\u001b[0m\u001b[0;34m)\u001b[0m \u001b[0;34m==\u001b[0m \u001b[0;36m1\u001b[0m \u001b[0;32melse\u001b[0m \u001b[0;32mNone\u001b[0m\u001b[0;34m\u001b[0m\u001b[0;34m\u001b[0m\u001b[0m\n",
            "\u001b[0;31mTypeError\u001b[0m: loop of ufunc does not support argument 0 of type int which has no callable sqrt method"
          ]
        }
      ]
    },
    {
      "cell_type": "code",
      "metadata": {
        "id": "t7CQ5QapfxE1"
      },
      "source": [
        "tmp['sqrt_Confirmed'] = tmp['Confirmed'].apply(lambda x:  np.sqrt(float(x)))"
      ],
      "execution_count": 58,
      "outputs": []
    },
    {
      "cell_type": "code",
      "metadata": {
        "id": "Hu-Ue7k8gugZ"
      },
      "source": [
        "tmp['sqrt_Confirmed'] = tmp['Confirmed']"
      ],
      "execution_count": 59,
      "outputs": []
    },
    {
      "cell_type": "code",
      "metadata": {
        "colab": {
          "base_uri": "https://localhost:8080/",
          "height": 617
        },
        "id": "p7cnUW1rztnq",
        "outputId": "76c2fb35-8aca-490c-a1b6-945018fe0c41"
      },
      "source": [
        "plot_with_anomalies(tmp, [\"stringency_index\", 'sqrt_Confirmed'], {\"stringency_index\" : \"Stringency index and dates of the weakening of quarantine in \" + country_main, \"sqrt_Confirmed\":\"sqrt_Confirmed\"}, 'date', 'stringency_index_jump', 1)"
      ],
      "execution_count": 60,
      "outputs": [
        {
          "output_type": "display_data",
          "data": {
            "text/html": [
              "<html>\n",
              "<head><meta charset=\"utf-8\" /></head>\n",
              "<body>\n",
              "    <div>\n",
              "            <script src=\"https://cdnjs.cloudflare.com/ajax/libs/mathjax/2.7.5/MathJax.js?config=TeX-AMS-MML_SVG\"></script><script type=\"text/javascript\">if (window.MathJax) {MathJax.Hub.Config({SVG: {font: \"STIX-Web\"}});}</script>\n",
              "                <script type=\"text/javascript\">window.PlotlyConfig = {MathJaxConfig: 'local'};</script>\n",
              "        <script src=\"https://cdn.plot.ly/plotly-latest.min.js\"></script>    \n",
              "            <div id=\"b6460650-3160-4e1b-8fe6-3bf067a553e6\" class=\"plotly-graph-div\" style=\"height:600px; width:1000px;\"></div>\n",
              "            <script type=\"text/javascript\">\n",
              "                \n",
              "                    window.PLOTLYENV=window.PLOTLYENV || {};\n",
              "                    \n",
              "                if (document.getElementById(\"b6460650-3160-4e1b-8fe6-3bf067a553e6\")) {\n",
              "                    Plotly.newPlot(\n",
              "                        'b6460650-3160-4e1b-8fe6-3bf067a553e6',\n",
              "                        [{\"hoverlabel\": {\"namelength\": 0}, \"hovertemplate\": \"date=%{x}<br>stringency_index=%{y}\", \"legendgroup\": \"\", \"line\": {\"color\": \"#1F77B4\", \"dash\": \"solid\"}, \"mode\": \"lines\", \"name\": \"\", \"showlegend\": false, \"type\": \"scatter\", \"x\": [\"2020-01-20T00:00:00\", \"2020-01-21T00:00:00\", \"2020-01-22T00:00:00\", \"2020-01-23T00:00:00\", \"2020-01-24T00:00:00\", \"2020-01-25T00:00:00\", \"2020-01-26T00:00:00\", \"2020-01-27T00:00:00\", \"2020-01-28T00:00:00\", \"2020-01-29T00:00:00\", \"2020-01-30T00:00:00\", \"2020-01-31T00:00:00\", \"2020-02-01T00:00:00\", \"2020-02-02T00:00:00\", \"2020-02-03T00:00:00\", \"2020-02-04T00:00:00\", \"2020-02-05T00:00:00\", \"2020-02-06T00:00:00\", \"2020-02-07T00:00:00\", \"2020-02-08T00:00:00\", \"2020-02-09T00:00:00\", \"2020-02-10T00:00:00\", \"2020-02-11T00:00:00\", \"2020-02-12T00:00:00\", \"2020-02-13T00:00:00\", \"2020-02-14T00:00:00\", \"2020-02-15T00:00:00\", \"2020-02-16T00:00:00\", \"2020-02-17T00:00:00\", \"2020-02-18T00:00:00\", \"2020-02-19T00:00:00\", \"2020-02-20T00:00:00\", \"2020-02-21T00:00:00\", \"2020-02-22T00:00:00\", \"2020-02-23T00:00:00\", \"2020-02-24T00:00:00\", \"2020-02-25T00:00:00\", \"2020-02-26T00:00:00\", \"2020-02-27T00:00:00\", \"2020-02-28T00:00:00\", \"2020-02-29T00:00:00\", \"2020-03-01T00:00:00\", \"2020-03-02T00:00:00\", \"2020-03-03T00:00:00\", \"2020-03-04T00:00:00\", \"2020-03-05T00:00:00\", \"2020-03-06T00:00:00\", \"2020-03-07T00:00:00\", \"2020-03-08T00:00:00\", \"2020-03-09T00:00:00\", \"2020-03-10T00:00:00\", \"2020-03-11T00:00:00\", \"2020-03-12T00:00:00\", \"2020-03-13T00:00:00\", \"2020-03-14T00:00:00\", \"2020-03-15T00:00:00\", \"2020-03-16T00:00:00\", \"2020-03-17T00:00:00\", \"2020-03-18T00:00:00\", \"2020-03-19T00:00:00\", \"2020-03-20T00:00:00\", \"2020-03-21T00:00:00\", \"2020-03-22T00:00:00\", \"2020-03-23T00:00:00\", \"2020-03-24T00:00:00\", \"2020-03-25T00:00:00\", \"2020-03-26T00:00:00\", \"2020-03-27T00:00:00\", \"2020-03-28T00:00:00\", \"2020-03-29T00:00:00\", \"2020-03-30T00:00:00\", \"2020-03-31T00:00:00\", \"2020-04-01T00:00:00\", \"2020-04-02T00:00:00\", \"2020-04-03T00:00:00\", \"2020-04-04T00:00:00\", \"2020-04-05T00:00:00\", \"2020-04-06T00:00:00\", \"2020-04-07T00:00:00\", \"2020-04-08T00:00:00\", \"2020-04-09T00:00:00\", \"2020-04-10T00:00:00\", \"2020-04-11T00:00:00\", \"2020-04-12T00:00:00\", \"2020-04-13T00:00:00\", \"2020-04-14T00:00:00\", \"2020-04-15T00:00:00\", \"2020-04-16T00:00:00\", \"2020-04-17T00:00:00\", \"2020-04-18T00:00:00\", \"2020-04-19T00:00:00\", \"2020-04-20T00:00:00\", \"2020-04-21T00:00:00\", \"2020-04-22T00:00:00\", \"2020-04-23T00:00:00\", \"2020-04-24T00:00:00\", \"2020-04-25T00:00:00\", \"2020-04-26T00:00:00\", \"2020-04-27T00:00:00\", \"2020-04-28T00:00:00\", \"2020-04-29T00:00:00\", \"2020-04-30T00:00:00\", \"2020-05-01T00:00:00\", \"2020-05-02T00:00:00\", \"2020-05-03T00:00:00\", \"2020-05-04T00:00:00\", \"2020-05-05T00:00:00\", \"2020-05-06T00:00:00\", \"2020-05-07T00:00:00\", \"2020-05-08T00:00:00\", \"2020-05-09T00:00:00\", \"2020-05-10T00:00:00\", \"2020-05-11T00:00:00\", \"2020-05-12T00:00:00\", \"2020-05-13T00:00:00\", \"2020-05-14T00:00:00\", \"2020-05-15T00:00:00\", \"2020-05-16T00:00:00\", \"2020-05-17T00:00:00\", \"2020-05-18T00:00:00\", \"2020-05-19T00:00:00\", \"2020-05-20T00:00:00\", \"2020-05-21T00:00:00\", \"2020-05-22T00:00:00\", \"2020-05-23T00:00:00\", \"2020-05-24T00:00:00\", \"2020-05-25T00:00:00\", \"2020-05-26T00:00:00\", \"2020-05-27T00:00:00\", \"2020-05-28T00:00:00\", \"2020-05-29T00:00:00\", \"2020-05-30T00:00:00\", \"2020-05-31T00:00:00\", \"2020-06-01T00:00:00\", \"2020-06-02T00:00:00\", \"2020-06-03T00:00:00\", \"2020-06-04T00:00:00\", \"2020-06-05T00:00:00\", \"2020-06-06T00:00:00\", \"2020-06-07T00:00:00\", \"2020-06-08T00:00:00\", \"2020-06-09T00:00:00\", \"2020-06-10T00:00:00\", \"2020-06-11T00:00:00\", \"2020-06-12T00:00:00\", \"2020-06-13T00:00:00\", \"2020-06-14T00:00:00\", \"2020-06-15T00:00:00\", \"2020-06-16T00:00:00\", \"2020-06-17T00:00:00\", \"2020-06-18T00:00:00\", \"2020-06-19T00:00:00\", \"2020-06-20T00:00:00\", \"2020-06-21T00:00:00\", \"2020-06-22T00:00:00\", \"2020-06-23T00:00:00\", \"2020-06-24T00:00:00\", \"2020-06-25T00:00:00\", \"2020-06-26T00:00:00\", \"2020-06-27T00:00:00\", \"2020-06-28T00:00:00\", \"2020-06-29T00:00:00\", \"2020-06-30T00:00:00\", \"2020-07-01T00:00:00\", \"2020-07-02T00:00:00\", \"2020-07-03T00:00:00\", \"2020-07-04T00:00:00\", \"2020-07-05T00:00:00\", \"2020-07-06T00:00:00\", \"2020-07-07T00:00:00\", \"2020-07-08T00:00:00\", \"2020-07-09T00:00:00\", \"2020-07-10T00:00:00\", \"2020-07-11T00:00:00\", \"2020-07-12T00:00:00\", \"2020-07-13T00:00:00\", \"2020-07-14T00:00:00\", \"2020-07-15T00:00:00\", \"2020-07-16T00:00:00\", \"2020-07-17T00:00:00\", \"2020-07-18T00:00:00\", \"2020-07-19T00:00:00\", \"2020-07-20T00:00:00\", \"2020-07-21T00:00:00\", \"2020-07-22T00:00:00\", \"2020-07-23T00:00:00\", \"2020-07-24T00:00:00\", \"2020-07-25T00:00:00\", \"2020-07-26T00:00:00\", \"2020-07-27T00:00:00\", \"2020-07-28T00:00:00\", \"2020-07-29T00:00:00\", \"2020-07-30T00:00:00\", \"2020-07-31T00:00:00\", \"2020-08-01T00:00:00\", \"2020-08-02T00:00:00\", \"2020-08-03T00:00:00\", \"2020-08-04T00:00:00\", \"2020-08-05T00:00:00\", \"2020-08-06T00:00:00\", \"2020-08-07T00:00:00\", \"2020-08-08T00:00:00\", \"2020-08-09T00:00:00\", \"2020-08-10T00:00:00\", \"2020-08-11T00:00:00\", \"2020-08-12T00:00:00\", \"2020-08-13T00:00:00\", \"2020-08-14T00:00:00\", \"2020-08-15T00:00:00\", \"2020-08-16T00:00:00\", \"2020-08-17T00:00:00\", \"2020-08-18T00:00:00\", \"2020-08-19T00:00:00\", \"2020-08-20T00:00:00\", \"2020-08-21T00:00:00\", \"2020-08-22T00:00:00\", \"2020-08-23T00:00:00\", \"2020-08-24T00:00:00\", \"2020-08-25T00:00:00\", \"2020-08-26T00:00:00\", \"2020-08-27T00:00:00\", \"2020-08-28T00:00:00\", \"2020-08-29T00:00:00\", \"2020-08-30T00:00:00\", \"2020-08-31T00:00:00\", \"2020-09-01T00:00:00\", \"2020-09-02T00:00:00\", \"2020-09-03T00:00:00\", \"2020-09-04T00:00:00\", \"2020-09-05T00:00:00\", \"2020-09-06T00:00:00\", \"2020-09-07T00:00:00\", \"2020-09-08T00:00:00\", \"2020-09-09T00:00:00\", \"2020-09-10T00:00:00\", \"2020-09-11T00:00:00\", \"2020-09-12T00:00:00\", \"2020-09-13T00:00:00\", \"2020-09-14T00:00:00\", \"2020-09-15T00:00:00\", \"2020-09-16T00:00:00\", \"2020-09-17T00:00:00\", \"2020-09-18T00:00:00\", \"2020-09-19T00:00:00\", \"2020-09-20T00:00:00\", \"2020-09-21T00:00:00\", \"2020-09-22T00:00:00\", \"2020-09-23T00:00:00\", \"2020-09-24T00:00:00\", \"2020-09-25T00:00:00\", \"2020-09-26T00:00:00\", \"2020-09-27T00:00:00\", \"2020-09-28T00:00:00\", \"2020-09-29T00:00:00\", \"2020-09-30T00:00:00\", \"2020-10-01T00:00:00\", \"2020-10-02T00:00:00\", \"2020-10-03T00:00:00\", \"2020-10-04T00:00:00\", \"2020-10-05T00:00:00\", \"2020-10-06T00:00:00\", \"2020-10-07T00:00:00\", \"2020-10-08T00:00:00\", \"2020-10-09T00:00:00\", \"2020-10-10T00:00:00\", \"2020-10-11T00:00:00\", \"2020-10-12T00:00:00\", \"2020-10-13T00:00:00\", \"2020-10-14T00:00:00\", \"2020-10-15T00:00:00\", \"2020-10-16T00:00:00\", \"2020-10-17T00:00:00\", \"2020-10-18T00:00:00\", \"2020-10-19T00:00:00\", \"2020-10-20T00:00:00\", \"2020-10-21T00:00:00\", \"2020-10-22T00:00:00\", \"2020-10-23T00:00:00\", \"2020-10-24T00:00:00\", \"2020-10-25T00:00:00\", \"2020-10-26T00:00:00\", \"2020-10-27T00:00:00\", \"2020-10-28T00:00:00\", \"2020-10-29T00:00:00\", \"2020-10-30T00:00:00\", \"2020-10-31T00:00:00\", \"2020-11-01T00:00:00\", \"2020-11-02T00:00:00\", \"2020-11-03T00:00:00\", \"2020-11-04T00:00:00\", \"2020-11-05T00:00:00\", \"2020-11-06T00:00:00\", \"2020-11-07T00:00:00\", \"2020-11-08T00:00:00\", \"2020-11-09T00:00:00\", \"2020-11-10T00:00:00\", \"2020-11-11T00:00:00\", \"2020-11-12T00:00:00\", \"2020-11-13T00:00:00\", \"2020-11-14T00:00:00\", \"2020-11-15T00:00:00\", \"2020-11-16T00:00:00\", \"2020-11-17T00:00:00\", \"2020-11-18T00:00:00\", \"2020-11-19T00:00:00\", \"2020-11-20T00:00:00\", \"2020-11-21T00:00:00\", \"2020-11-22T00:00:00\", \"2020-11-23T00:00:00\", \"2020-11-24T00:00:00\", \"2020-11-25T00:00:00\", \"2020-11-26T00:00:00\", \"2020-11-27T00:00:00\", \"2020-11-28T00:00:00\", \"2020-11-29T00:00:00\", \"2020-11-30T00:00:00\", \"2020-12-01T00:00:00\", \"2020-12-02T00:00:00\", \"2020-12-03T00:00:00\", \"2020-12-04T00:00:00\", \"2020-12-05T00:00:00\", \"2020-12-06T00:00:00\", \"2020-12-07T00:00:00\", \"2020-12-08T00:00:00\", \"2020-12-09T00:00:00\", \"2020-12-10T00:00:00\", \"2020-12-11T00:00:00\", \"2020-12-12T00:00:00\", \"2020-12-13T00:00:00\", \"2020-12-14T00:00:00\", \"2020-12-15T00:00:00\", \"2020-12-16T00:00:00\", \"2020-12-17T00:00:00\", \"2020-12-18T00:00:00\", \"2020-12-19T00:00:00\", \"2020-12-20T00:00:00\", \"2020-12-21T00:00:00\", \"2020-12-22T00:00:00\", \"2020-12-23T00:00:00\", \"2020-12-24T00:00:00\", \"2020-12-25T00:00:00\", \"2020-12-26T00:00:00\", \"2020-12-27T00:00:00\", \"2020-12-28T00:00:00\", \"2020-12-29T00:00:00\", \"2020-12-30T00:00:00\", \"2020-12-31T00:00:00\", \"2021-01-01T00:00:00\", \"2021-01-02T00:00:00\", \"2021-01-03T00:00:00\", \"2021-01-04T00:00:00\", \"2021-01-05T00:00:00\", \"2021-01-06T00:00:00\", \"2021-01-07T00:00:00\", \"2021-01-08T00:00:00\", \"2021-01-09T00:00:00\", \"2021-01-10T00:00:00\", \"2021-01-11T00:00:00\", \"2021-01-12T00:00:00\", \"2021-01-13T00:00:00\", \"2021-01-14T00:00:00\", \"2021-01-15T00:00:00\", \"2021-01-16T00:00:00\", \"2021-01-17T00:00:00\", \"2021-01-18T00:00:00\", \"2021-01-19T00:00:00\", \"2021-01-20T00:00:00\", \"2021-01-21T00:00:00\", \"2021-01-22T00:00:00\", \"2021-01-23T00:00:00\", \"2021-01-24T00:00:00\", \"2021-01-25T00:00:00\", \"2021-01-26T00:00:00\", \"2021-01-27T00:00:00\", \"2021-01-28T00:00:00\", \"2021-01-29T00:00:00\", \"2021-01-30T00:00:00\", \"2021-01-31T00:00:00\", \"2021-02-01T00:00:00\", \"2021-02-02T00:00:00\", \"2021-02-03T00:00:00\", \"2021-02-04T00:00:00\", \"2021-02-05T00:00:00\", \"2021-02-06T00:00:00\", \"2021-02-07T00:00:00\", \"2021-02-08T00:00:00\", \"2021-02-09T00:00:00\", \"2021-02-10T00:00:00\", \"2021-02-11T00:00:00\", \"2021-02-12T00:00:00\", \"2021-02-13T00:00:00\", \"2021-02-14T00:00:00\", \"2021-02-15T00:00:00\", \"2021-02-16T00:00:00\", \"2021-02-17T00:00:00\", \"2021-02-18T00:00:00\", \"2021-02-19T00:00:00\", \"2021-02-20T00:00:00\", \"2021-02-21T00:00:00\", \"2021-02-22T00:00:00\", \"2021-02-23T00:00:00\", \"2021-02-24T00:00:00\", \"2021-02-25T00:00:00\", \"2021-02-26T00:00:00\", \"2021-02-27T00:00:00\", \"2021-02-28T00:00:00\", \"2021-03-01T00:00:00\", \"2021-03-02T00:00:00\", \"2021-03-03T00:00:00\", \"2021-03-04T00:00:00\", \"2021-03-05T00:00:00\", \"2021-03-06T00:00:00\", \"2021-03-07T00:00:00\", \"2021-03-08T00:00:00\", \"2021-03-09T00:00:00\", \"2021-03-10T00:00:00\", \"2021-03-11T00:00:00\", \"2021-03-12T00:00:00\", \"2021-03-13T00:00:00\", \"2021-03-14T00:00:00\", \"2021-03-15T00:00:00\", \"2021-03-16T00:00:00\", \"2021-03-17T00:00:00\", \"2021-03-18T00:00:00\", \"2021-03-19T00:00:00\", \"2021-03-20T00:00:00\", \"2021-03-21T00:00:00\", \"2021-03-22T00:00:00\", \"2021-03-23T00:00:00\", \"2021-03-24T00:00:00\", \"2021-03-25T00:00:00\", \"2021-03-26T00:00:00\", \"2021-03-27T00:00:00\", \"2021-03-28T00:00:00\", \"2021-03-29T00:00:00\", \"2021-03-30T00:00:00\", \"2021-03-31T00:00:00\", \"2021-04-01T00:00:00\", \"2021-04-02T00:00:00\", \"2021-04-03T00:00:00\", \"2021-04-04T00:00:00\", \"2021-04-05T00:00:00\", \"2021-04-06T00:00:00\", \"2021-04-07T00:00:00\", \"2021-04-08T00:00:00\", \"2021-04-09T00:00:00\", \"2021-04-10T00:00:00\", \"2021-04-11T00:00:00\", \"2021-04-12T00:00:00\", \"2021-04-13T00:00:00\", \"2021-04-14T00:00:00\", \"2021-04-15T00:00:00\", \"2021-04-16T00:00:00\", \"2021-04-17T00:00:00\", \"2021-04-18T00:00:00\", \"2021-04-19T00:00:00\", \"2021-04-20T00:00:00\", \"2021-04-21T00:00:00\", \"2021-04-22T00:00:00\", \"2021-04-23T00:00:00\", \"2021-04-24T00:00:00\", \"2021-04-25T00:00:00\", \"2021-04-26T00:00:00\", \"2021-04-27T00:00:00\", \"2021-04-28T00:00:00\", \"2021-04-29T00:00:00\", \"2021-04-30T00:00:00\", \"2021-05-01T00:00:00\", \"2021-05-02T00:00:00\", \"2021-05-03T00:00:00\", \"2021-05-04T00:00:00\", \"2021-05-05T00:00:00\", \"2021-05-06T00:00:00\", \"2021-05-07T00:00:00\", \"2021-05-08T00:00:00\", \"2021-05-09T00:00:00\", \"2021-05-10T00:00:00\", \"2021-05-11T00:00:00\", \"2021-05-12T00:00:00\", \"2021-05-13T00:00:00\", \"2021-05-14T00:00:00\", \"2021-05-15T00:00:00\", \"2021-05-16T00:00:00\", \"2021-05-17T00:00:00\", \"2021-05-18T00:00:00\", \"2021-05-19T00:00:00\", \"2021-05-20T00:00:00\", \"2021-05-21T00:00:00\", \"2021-05-22T00:00:00\", \"2021-05-23T00:00:00\", \"2021-05-24T00:00:00\", \"2021-05-25T00:00:00\", \"2021-05-26T00:00:00\", \"2021-05-27T00:00:00\", \"2021-05-28T00:00:00\", \"2021-05-29T00:00:00\", \"2021-05-30T00:00:00\", \"2021-05-31T00:00:00\", \"2021-06-01T00:00:00\", \"2021-06-02T00:00:00\", \"2021-06-03T00:00:00\", \"2021-06-04T00:00:00\", \"2021-06-05T00:00:00\", \"2021-06-06T00:00:00\", \"2021-06-07T00:00:00\", \"2021-06-08T00:00:00\", \"2021-06-09T00:00:00\", \"2021-06-10T00:00:00\", \"2021-06-11T00:00:00\", \"2021-06-12T00:00:00\", \"2021-06-13T00:00:00\", \"2021-06-14T00:00:00\", \"2021-06-15T00:00:00\", \"2021-06-16T00:00:00\", \"2021-06-17T00:00:00\", \"2021-06-18T00:00:00\", \"2021-06-19T00:00:00\", \"2021-06-20T00:00:00\", \"2021-06-21T00:00:00\", \"2021-06-22T00:00:00\", \"2021-06-23T00:00:00\", \"2021-06-24T00:00:00\", \"2021-06-25T00:00:00\", \"2021-06-26T00:00:00\", \"2021-06-27T00:00:00\", \"2021-06-28T00:00:00\", \"2021-06-29T00:00:00\", \"2021-06-30T00:00:00\", \"2021-07-01T00:00:00\", \"2021-07-02T00:00:00\", \"2021-07-03T00:00:00\", \"2021-07-04T00:00:00\", \"2021-07-05T00:00:00\", \"2021-07-06T00:00:00\", \"2021-07-07T00:00:00\", \"2021-07-08T00:00:00\", \"2021-07-09T00:00:00\", \"2021-07-10T00:00:00\", \"2021-07-11T00:00:00\", \"2021-07-12T00:00:00\", \"2021-07-13T00:00:00\", \"2021-07-14T00:00:00\", \"2021-07-15T00:00:00\", \"2021-07-16T00:00:00\", \"2021-07-17T00:00:00\", \"2021-07-18T00:00:00\", \"2021-07-19T00:00:00\", \"2021-07-20T00:00:00\", \"2021-07-21T00:00:00\", \"2021-07-22T00:00:00\", \"2021-07-23T00:00:00\", \"2021-07-24T00:00:00\", \"2021-07-25T00:00:00\", \"2021-07-26T00:00:00\", \"2021-07-27T00:00:00\", \"2021-07-28T00:00:00\", \"2021-07-29T00:00:00\", \"2021-07-30T00:00:00\", \"2021-07-31T00:00:00\", \"2021-08-01T00:00:00\", \"2021-08-02T00:00:00\", \"2021-08-03T00:00:00\", \"2021-08-04T00:00:00\", \"2021-08-05T00:00:00\", \"2021-08-06T00:00:00\", \"2021-08-07T00:00:00\", \"2021-08-08T00:00:00\", \"2021-08-09T00:00:00\", \"2021-08-10T00:00:00\", \"2021-08-11T00:00:00\", \"2021-08-12T00:00:00\", \"2021-08-13T00:00:00\", \"2021-08-14T00:00:00\", \"2021-08-15T00:00:00\", \"2021-08-16T00:00:00\", \"2021-08-17T00:00:00\", \"2021-08-18T00:00:00\", \"2021-08-19T00:00:00\", \"2021-08-20T00:00:00\", \"2021-08-21T00:00:00\", \"2021-08-22T00:00:00\", \"2021-08-23T00:00:00\", \"2021-08-24T00:00:00\", \"2021-08-25T00:00:00\", \"2021-08-26T00:00:00\", \"2021-08-27T00:00:00\", \"2021-08-28T00:00:00\", \"2021-08-29T00:00:00\", \"2021-08-30T00:00:00\", \"2021-08-31T00:00:00\", \"2021-09-01T00:00:00\", \"2021-09-02T00:00:00\", \"2021-09-03T00:00:00\", \"2021-09-04T00:00:00\", \"2021-09-05T00:00:00\", \"2021-09-06T00:00:00\", \"2021-09-07T00:00:00\", \"2021-09-08T00:00:00\", \"2021-09-09T00:00:00\", \"2021-09-10T00:00:00\", \"2021-09-11T00:00:00\", \"2021-09-12T00:00:00\", \"2021-09-13T00:00:00\", \"2021-09-14T00:00:00\", \"2021-09-15T00:00:00\", \"2021-09-16T00:00:00\", \"2021-09-17T00:00:00\", \"2021-09-18T00:00:00\", \"2021-09-19T00:00:00\", \"2021-09-20T00:00:00\", \"2021-09-21T00:00:00\", \"2021-09-22T00:00:00\", \"2021-09-23T00:00:00\", \"2021-09-24T00:00:00\"], \"xaxis\": \"x\", \"y\": [0.0, 0.0, 0.0, 0.0, 0.0, 0.0, 0.0, 0.0, 0.0, 0.0, 0.0, 2.78, 13.89, 13.89, 23.15, 31.48, 31.48, 31.48, 31.48, 31.48, 31.48, 31.48, 31.48, 31.48, 31.48, 31.48, 31.48, 31.48, 31.48, 31.48, 31.48, 31.48, 45.37, 45.37, 50.0, 55.56, 55.56, 55.56, 55.56, 55.56, 55.56, 55.56, 55.56, 55.56, 55.56, 55.56, 55.56, 55.56, 55.56, 55.56, 55.56, 55.56, 55.56, 55.56, 55.56, 55.56, 55.56, 55.56, 55.56, 55.56, 55.56, 69.44, 75.93, 75.93, 75.93, 75.93, 75.93, 75.93, 75.93, 75.93, 75.93, 75.93, 75.93, 75.93, 75.93, 78.7, 78.7, 82.41, 82.41, 82.41, 82.41, 82.41, 82.41, 82.41, 82.41, 82.41, 82.41, 82.41, 82.41, 73.15, 73.15, 43.52, 43.52, 43.52, 43.52, 43.52, 43.52, 43.52, 43.52, 43.52, 43.52, 43.52, 43.52, 43.52, 43.52, 43.52, 43.52, 43.52, 43.52, 43.52, 43.52, 43.52, 43.52, 43.52, 43.52, 43.52, 43.52, 43.52, 43.52, 43.52, 43.52, 39.81, 39.81, 39.81, 39.81, 39.81, 39.81, 39.81, 39.81, 39.81, 55.09, 55.09, 55.09, 55.09, 55.09, 55.09, 55.09, 55.09, 55.09, 55.09, 53.24, 53.24, 53.24, 53.24, 53.24, 53.24, 53.24, 53.24, 53.24, 53.24, 53.24, 53.24, 53.24, 53.24, 53.24, 53.24, 53.24, 53.24, 53.24, 53.24, 53.24, 53.24, 53.24, 53.24, 56.94, 56.94, 53.24, 53.24, 53.24, 53.24, 53.24, 53.24, 53.24, 53.24, 53.24, 53.24, 53.24, 53.24, 53.24, 53.24, 53.24, 53.24, 53.24, 53.24, 53.24, 53.24, 53.24, 53.24, 53.24, 53.24, 53.24, 53.24, 53.24, 53.24, 53.24, 53.24, 53.24, 53.24, 53.24, 53.24, 53.24, 53.24, 53.24, 53.24, 53.24, 53.24, 53.24, 53.24, 53.24, 53.24, 53.24, 53.24, 53.24, 53.24, 53.24, 53.24, 53.24, 53.24, 53.24, 53.24, 53.24, 53.24, 53.24, 53.24, 53.24, 53.24, 50.46, 50.46, 50.46, 50.46, 50.46, 50.46, 50.46, 50.46, 50.46, 50.46, 50.46, 50.46, 50.46, 50.46, 50.46, 50.46, 50.46, 50.46, 50.46, 48.61, 48.61, 48.61, 48.61, 48.61, 48.61, 48.61, 60.19, 60.19, 60.19, 60.19, 60.19, 62.96, 60.19, 65.74, 65.74, 65.74, 65.74, 60.19, 60.19, 60.19, 56.94, 56.94, 56.94, 56.94, 56.94, 56.94, 56.94, 56.94, 56.94, 56.94, 56.94, 56.94, 56.94, 51.39, 51.39, 51.39, 51.39, 51.39, 51.39, 51.39, 51.39, 51.39, 51.39, 51.39, 51.39, 51.39, 51.39, 51.39, 51.39, 51.39, 51.39, 51.39, 51.39, 51.39, 51.39, 51.39, 51.39, 51.39, 51.39, 51.39, 51.39, 51.39, 56.94, 54.17, 54.17, 57.87, 57.87, 57.87, 57.87, 57.87, 60.65, 60.65, 60.65, 60.65, 60.65, 60.65, 60.65, 57.87, 57.87, 57.87, 57.87, 57.87, 57.87, 57.87, 57.87, 57.87, 57.87, 57.87, 57.87, 57.87, 57.87, 61.57, 67.13, 68.98, 68.98, 68.98, 68.98, 68.98, 68.98, 68.98, 68.98, 66.2, 67.59, 67.59, 67.59, 67.59, 67.59, 63.89, 63.89, 63.89, 63.89, 63.89, 63.89, 63.89, 63.89, 63.89, 63.89, 63.89, 63.89, 63.89, 63.89, 63.89, 63.89, 63.89, 63.89, 63.89, 63.89, 63.89, 63.89, 63.89, 63.89, 63.89, 63.89, 63.89, 63.89, 63.89, 63.89, 63.89, 63.89, 63.89, 63.89, 63.89, 63.89, 63.89, 63.89, 63.89, 63.89, 63.89, 63.89, 63.89, 63.89, 63.89, 63.89, 63.89, 63.89, 63.89, 63.89, 63.89, 63.89, 63.89, 58.33, 58.33, 58.33, 58.33, 58.33, 58.33, 58.33, 58.33, 58.33, 58.33, 58.33, 58.33, 58.33, 58.33, 58.33, 58.33, 58.33, 58.33, 58.33, 58.33, 58.33, 58.33, 58.33, 58.33, 58.33, 58.33, 58.33, 58.33, 58.33, 58.33, 58.33, 58.33, 58.33, 58.33, 58.33, 58.33, 58.33, 58.33, 58.33, 58.33, 58.33, 58.33, 58.33, 58.33, 58.33, 58.33, 58.33, 58.33, 58.33, 58.33, 58.33, 58.33, 58.33, 58.33, 58.33, 58.33, 58.33, 58.33, 58.33, 58.33, 58.33, 58.33, 58.33, 52.78, 52.78, 52.78, 50.0, 50.0, 50.0, 50.0, 50.0, 50.0, 50.0, 50.0, 50.0, 50.0, 50.0, 50.0, 50.0, 50.0, 50.0, 50.0, 50.0, 50.0, 50.0, 50.0, 50.0, 50.0, 50.0, 50.0, 50.0, 50.0, 50.0, 50.0, 50.0, 50.0, 50.0, 50.0, 50.0, 50.0, 50.0, 50.0, 50.0, 50.0, 50.0, 50.0, 50.0, 50.0, 50.0, 50.0, 50.0, 50.0, 50.0, 50.0, 50.0, 50.0, 50.0, 50.0, 50.0, 50.0, 50.0, 50.0, 36.57, 36.57, 36.57, 36.57, 36.57, 36.57, 36.57, 36.57, 36.57, 36.57, 36.57, 45.37, 45.37, 45.37, 49.07, 49.07, 49.07, 49.07, 49.07, 49.07, 49.07, 49.07, 49.07, 49.07, 49.07, 49.07, 49.07, 49.07, 49.07, 49.07, 49.07, 49.07, 49.07, 49.07, 49.07, 49.07, 50.93, 50.93, 50.93, 50.93, 50.93, 50.93, 50.93, 50.93, 50.93, 50.93, 50.93, 50.93, 50.93, 50.93, 50.93, 50.93, 50.93, 50.93, 50.93, 50.93, 50.93, 50.93, 50.93, 50.93, 50.93, 50.93, 50.93, 50.93, 50.93, 50.93, 50.93, 47.22, 47.22, 47.22, 47.22, 47.22, 47.22, 47.22, 47.22, 47.22, 47.22, 47.22, 47.22, 47.22, 47.22, 47.22, null, null, null, null], \"yaxis\": \"y\"}, {\"mode\": \"lines\", \"name\": \"sqrt_Confirmed\", \"type\": \"scatter\", \"x\": [\"2020-01-20T00:00:00\", \"2020-01-21T00:00:00\", \"2020-01-22T00:00:00\", \"2020-01-23T00:00:00\", \"2020-01-24T00:00:00\", \"2020-01-25T00:00:00\", \"2020-01-26T00:00:00\", \"2020-01-27T00:00:00\", \"2020-01-28T00:00:00\", \"2020-01-29T00:00:00\", \"2020-01-30T00:00:00\", \"2020-01-31T00:00:00\", \"2020-02-01T00:00:00\", \"2020-02-02T00:00:00\", \"2020-02-03T00:00:00\", \"2020-02-04T00:00:00\", \"2020-02-05T00:00:00\", \"2020-02-06T00:00:00\", \"2020-02-07T00:00:00\", \"2020-02-08T00:00:00\", \"2020-02-09T00:00:00\", \"2020-02-10T00:00:00\", \"2020-02-11T00:00:00\", \"2020-02-12T00:00:00\", \"2020-02-13T00:00:00\", \"2020-02-14T00:00:00\", \"2020-02-15T00:00:00\", \"2020-02-16T00:00:00\", \"2020-02-17T00:00:00\", \"2020-02-18T00:00:00\", \"2020-02-19T00:00:00\", \"2020-02-20T00:00:00\", \"2020-02-21T00:00:00\", \"2020-02-22T00:00:00\", \"2020-02-23T00:00:00\", \"2020-02-24T00:00:00\", \"2020-02-25T00:00:00\", \"2020-02-26T00:00:00\", \"2020-02-27T00:00:00\", \"2020-02-28T00:00:00\", \"2020-02-29T00:00:00\", \"2020-03-01T00:00:00\", \"2020-03-02T00:00:00\", \"2020-03-03T00:00:00\", \"2020-03-04T00:00:00\", \"2020-03-05T00:00:00\", \"2020-03-06T00:00:00\", \"2020-03-07T00:00:00\", \"2020-03-08T00:00:00\", \"2020-03-09T00:00:00\", \"2020-03-10T00:00:00\", \"2020-03-11T00:00:00\", \"2020-03-12T00:00:00\", \"2020-03-13T00:00:00\", \"2020-03-14T00:00:00\", \"2020-03-15T00:00:00\", \"2020-03-16T00:00:00\", \"2020-03-17T00:00:00\", \"2020-03-18T00:00:00\", \"2020-03-19T00:00:00\", \"2020-03-20T00:00:00\", \"2020-03-21T00:00:00\", \"2020-03-22T00:00:00\", \"2020-03-23T00:00:00\", \"2020-03-24T00:00:00\", \"2020-03-25T00:00:00\", \"2020-03-26T00:00:00\", \"2020-03-27T00:00:00\", \"2020-03-28T00:00:00\", \"2020-03-29T00:00:00\", \"2020-03-30T00:00:00\", \"2020-03-31T00:00:00\", \"2020-04-01T00:00:00\", \"2020-04-02T00:00:00\", \"2020-04-03T00:00:00\", \"2020-04-04T00:00:00\", \"2020-04-05T00:00:00\", \"2020-04-06T00:00:00\", \"2020-04-07T00:00:00\", \"2020-04-08T00:00:00\", \"2020-04-09T00:00:00\", \"2020-04-10T00:00:00\", \"2020-04-11T00:00:00\", \"2020-04-12T00:00:00\", \"2020-04-13T00:00:00\", \"2020-04-14T00:00:00\", \"2020-04-15T00:00:00\", \"2020-04-16T00:00:00\", \"2020-04-17T00:00:00\", \"2020-04-18T00:00:00\", \"2020-04-19T00:00:00\", \"2020-04-20T00:00:00\", \"2020-04-21T00:00:00\", \"2020-04-22T00:00:00\", \"2020-04-23T00:00:00\", \"2020-04-24T00:00:00\", \"2020-04-25T00:00:00\", \"2020-04-26T00:00:00\", \"2020-04-27T00:00:00\", \"2020-04-28T00:00:00\", \"2020-04-29T00:00:00\", \"2020-04-30T00:00:00\", \"2020-05-01T00:00:00\", \"2020-05-02T00:00:00\", \"2020-05-03T00:00:00\", \"2020-05-04T00:00:00\", \"2020-05-05T00:00:00\", \"2020-05-06T00:00:00\", \"2020-05-07T00:00:00\", \"2020-05-08T00:00:00\", \"2020-05-09T00:00:00\", \"2020-05-10T00:00:00\", \"2020-05-11T00:00:00\", \"2020-05-12T00:00:00\", \"2020-05-13T00:00:00\", \"2020-05-14T00:00:00\", \"2020-05-15T00:00:00\", \"2020-05-16T00:00:00\", \"2020-05-17T00:00:00\", \"2020-05-18T00:00:00\", \"2020-05-19T00:00:00\", \"2020-05-20T00:00:00\", \"2020-05-21T00:00:00\", \"2020-05-22T00:00:00\", \"2020-05-23T00:00:00\", \"2020-05-24T00:00:00\", \"2020-05-25T00:00:00\", \"2020-05-26T00:00:00\", \"2020-05-27T00:00:00\", \"2020-05-28T00:00:00\", \"2020-05-29T00:00:00\", \"2020-05-30T00:00:00\", \"2020-05-31T00:00:00\", \"2020-06-01T00:00:00\", \"2020-06-02T00:00:00\", \"2020-06-03T00:00:00\", \"2020-06-04T00:00:00\", \"2020-06-05T00:00:00\", \"2020-06-06T00:00:00\", \"2020-06-07T00:00:00\", \"2020-06-08T00:00:00\", \"2020-06-09T00:00:00\", \"2020-06-10T00:00:00\", \"2020-06-11T00:00:00\", \"2020-06-12T00:00:00\", \"2020-06-13T00:00:00\", \"2020-06-14T00:00:00\", \"2020-06-15T00:00:00\", \"2020-06-16T00:00:00\", \"2020-06-17T00:00:00\", \"2020-06-18T00:00:00\", \"2020-06-19T00:00:00\", \"2020-06-20T00:00:00\", \"2020-06-21T00:00:00\", \"2020-06-22T00:00:00\", \"2020-06-23T00:00:00\", \"2020-06-24T00:00:00\", \"2020-06-25T00:00:00\", \"2020-06-26T00:00:00\", \"2020-06-27T00:00:00\", \"2020-06-28T00:00:00\", \"2020-06-29T00:00:00\", \"2020-06-30T00:00:00\", \"2020-07-01T00:00:00\", \"2020-07-02T00:00:00\", \"2020-07-03T00:00:00\", \"2020-07-04T00:00:00\", \"2020-07-05T00:00:00\", \"2020-07-06T00:00:00\", \"2020-07-07T00:00:00\", \"2020-07-08T00:00:00\", \"2020-07-09T00:00:00\", \"2020-07-10T00:00:00\", \"2020-07-11T00:00:00\", \"2020-07-12T00:00:00\", \"2020-07-13T00:00:00\", \"2020-07-14T00:00:00\", \"2020-07-15T00:00:00\", \"2020-07-16T00:00:00\", \"2020-07-17T00:00:00\", \"2020-07-18T00:00:00\", \"2020-07-19T00:00:00\", \"2020-07-20T00:00:00\", \"2020-07-21T00:00:00\", \"2020-07-22T00:00:00\", \"2020-07-23T00:00:00\", \"2020-07-24T00:00:00\", \"2020-07-25T00:00:00\", \"2020-07-26T00:00:00\", \"2020-07-27T00:00:00\", \"2020-07-28T00:00:00\", \"2020-07-29T00:00:00\", \"2020-07-30T00:00:00\", \"2020-07-31T00:00:00\", \"2020-08-01T00:00:00\", \"2020-08-02T00:00:00\", \"2020-08-03T00:00:00\", \"2020-08-04T00:00:00\", \"2020-08-05T00:00:00\", \"2020-08-06T00:00:00\", \"2020-08-07T00:00:00\", \"2020-08-08T00:00:00\", \"2020-08-09T00:00:00\", \"2020-08-10T00:00:00\", \"2020-08-11T00:00:00\", \"2020-08-12T00:00:00\", \"2020-08-13T00:00:00\", \"2020-08-14T00:00:00\", \"2020-08-15T00:00:00\", \"2020-08-16T00:00:00\", \"2020-08-17T00:00:00\", \"2020-08-18T00:00:00\", \"2020-08-19T00:00:00\", \"2020-08-20T00:00:00\", \"2020-08-21T00:00:00\", \"2020-08-22T00:00:00\", \"2020-08-23T00:00:00\", \"2020-08-24T00:00:00\", \"2020-08-25T00:00:00\", \"2020-08-26T00:00:00\", \"2020-08-27T00:00:00\", \"2020-08-28T00:00:00\", \"2020-08-29T00:00:00\", \"2020-08-30T00:00:00\", \"2020-08-31T00:00:00\", \"2020-09-01T00:00:00\", \"2020-09-02T00:00:00\", \"2020-09-03T00:00:00\", \"2020-09-04T00:00:00\", \"2020-09-05T00:00:00\", \"2020-09-06T00:00:00\", \"2020-09-07T00:00:00\", \"2020-09-08T00:00:00\", \"2020-09-09T00:00:00\", \"2020-09-10T00:00:00\", \"2020-09-11T00:00:00\", \"2020-09-12T00:00:00\", \"2020-09-13T00:00:00\", \"2020-09-14T00:00:00\", \"2020-09-15T00:00:00\", \"2020-09-16T00:00:00\", \"2020-09-17T00:00:00\", \"2020-09-18T00:00:00\", \"2020-09-19T00:00:00\", \"2020-09-20T00:00:00\", \"2020-09-21T00:00:00\", \"2020-09-22T00:00:00\", \"2020-09-23T00:00:00\", \"2020-09-24T00:00:00\", \"2020-09-25T00:00:00\", \"2020-09-26T00:00:00\", \"2020-09-27T00:00:00\", \"2020-09-28T00:00:00\", \"2020-09-29T00:00:00\", \"2020-09-30T00:00:00\", \"2020-10-01T00:00:00\", \"2020-10-02T00:00:00\", \"2020-10-03T00:00:00\", \"2020-10-04T00:00:00\", \"2020-10-05T00:00:00\", \"2020-10-06T00:00:00\", \"2020-10-07T00:00:00\", \"2020-10-08T00:00:00\", \"2020-10-09T00:00:00\", \"2020-10-10T00:00:00\", \"2020-10-11T00:00:00\", \"2020-10-12T00:00:00\", \"2020-10-13T00:00:00\", \"2020-10-14T00:00:00\", \"2020-10-15T00:00:00\", \"2020-10-16T00:00:00\", \"2020-10-17T00:00:00\", \"2020-10-18T00:00:00\", \"2020-10-19T00:00:00\", \"2020-10-20T00:00:00\", \"2020-10-21T00:00:00\", \"2020-10-22T00:00:00\", \"2020-10-23T00:00:00\", \"2020-10-24T00:00:00\", \"2020-10-25T00:00:00\", \"2020-10-26T00:00:00\", \"2020-10-27T00:00:00\", \"2020-10-28T00:00:00\", \"2020-10-29T00:00:00\", \"2020-10-30T00:00:00\", \"2020-10-31T00:00:00\", \"2020-11-01T00:00:00\", \"2020-11-02T00:00:00\", \"2020-11-03T00:00:00\", \"2020-11-04T00:00:00\", \"2020-11-05T00:00:00\", \"2020-11-06T00:00:00\", \"2020-11-07T00:00:00\", \"2020-11-08T00:00:00\", \"2020-11-09T00:00:00\", \"2020-11-10T00:00:00\", \"2020-11-11T00:00:00\", \"2020-11-12T00:00:00\", \"2020-11-13T00:00:00\", \"2020-11-14T00:00:00\", \"2020-11-15T00:00:00\", \"2020-11-16T00:00:00\", \"2020-11-17T00:00:00\", \"2020-11-18T00:00:00\", \"2020-11-19T00:00:00\", \"2020-11-20T00:00:00\", \"2020-11-21T00:00:00\", \"2020-11-22T00:00:00\", \"2020-11-23T00:00:00\", \"2020-11-24T00:00:00\", \"2020-11-25T00:00:00\", \"2020-11-26T00:00:00\", \"2020-11-27T00:00:00\", \"2020-11-28T00:00:00\", \"2020-11-29T00:00:00\", \"2020-11-30T00:00:00\", \"2020-12-01T00:00:00\", \"2020-12-02T00:00:00\", \"2020-12-03T00:00:00\", \"2020-12-04T00:00:00\", \"2020-12-05T00:00:00\", \"2020-12-06T00:00:00\", \"2020-12-07T00:00:00\", \"2020-12-08T00:00:00\", \"2020-12-09T00:00:00\", \"2020-12-10T00:00:00\", \"2020-12-11T00:00:00\", \"2020-12-12T00:00:00\", \"2020-12-13T00:00:00\", \"2020-12-14T00:00:00\", \"2020-12-15T00:00:00\", \"2020-12-16T00:00:00\", \"2020-12-17T00:00:00\", \"2020-12-18T00:00:00\", \"2020-12-19T00:00:00\", \"2020-12-20T00:00:00\", \"2020-12-21T00:00:00\", \"2020-12-22T00:00:00\", \"2020-12-23T00:00:00\", \"2020-12-24T00:00:00\", \"2020-12-25T00:00:00\", \"2020-12-26T00:00:00\", \"2020-12-27T00:00:00\", \"2020-12-28T00:00:00\", \"2020-12-29T00:00:00\", \"2020-12-30T00:00:00\", \"2020-12-31T00:00:00\", \"2021-01-01T00:00:00\", \"2021-01-02T00:00:00\", \"2021-01-03T00:00:00\", \"2021-01-04T00:00:00\", \"2021-01-05T00:00:00\", \"2021-01-06T00:00:00\", \"2021-01-07T00:00:00\", \"2021-01-08T00:00:00\", \"2021-01-09T00:00:00\", \"2021-01-10T00:00:00\", \"2021-01-11T00:00:00\", \"2021-01-12T00:00:00\", \"2021-01-13T00:00:00\", \"2021-01-14T00:00:00\", \"2021-01-15T00:00:00\", \"2021-01-16T00:00:00\", \"2021-01-17T00:00:00\", \"2021-01-18T00:00:00\", \"2021-01-19T00:00:00\", \"2021-01-20T00:00:00\", \"2021-01-21T00:00:00\", \"2021-01-22T00:00:00\", \"2021-01-23T00:00:00\", \"2021-01-24T00:00:00\", \"2021-01-25T00:00:00\", \"2021-01-26T00:00:00\", \"2021-01-27T00:00:00\", \"2021-01-28T00:00:00\", \"2021-01-29T00:00:00\", \"2021-01-30T00:00:00\", \"2021-01-31T00:00:00\", \"2021-02-01T00:00:00\", \"2021-02-02T00:00:00\", \"2021-02-03T00:00:00\", \"2021-02-04T00:00:00\", \"2021-02-05T00:00:00\", \"2021-02-06T00:00:00\", \"2021-02-07T00:00:00\", \"2021-02-08T00:00:00\", \"2021-02-09T00:00:00\", \"2021-02-10T00:00:00\", \"2021-02-11T00:00:00\", \"2021-02-12T00:00:00\", \"2021-02-13T00:00:00\", \"2021-02-14T00:00:00\", \"2021-02-15T00:00:00\", \"2021-02-16T00:00:00\", \"2021-02-17T00:00:00\", \"2021-02-18T00:00:00\", \"2021-02-19T00:00:00\", \"2021-02-20T00:00:00\", \"2021-02-21T00:00:00\", \"2021-02-22T00:00:00\", \"2021-02-23T00:00:00\", \"2021-02-24T00:00:00\", \"2021-02-25T00:00:00\", \"2021-02-26T00:00:00\", \"2021-02-27T00:00:00\", \"2021-02-28T00:00:00\", \"2021-03-01T00:00:00\", \"2021-03-02T00:00:00\", \"2021-03-03T00:00:00\", \"2021-03-04T00:00:00\", \"2021-03-05T00:00:00\", \"2021-03-06T00:00:00\", \"2021-03-07T00:00:00\", \"2021-03-08T00:00:00\", \"2021-03-09T00:00:00\", \"2021-03-10T00:00:00\", \"2021-03-11T00:00:00\", \"2021-03-12T00:00:00\", \"2021-03-13T00:00:00\", \"2021-03-14T00:00:00\", \"2021-03-15T00:00:00\", \"2021-03-16T00:00:00\", \"2021-03-17T00:00:00\", \"2021-03-18T00:00:00\", \"2021-03-19T00:00:00\", \"2021-03-20T00:00:00\", \"2021-03-21T00:00:00\", \"2021-03-22T00:00:00\", \"2021-03-23T00:00:00\", \"2021-03-24T00:00:00\", \"2021-03-25T00:00:00\", \"2021-03-26T00:00:00\", \"2021-03-27T00:00:00\", \"2021-03-28T00:00:00\", \"2021-03-29T00:00:00\", \"2021-03-30T00:00:00\", \"2021-03-31T00:00:00\", \"2021-04-01T00:00:00\", \"2021-04-02T00:00:00\", \"2021-04-03T00:00:00\", \"2021-04-04T00:00:00\", \"2021-04-05T00:00:00\", \"2021-04-06T00:00:00\", \"2021-04-07T00:00:00\", \"2021-04-08T00:00:00\", \"2021-04-09T00:00:00\", \"2021-04-10T00:00:00\", \"2021-04-11T00:00:00\", \"2021-04-12T00:00:00\", \"2021-04-13T00:00:00\", \"2021-04-14T00:00:00\", \"2021-04-15T00:00:00\", \"2021-04-16T00:00:00\", \"2021-04-17T00:00:00\", \"2021-04-18T00:00:00\", \"2021-04-19T00:00:00\", \"2021-04-20T00:00:00\", \"2021-04-21T00:00:00\", \"2021-04-22T00:00:00\", \"2021-04-23T00:00:00\", \"2021-04-24T00:00:00\", \"2021-04-25T00:00:00\", \"2021-04-26T00:00:00\", \"2021-04-27T00:00:00\", \"2021-04-28T00:00:00\", \"2021-04-29T00:00:00\", \"2021-04-30T00:00:00\", \"2021-05-01T00:00:00\", \"2021-05-02T00:00:00\", \"2021-05-03T00:00:00\", \"2021-05-04T00:00:00\", \"2021-05-05T00:00:00\", \"2021-05-06T00:00:00\", \"2021-05-07T00:00:00\", \"2021-05-08T00:00:00\", \"2021-05-09T00:00:00\", \"2021-05-10T00:00:00\", \"2021-05-11T00:00:00\", \"2021-05-12T00:00:00\", \"2021-05-13T00:00:00\", \"2021-05-14T00:00:00\", \"2021-05-15T00:00:00\", \"2021-05-16T00:00:00\", \"2021-05-17T00:00:00\", \"2021-05-18T00:00:00\", \"2021-05-19T00:00:00\", \"2021-05-20T00:00:00\", \"2021-05-21T00:00:00\", \"2021-05-22T00:00:00\", \"2021-05-23T00:00:00\", \"2021-05-24T00:00:00\", \"2021-05-25T00:00:00\", \"2021-05-26T00:00:00\", \"2021-05-27T00:00:00\", \"2021-05-28T00:00:00\", \"2021-05-29T00:00:00\", \"2021-05-30T00:00:00\", \"2021-05-31T00:00:00\", \"2021-06-01T00:00:00\", \"2021-06-02T00:00:00\", \"2021-06-03T00:00:00\", \"2021-06-04T00:00:00\", \"2021-06-05T00:00:00\", \"2021-06-06T00:00:00\", \"2021-06-07T00:00:00\", \"2021-06-08T00:00:00\", \"2021-06-09T00:00:00\", \"2021-06-10T00:00:00\", \"2021-06-11T00:00:00\", \"2021-06-12T00:00:00\", \"2021-06-13T00:00:00\", \"2021-06-14T00:00:00\", \"2021-06-15T00:00:00\", \"2021-06-16T00:00:00\", \"2021-06-17T00:00:00\", \"2021-06-18T00:00:00\", \"2021-06-19T00:00:00\", \"2021-06-20T00:00:00\", \"2021-06-21T00:00:00\", \"2021-06-22T00:00:00\", \"2021-06-23T00:00:00\", \"2021-06-24T00:00:00\", \"2021-06-25T00:00:00\", \"2021-06-26T00:00:00\", \"2021-06-27T00:00:00\", \"2021-06-28T00:00:00\", \"2021-06-29T00:00:00\", \"2021-06-30T00:00:00\", \"2021-07-01T00:00:00\", \"2021-07-02T00:00:00\", \"2021-07-03T00:00:00\", \"2021-07-04T00:00:00\", \"2021-07-05T00:00:00\", \"2021-07-06T00:00:00\", \"2021-07-07T00:00:00\", \"2021-07-08T00:00:00\", \"2021-07-09T00:00:00\", \"2021-07-10T00:00:00\", \"2021-07-11T00:00:00\", \"2021-07-12T00:00:00\", \"2021-07-13T00:00:00\", \"2021-07-14T00:00:00\", \"2021-07-15T00:00:00\", \"2021-07-16T00:00:00\", \"2021-07-17T00:00:00\", \"2021-07-18T00:00:00\", \"2021-07-19T00:00:00\", \"2021-07-20T00:00:00\", \"2021-07-21T00:00:00\", \"2021-07-22T00:00:00\", \"2021-07-23T00:00:00\", \"2021-07-24T00:00:00\", \"2021-07-25T00:00:00\", \"2021-07-26T00:00:00\", \"2021-07-27T00:00:00\", \"2021-07-28T00:00:00\", \"2021-07-29T00:00:00\", \"2021-07-30T00:00:00\", \"2021-07-31T00:00:00\", \"2021-08-01T00:00:00\", \"2021-08-02T00:00:00\", \"2021-08-03T00:00:00\", \"2021-08-04T00:00:00\", \"2021-08-05T00:00:00\", \"2021-08-06T00:00:00\", \"2021-08-07T00:00:00\", \"2021-08-08T00:00:00\", \"2021-08-09T00:00:00\", \"2021-08-10T00:00:00\", \"2021-08-11T00:00:00\", \"2021-08-12T00:00:00\", \"2021-08-13T00:00:00\", \"2021-08-14T00:00:00\", \"2021-08-15T00:00:00\", \"2021-08-16T00:00:00\", \"2021-08-17T00:00:00\", \"2021-08-18T00:00:00\", \"2021-08-19T00:00:00\", \"2021-08-20T00:00:00\", \"2021-08-21T00:00:00\", \"2021-08-22T00:00:00\", \"2021-08-23T00:00:00\", \"2021-08-24T00:00:00\", \"2021-08-25T00:00:00\", \"2021-08-26T00:00:00\", \"2021-08-27T00:00:00\", \"2021-08-28T00:00:00\", \"2021-08-29T00:00:00\", \"2021-08-30T00:00:00\", \"2021-08-31T00:00:00\", \"2021-09-01T00:00:00\", \"2021-09-02T00:00:00\", \"2021-09-03T00:00:00\", \"2021-09-04T00:00:00\", \"2021-09-05T00:00:00\", \"2021-09-06T00:00:00\", \"2021-09-07T00:00:00\", \"2021-09-08T00:00:00\", \"2021-09-09T00:00:00\", \"2021-09-10T00:00:00\", \"2021-09-11T00:00:00\", \"2021-09-12T00:00:00\", \"2021-09-13T00:00:00\", \"2021-09-14T00:00:00\", \"2021-09-15T00:00:00\", \"2021-09-16T00:00:00\", \"2021-09-17T00:00:00\", \"2021-09-18T00:00:00\", \"2021-09-19T00:00:00\", \"2021-09-20T00:00:00\", \"2021-09-21T00:00:00\", \"2021-09-22T00:00:00\", \"2021-09-23T00:00:00\", \"2021-09-24T00:00:00\"], \"y\": [1.0, 0.0, 0.0, 0.0, 1.0, 0.0, 1.0, 1.0, 0.0, 0.0, 1.7320508075688772, 2.0, 1.0, 1.7320508075688772, 0.0, 1.0, 2.23606797749979, 1.7320508075688772, 0.0, 0.0, 1.7320508075688772, 1.0, 0.0, 0.0, 0.0, 0.0, 0.0, 1.4142135623730951, 0.0, 1.4142135623730951, 5.830951894845301, 4.0, 8.602325267042627, 13.784048752090222, 14.491376746189438, 14.38749456993816, 11.40175425099138, 15.905973720586866, 21.18962010041709, 20.663978319771825, 30.14962686336267, 24.392621835300936, 26.19160170741759, 24.49489742783178, 22.715633383201094, 20.92844953645635, 22.759613353482084, 21.97726097583591, 19.157244060668017, 15.748015748023622, 11.445523142259598, 15.556349186104045, 10.677078252031311, 10.488088481701515, 10.344080432788601, 8.717797887081348, 8.602325267042627, 9.16515138991168, 9.643650760992955, 12.328828005937952, 9.327379053088816, 12.12435565298214, 9.899494936611665, 8.0, 8.717797887081348, 10.0, 10.198039027185569, 9.539392014169456, 12.083045973594572, 10.246950765959598, 8.831760866327848, 11.180339887498949, 10.04987562112089, 9.433981132056603, 9.273618495495704, 9.695359714832659, 9.0, 6.855654600401044, 6.855654600401044, 7.280109889280518, 6.244997998398398, 5.196152422706632, 5.477225575051661, 5.656854249492381, 5.0, 5.196152422706632, 5.196152422706632, 4.69041575982343, 4.69041575982343, 4.242640687119285, 2.8284271247461903, 3.605551275463989, 3.0, 3.3166247903554, 2.8284271247461903, 2.449489742783178, 3.1622776601683795, 3.1622776601683795, 3.1622776601683795, 3.7416573867739413, 3.0, 2.0, 3.0, 2.449489742783178, 3.605551275463989, 2.8284271247461903, 1.7320508075688772, 1.4142135623730951, 2.0, 3.4641016151377544, 4.242640687119285, 5.830951894845301, 5.916079783099616, 5.196152422706632, 5.0990195135927845, 5.385164807134504, 5.196152422706632, 4.358898943540674, 3.605551275463989, 3.872983346207417, 3.605551275463989, 5.656854249492381, 3.4641016151377544, 4.47213595499958, 4.795831523312719, 5.0, 4.0, 4.358898943540674, 6.324555320336759, 8.888194417315589, 7.615773105863909, 6.244997998398398, 5.196152422706632, 5.916079783099616, 6.164414002968976, 7.0, 6.244997998398398, 6.244997998398398, 7.14142842854285, 7.54983443527075, 6.082762530298219, 6.164414002968976, 7.0710678118654755, 6.708203932499369, 7.483314773547883, 6.928203230275509, 5.830951894845301, 6.082762530298219, 5.830951894845301, 6.557438524302, 7.681145747868608, 7.0, 8.18535277187245, 6.928203230275509, 4.123105625617661, 6.782329983125268, 7.14142842854285, 5.291502622129181, 6.244997998398398, 7.14142842854285, 7.874007874011811, 6.48074069840786, 6.48074069840786, 7.14142842854285, 7.3484692283495345, 7.810249675906654, 7.937253933193772, 7.810249675906654, 6.928203230275509, 6.6332495807108, 7.874007874011811, 7.0710678118654755, 6.708203932499369, 5.916079783099616, 6.6332495807108, 7.874007874011811, 5.744562646538029, 6.244997998398398, 7.810249675906654, 7.745966692414834, 6.244997998398398, 5.830951894845301, 5.0990195135927845, 6.708203932499369, 7.937253933193772, 7.681145747868608, 6.4031242374328485, 10.63014581273465, 7.615773105863909, 5.0, 5.291502622129181, 6.928203230275509, 4.242640687119285, 6.0, 5.5677643628300215, 5.477225575051661, 4.795831523312719, 5.830951894845301, 5.744562646538029, 6.557438524302, 4.47213595499958, 6.557438524302, 6.0, 5.291502622129181, 5.830951894845301, 7.3484692283495345, 7.483314773547883, 10.14889156509222, 12.884098726725126, 16.703293088490067, 14.035668847618199, 15.684387141358123, 17.233687939614086, 16.97056274847714, 18.0, 18.2208671582886, 19.8997487421324, 16.30950643030009, 16.73320053068151, 17.88854381999832, 21.0, 19.261360284258224, 17.97220075561143, 17.291616465790582, 15.748015748023622, 15.329709716755891, 16.34013463836819, 13.96424004376894, 14.071247279470288, 12.96148139681572, 12.922847983320086, 10.908712114635714, 11.661903789690601, 12.489995996796797, 12.449899597988733, 13.2664991614216, 11.661903789690601, 11.0, 10.44030650891055, 10.295630140987, 10.63014581273465, 12.36931687685298, 11.224972160321824, 10.488088481701515, 9.055385138137417, 8.366600265340756, 7.810249675906654, 10.488088481701515, 11.180339887498949, 10.677078252031311, 7.810249675906654, 9.746794344808963, 7.0710678118654755, 6.164414002968976, 10.63014581273465, 8.774964387392123, 7.937253933193772, 8.660254037844387, 8.0, 8.54400374531753, 8.660254037844387, 10.677078252031311, 8.306623862918075, 7.3484692283495345, 8.48528137423857, 7.615773105863909, 9.899494936611665, 9.539392014169456, 9.16515138991168, 10.488088481701515, 6.855654600401044, 8.54400374531753, 9.539392014169456, 8.717797887081348, 7.615773105863909, 9.433981132056603, 11.0, 12.449899597988733, 8.774964387392123, 7.810249675906654, 10.908712114635714, 9.38083151964686, 10.14889156509222, 11.180339887498949, 10.63014581273465, 11.269427669584644, 11.135528725660043, 9.848857801796104, 8.660254037844387, 10.816653826391969, 11.180339887498949, 12.041594578792296, 9.433981132056603, 11.958260743101398, 11.224972160321824, 10.0, 12.041594578792296, 11.958260743101398, 13.820274961085254, 14.317821063276353, 14.422205101855956, 14.89966442575134, 15.165750888103101, 16.881943016134134, 18.027756377319946, 18.65475810617763, 19.6468827043885, 18.16590212458495, 16.46207763315433, 18.681541692269406, 19.544820285692065, 24.1039415863879, 23.558437978779494, 22.427661492005804, 21.213203435596427, 20.92844953645635, 21.236760581595302, 22.60530911091463, 23.2379000772445, 25.059928172283335, 24.020824298928627, 25.11971337416094, 24.79919353527449, 24.228082879171435, 25.88435821108957, 26.076809620810597, 26.248809496813376, 30.822070014844883, 32.09361307176243, 26.795522013948524, 29.664793948382652, 32.83291031876401, 31.843366656181317, 32.61901286060018, 32.32645975048923, 33.1058907144937, 30.397368307141328, 29.427877939124322, 33.015148038438355, 31.38470965295043, 35.21363372331802, 33.63034344160047, 31.144823004794873, 28.39013913315678, 32.31098884280702, 32.4037034920393, 31.096623610932426, 32.046840717924134, 28.635642126552707, 25.632011235952593, 31.937438845342623, 26.720778431774775, 28.948229652260256, 29.478805945967352, 25.96150997149434, 25.317977802344327, 25.632011235952593, 21.236760581595302, 23.173260452512935, 23.68543856465402, 22.891046284519195, 22.627416997969522, 24.08318915758459, 22.80350850198276, 19.72308292331602, 19.6468827043885, 20.09975124224178, 20.0, 18.601075237738275, 20.760539492026695, 19.79898987322333, 20.904544960366874, 18.681541692269406, 23.643180835073778, 22.293496809607955, 21.656407827707714, 21.354156504062622, 18.81488772222678, 17.46424919657298, 18.33030277982336, 21.61018278497431, 21.236760581595302, 19.235384061671343, 19.748417658131498, 19.261360284258224, 16.97056274847714, 17.406895185529212, 21.071307505705477, 22.44994432064365, 20.074859899884732, 19.026297590440446, 18.05547008526779, 18.520259177452136, 21.37755832643195, 24.919871588754223, 24.919871588754223, 23.68543856465402, 21.166010488516726, 20.396078054371138, 18.2208671582886, 18.867962264113206, 20.97617696340303, 19.87460691435179, 19.672315572906, 20.37154878746336, 18.841443681416774, 18.841443681416774, 18.547236990991408, 21.071307505705477, 20.591260281974, 19.949937343260004, 20.445048300260872, 20.396078054371138, 18.601075237738275, 21.118712081942874, 21.6794833886788, 21.563858652847824, 22.090722034374522, 22.135943621178654, 21.42428528562855, 19.467922333931785, 19.05255888325765, 21.656407827707714, 21.095023109728988, 21.517434791350013, 21.142374511865974, 21.354156504062622, 20.37154878746336, 18.601075237738275, 20.688160865577203, 20.73644135332772, 22.11334438749598, 22.47220505424423, 21.95449840010015, 19.544820285692065, 21.142374511865974, 22.494443758403985, 23.473389188611005, 23.600847442411894, 23.302360395462088, 23.302360395462088, 21.748563170931547, 21.840329667841555, 25.84569596664017, 26.457513110645905, 25.903667693977237, 26.019223662515376, 24.779023386727733, 24.228082879171435, 23.280893453645632, 27.03701166919155, 26.419689627245813, 25.942243542145693, 25.65151067676132, 25.903667693977237, 23.065125189341593, 23.430749027719962, 27.03701166919155, 27.110883423451916, 28.231188426986208, 28.0178514522438, 25.37715508089904, 22.338307903688676, 22.627416997969522, 27.730849247724095, 26.057628441590765, 25.709920264364882, 25.03996805109783, 24.61706725018234, 22.090722034374522, 23.259406699226016, 26.0, 23.958297101421877, 22.9128784747792, 26.476404589747453, 23.748684174075834, 21.517434791350013, 22.58317958127243, 25.179356624028344, 26.739483914241877, 27.331300737432898, 26.095976701399778, 24.698178070456937, 24.879710609249457, 22.978250586152114, 25.573423705088842, 25.41653005427767, 23.68543856465402, 25.80697580112788, 24.186773244895647, 23.021728866442675, 22.715633383201094, 26.551836094703507, 25.079872407968907, 24.228082879171435, 23.08679276123039, 21.908902300206645, 20.73644135332772, 21.42428528562855, 26.019223662515376, 26.095976701399778, 26.362852652928137, 27.27636339397171, 23.57965224510319, 22.02271554554524, 21.307275752662516, 24.535688292770594, 24.698178070456937, 23.57965224510319, 23.769728648009426, 21.2602916254693, 19.974984355438178, 19.313207915827967, 23.345235059857504, 23.2379000772445, 22.516660498395403, 21.95449840010015, 20.71231517720798, 18.894443627691185, 19.849433241279208, 25.39685019840059, 24.698178070456937, 25.179356624028344, 25.84569596664017, 24.779023386727733, 22.38302928559939, 24.392621835300936, 28.178005607210743, 27.586228448267445, 28.722813232690143, 28.178005607210743, 27.258026340878022, 26.664583251946766, 27.313000567495326, 34.79942528261063, 35.70714214271425, 36.27671429443411, 37.12142238654117, 36.38681079732051, 33.166247903554, 33.91164991562634, 40.162171256046406, 39.98749804626441, 39.179076048319466, 38.06573262134856, 38.118237105091836, 35.369478367654786, 35.749125863438955, 42.20189569201838, 42.906875905849866, 40.36087214122113, 40.33608806019741, 38.561638969317684, 36.30426972134269, 36.91882988394946, 43.53159771935783, 40.90232267243512, 41.352146256270665, 39.21734310225516, 37.97367509209505, 34.899856733230294, 34.64101615137755, 41.53311931459037, 42.13074886588179, 41.27953488110059, 42.69660408041839, 41.557189510360296, 38.61346915261564, 39.20459156782532, 47.12748667179272, 44.57577817604534, 44.598206241955516, 43.9089968002003, 42.61455150532503, 39.42080668885405, 37.04051835490427, 42.46174749112429, 46.389654018972806, 45.27692569068709, 43.32435804486894, 40.32369030731191, 37.64306044943742, 38.82009788756334, 46.411205543489174, 43.382023926967726, 42.86023798347368, 42.320207938997655, 40.23679907746142, 38.535697735995385, 37.013511046643494, 44.98888751680797, 44.27188724235731, 41.32795663954365, 42.46174749112429, 38.600518131237564, 37.080992435478315, 39.96248240537617, 45.254833995939045, 45.2658811910251, 43.497126341863094, 43.174066289845804, 41.892720131306824, 37.8549864614954, 38.66522985836241, 45.58508528016593, 44.06812907306141, 44.81071300481616, 45.68369512200168, 43.69210454990696, 40.049968789001575, 41.58124577258358, 41.47288270665544, 41.41255848169731, 49.33558553417604]}],\n",
              "                        {\"height\": 600, \"legend\": {\"tracegroupgap\": 0}, \"shapes\": [{\"line\": {\"color\": \"red\", \"width\": 1}, \"type\": \"line\", \"x0\": \"2020-04-18T00:00:00\", \"x1\": \"2020-04-18T00:00:00\", \"y0\": 0.0, \"y1\": 82.41}, {\"line\": {\"color\": \"red\", \"width\": 1}, \"type\": \"line\", \"x0\": \"2020-04-20T00:00:00\", \"x1\": \"2020-04-20T00:00:00\", \"y0\": 0.0, \"y1\": 82.41}, {\"line\": {\"color\": \"red\", \"width\": 1}, \"type\": \"line\", \"x0\": \"2020-05-20T00:00:00\", \"x1\": \"2020-05-20T00:00:00\", \"y0\": 0.0, \"y1\": 82.41}, {\"line\": {\"color\": \"red\", \"width\": 1}, \"type\": \"line\", \"x0\": \"2020-06-08T00:00:00\", \"x1\": \"2020-06-08T00:00:00\", \"y0\": 0.0, \"y1\": 82.41}, {\"line\": {\"color\": \"red\", \"width\": 1}, \"type\": \"line\", \"x0\": \"2020-07-04T00:00:00\", \"x1\": \"2020-07-04T00:00:00\", \"y0\": 0.0, \"y1\": 82.41}, {\"line\": {\"color\": \"red\", \"width\": 1}, \"type\": \"line\", \"x0\": \"2020-09-02T00:00:00\", \"x1\": \"2020-09-02T00:00:00\", \"y0\": 0.0, \"y1\": 82.41}, {\"line\": {\"color\": \"red\", \"width\": 1}, \"type\": \"line\", \"x0\": \"2020-09-21T00:00:00\", \"x1\": \"2020-09-21T00:00:00\", \"y0\": 0.0, \"y1\": 82.41}, {\"line\": {\"color\": \"red\", \"width\": 1}, \"type\": \"line\", \"x0\": \"2020-10-04T00:00:00\", \"x1\": \"2020-10-04T00:00:00\", \"y0\": 0.0, \"y1\": 82.41}, {\"line\": {\"color\": \"red\", \"width\": 1}, \"type\": \"line\", \"x0\": \"2020-10-09T00:00:00\", \"x1\": \"2020-10-09T00:00:00\", \"y0\": 0.0, \"y1\": 82.41}, {\"line\": {\"color\": \"red\", \"width\": 1}, \"type\": \"line\", \"x0\": \"2020-10-12T00:00:00\", \"x1\": \"2020-10-12T00:00:00\", \"y0\": 0.0, \"y1\": 82.41}, {\"line\": {\"color\": \"red\", \"width\": 1}, \"type\": \"line\", \"x0\": \"2020-10-25T00:00:00\", \"x1\": \"2020-10-25T00:00:00\", \"y0\": 0.0, \"y1\": 82.41}, {\"line\": {\"color\": \"red\", \"width\": 1}, \"type\": \"line\", \"x0\": \"2020-11-24T00:00:00\", \"x1\": \"2020-11-24T00:00:00\", \"y0\": 0.0, \"y1\": 82.41}, {\"line\": {\"color\": \"red\", \"width\": 1}, \"type\": \"line\", \"x0\": \"2020-12-08T00:00:00\", \"x1\": \"2020-12-08T00:00:00\", \"y0\": 0.0, \"y1\": 82.41}, {\"line\": {\"color\": \"red\", \"width\": 1}, \"type\": \"line\", \"x0\": \"2021-01-01T00:00:00\", \"x1\": \"2021-01-01T00:00:00\", \"y0\": 0.0, \"y1\": 82.41}, {\"line\": {\"color\": \"red\", \"width\": 1}, \"type\": \"line\", \"x0\": \"2021-01-07T00:00:00\", \"x1\": \"2021-01-07T00:00:00\", \"y0\": 0.0, \"y1\": 82.41}, {\"line\": {\"color\": \"red\", \"width\": 1}, \"type\": \"line\", \"x0\": \"2021-03-01T00:00:00\", \"x1\": \"2021-03-01T00:00:00\", \"y0\": 0.0, \"y1\": 82.41}, {\"line\": {\"color\": \"red\", \"width\": 1}, \"type\": \"line\", \"x0\": \"2021-05-03T00:00:00\", \"x1\": \"2021-05-03T00:00:00\", \"y0\": 0.0, \"y1\": 82.41}, {\"line\": {\"color\": \"red\", \"width\": 1}, \"type\": \"line\", \"x0\": \"2021-05-06T00:00:00\", \"x1\": \"2021-05-06T00:00:00\", \"y0\": 0.0, \"y1\": 82.41}, {\"line\": {\"color\": \"red\", \"width\": 1}, \"type\": \"line\", \"x0\": \"2021-07-01T00:00:00\", \"x1\": \"2021-07-01T00:00:00\", \"y0\": 0.0, \"y1\": 82.41}, {\"line\": {\"color\": \"red\", \"width\": 1}, \"type\": \"line\", \"x0\": \"2021-09-06T00:00:00\", \"x1\": \"2021-09-06T00:00:00\", \"y0\": 0.0, \"y1\": 82.41}], \"template\": {\"data\": {\"pie\": [{\"automargin\": true, \"type\": \"pie\"}]}, \"layout\": {\"xaxis\": {\"showgrid\": true, \"title\": {\"standoff\": 15}}, \"yaxis\": {\"showgrid\": true, \"title\": {\"standoff\": 15}}}}, \"title\": {\"text\": \"Stringency index and dates of the weakening of quarantine in Korea, Republic of\"}, \"width\": 1000, \"xaxis\": {\"anchor\": \"y\", \"domain\": [0.0, 1.0], \"title\": {\"text\": \"date\"}}, \"yaxis\": {\"anchor\": \"x\", \"domain\": [0.0, 1.0], \"title\": {\"text\": \"stringency_index\"}}},\n",
              "                        {\"responsive\": true}\n",
              "                    ).then(function(){\n",
              "                            \n",
              "var gd = document.getElementById('b6460650-3160-4e1b-8fe6-3bf067a553e6');\n",
              "var x = new MutationObserver(function (mutations, observer) {{\n",
              "        var display = window.getComputedStyle(gd).display;\n",
              "        if (!display || display === 'none') {{\n",
              "            console.log([gd, 'removed!']);\n",
              "            Plotly.purge(gd);\n",
              "            observer.disconnect();\n",
              "        }}\n",
              "}});\n",
              "\n",
              "// Listen for the removal of the full notebook cells\n",
              "var notebookContainer = gd.closest('#notebook-container');\n",
              "if (notebookContainer) {{\n",
              "    x.observe(notebookContainer, {childList: true});\n",
              "}}\n",
              "\n",
              "// Listen for the clearing of the current output cell\n",
              "var outputEl = gd.closest('.output');\n",
              "if (outputEl) {{\n",
              "    x.observe(outputEl, {childList: true});\n",
              "}}\n",
              "\n",
              "                        })\n",
              "                };\n",
              "                \n",
              "            </script>\n",
              "        </div>\n",
              "</body>\n",
              "</html>"
            ]
          },
          "metadata": {}
        }
      ]
    },
    {
      "cell_type": "markdown",
      "metadata": {
        "papermill": {
          "duration": 0.029674,
          "end_time": "2020-08-09T19:17:45.683612",
          "exception": false,
          "start_time": "2020-08-09T19:17:45.653938",
          "status": "completed"
        },
        "tags": [],
        "id": "JkNxdtOFvf0y"
      },
      "source": [
        "### 3.2.2. Very comfortable conditions for rest (not yet taken into account - needs clarification) <a class=\"anchor\" id=\"3.2.2\"></a>\n",
        "\n",
        "[Back to Table of Contents](#0.1)"
      ]
    },
    {
      "cell_type": "markdown",
      "metadata": {
        "papermill": {
          "duration": 0.029569,
          "end_time": "2020-08-09T19:17:45.743143",
          "exception": false,
          "start_time": "2020-08-09T19:17:45.713574",
          "status": "completed"
        },
        "tags": [],
        "id": "x9o8J0Zwvf0z"
      },
      "source": [
        "#### Thanks to:\n",
        "* [COVID-19 Open Data](https://github.com/GoogleCloudPlatform/covid-19-open-data)\n",
        "* [NOAA](https://www.ncei.noaa.gov/)"
      ]
    },
    {
      "cell_type": "code",
      "metadata": {
        "colab": {
          "base_uri": "https://localhost:8080/"
        },
        "id": "HA14HyvJeCVZ",
        "outputId": "a08377dc-8ccb-46c3-97d1-9dd4cd466673"
      },
      "source": [
        "data.columns"
      ],
      "execution_count": 36,
      "outputs": [
        {
          "output_type": "execute_result",
          "data": {
            "text/plain": [
              "Index(['key', 'date', 'place_id', 'wikidata', 'datacommons', 'country_code',\n",
              "       'country_name', 'subregion1_code', 'subregion1_name', 'subregion2_code',\n",
              "       ...\n",
              "       'noaa_distance', 'average_temperature', 'minimum_temperature',\n",
              "       'maximum_temperature', 'rainfall', 'snowfall', 'dew_point',\n",
              "       'relative_humidity', 'stringency_index_jump', 'rest_comfort'],\n",
              "      dtype='object', length=113)"
            ]
          },
          "metadata": {},
          "execution_count": 36
        }
      ]
    },
    {
      "cell_type": "code",
      "metadata": {
        "execution": {
          "iopub.execute_input": "2020-08-09T19:17:45.815768Z",
          "iopub.status.busy": "2020-08-09T19:17:45.814361Z",
          "iopub.status.idle": "2020-08-09T19:17:45.891325Z",
          "shell.execute_reply": "2020-08-09T19:17:45.891973Z"
        },
        "papermill": {
          "duration": 0.119028,
          "end_time": "2020-08-09T19:17:45.8922",
          "exception": false,
          "start_time": "2020-08-09T19:17:45.773172",
          "status": "completed"
        },
        "tags": [],
        "trusted": true,
        "colab": {
          "base_uri": "https://localhost:8080/",
          "height": 617
        },
        "id": "Ay9DCTMyvf0z",
        "outputId": "2c104510-cb2c-4abc-cf05-848d2e433a27"
      },
      "source": [
        "# Thanks to https://www.kaggle.com/vbmokin/covid-19-in-ukraine-prophet-holidays-tuning\n",
        "data['rest_comfort'] = 0\n",
        "data.loc[(data['average_temperature'] > data['average_temperature'].quantile(.95)) & (data['rainfall'] == 0), 'rest_comfort'] = 1\n",
        "dates_weather_list = data[data['rest_comfort'] == 1]['date'].tolist()\n",
        "plot_with_anomalies(data, [\"average_temperature\", \"rainfall\"], {\"average_temperature\" : \"Average temperature over time in \" + country_main, \"rainfall\" : \"rainfall\"}, 'date', 'rest_comfort', 1)"
      ],
      "execution_count": 63,
      "outputs": [
        {
          "output_type": "display_data",
          "data": {
            "text/html": [
              "<html>\n",
              "<head><meta charset=\"utf-8\" /></head>\n",
              "<body>\n",
              "    <div>\n",
              "            <script src=\"https://cdnjs.cloudflare.com/ajax/libs/mathjax/2.7.5/MathJax.js?config=TeX-AMS-MML_SVG\"></script><script type=\"text/javascript\">if (window.MathJax) {MathJax.Hub.Config({SVG: {font: \"STIX-Web\"}});}</script>\n",
              "                <script type=\"text/javascript\">window.PlotlyConfig = {MathJaxConfig: 'local'};</script>\n",
              "        <script src=\"https://cdn.plot.ly/plotly-latest.min.js\"></script>    \n",
              "            <div id=\"a1c6fe71-1e78-4328-8e90-f61d4a369125\" class=\"plotly-graph-div\" style=\"height:600px; width:1000px;\"></div>\n",
              "            <script type=\"text/javascript\">\n",
              "                \n",
              "                    window.PLOTLYENV=window.PLOTLYENV || {};\n",
              "                    \n",
              "                if (document.getElementById(\"a1c6fe71-1e78-4328-8e90-f61d4a369125\")) {\n",
              "                    Plotly.newPlot(\n",
              "                        'a1c6fe71-1e78-4328-8e90-f61d4a369125',\n",
              "                        [{\"hoverlabel\": {\"namelength\": 0}, \"hovertemplate\": \"date=%{x}<br>average_temperature=%{y}\", \"legendgroup\": \"\", \"line\": {\"color\": \"#1F77B4\", \"dash\": \"solid\"}, \"mode\": \"lines\", \"name\": \"\", \"showlegend\": false, \"type\": \"scatter\", \"x\": [\"2020-01-01T00:00:00\", \"2020-01-02T00:00:00\", \"2020-01-03T00:00:00\", \"2020-01-04T00:00:00\", \"2020-01-05T00:00:00\", \"2020-01-06T00:00:00\", \"2020-01-07T00:00:00\", \"2020-01-08T00:00:00\", \"2020-01-09T00:00:00\", \"2020-01-10T00:00:00\", \"2020-01-11T00:00:00\", \"2020-01-12T00:00:00\", \"2020-01-13T00:00:00\", \"2020-01-14T00:00:00\", \"2020-01-15T00:00:00\", \"2020-01-16T00:00:00\", \"2020-01-17T00:00:00\", \"2020-01-18T00:00:00\", \"2020-01-19T00:00:00\", \"2020-01-20T00:00:00\", \"2020-01-21T00:00:00\", \"2020-01-22T00:00:00\", \"2020-01-23T00:00:00\", \"2020-01-24T00:00:00\", \"2020-01-25T00:00:00\", \"2020-01-26T00:00:00\", \"2020-01-27T00:00:00\", \"2020-01-28T00:00:00\", \"2020-01-29T00:00:00\", \"2020-01-30T00:00:00\", \"2020-01-31T00:00:00\", \"2020-02-01T00:00:00\", \"2020-02-02T00:00:00\", \"2020-02-03T00:00:00\", \"2020-02-04T00:00:00\", \"2020-02-05T00:00:00\", \"2020-02-06T00:00:00\", \"2020-02-07T00:00:00\", \"2020-02-08T00:00:00\", \"2020-02-09T00:00:00\", \"2020-02-10T00:00:00\", \"2020-02-11T00:00:00\", \"2020-02-12T00:00:00\", \"2020-02-13T00:00:00\", \"2020-02-14T00:00:00\", \"2020-02-15T00:00:00\", \"2020-02-16T00:00:00\", \"2020-02-17T00:00:00\", \"2020-02-18T00:00:00\", \"2020-02-19T00:00:00\", \"2020-02-20T00:00:00\", \"2020-02-21T00:00:00\", \"2020-02-22T00:00:00\", \"2020-02-23T00:00:00\", \"2020-02-24T00:00:00\", \"2020-02-25T00:00:00\", \"2020-02-26T00:00:00\", \"2020-02-27T00:00:00\", \"2020-02-28T00:00:00\", \"2020-02-29T00:00:00\", \"2020-03-01T00:00:00\", \"2020-03-02T00:00:00\", \"2020-03-03T00:00:00\", \"2020-03-04T00:00:00\", \"2020-03-05T00:00:00\", \"2020-03-06T00:00:00\", \"2020-03-07T00:00:00\", \"2020-03-08T00:00:00\", \"2020-03-09T00:00:00\", \"2020-03-10T00:00:00\", \"2020-03-11T00:00:00\", \"2020-03-12T00:00:00\", \"2020-03-13T00:00:00\", \"2020-03-14T00:00:00\", \"2020-03-15T00:00:00\", \"2020-03-16T00:00:00\", \"2020-03-17T00:00:00\", \"2020-03-18T00:00:00\", \"2020-03-19T00:00:00\", \"2020-03-20T00:00:00\", \"2020-03-21T00:00:00\", \"2020-03-22T00:00:00\", \"2020-03-23T00:00:00\", \"2020-03-24T00:00:00\", \"2020-03-25T00:00:00\", \"2020-03-26T00:00:00\", \"2020-03-27T00:00:00\", \"2020-03-28T00:00:00\", \"2020-03-29T00:00:00\", \"2020-03-30T00:00:00\", \"2020-03-31T00:00:00\", \"2020-04-01T00:00:00\", \"2020-04-02T00:00:00\", \"2020-04-03T00:00:00\", \"2020-04-04T00:00:00\", \"2020-04-05T00:00:00\", \"2020-04-06T00:00:00\", \"2020-04-07T00:00:00\", \"2020-04-08T00:00:00\", \"2020-04-09T00:00:00\", \"2020-04-10T00:00:00\", \"2020-04-11T00:00:00\", \"2020-04-12T00:00:00\", \"2020-04-13T00:00:00\", \"2020-04-14T00:00:00\", \"2020-04-15T00:00:00\", \"2020-04-16T00:00:00\", \"2020-04-17T00:00:00\", \"2020-04-18T00:00:00\", \"2020-04-19T00:00:00\", \"2020-04-20T00:00:00\", \"2020-04-21T00:00:00\", \"2020-04-22T00:00:00\", \"2020-04-23T00:00:00\", \"2020-04-24T00:00:00\", \"2020-04-25T00:00:00\", \"2020-04-26T00:00:00\", \"2020-04-27T00:00:00\", \"2020-04-28T00:00:00\", \"2020-04-29T00:00:00\", \"2020-04-30T00:00:00\", \"2020-05-01T00:00:00\", \"2020-05-02T00:00:00\", \"2020-05-03T00:00:00\", \"2020-05-04T00:00:00\", \"2020-05-05T00:00:00\", \"2020-05-06T00:00:00\", \"2020-05-07T00:00:00\", \"2020-05-08T00:00:00\", \"2020-05-09T00:00:00\", \"2020-05-10T00:00:00\", \"2020-05-11T00:00:00\", \"2020-05-12T00:00:00\", \"2020-05-13T00:00:00\", \"2020-05-14T00:00:00\", \"2020-05-15T00:00:00\", \"2020-05-16T00:00:00\", \"2020-05-17T00:00:00\", \"2020-05-18T00:00:00\", \"2020-05-19T00:00:00\", \"2020-05-20T00:00:00\", \"2020-05-21T00:00:00\", \"2020-05-22T00:00:00\", \"2020-05-23T00:00:00\", \"2020-05-24T00:00:00\", \"2020-05-25T00:00:00\", \"2020-05-26T00:00:00\", \"2020-05-27T00:00:00\", \"2020-05-28T00:00:00\", \"2020-05-29T00:00:00\", \"2020-05-30T00:00:00\", \"2020-05-31T00:00:00\", \"2020-06-01T00:00:00\", \"2020-06-02T00:00:00\", \"2020-06-03T00:00:00\", \"2020-06-04T00:00:00\", \"2020-06-05T00:00:00\", \"2020-06-06T00:00:00\", \"2020-06-07T00:00:00\", \"2020-06-08T00:00:00\", \"2020-06-09T00:00:00\", \"2020-06-10T00:00:00\", \"2020-06-11T00:00:00\", \"2020-06-12T00:00:00\", \"2020-06-13T00:00:00\", \"2020-06-14T00:00:00\", \"2020-06-15T00:00:00\", \"2020-06-16T00:00:00\", \"2020-06-17T00:00:00\", \"2020-06-18T00:00:00\", \"2020-06-19T00:00:00\", \"2020-06-20T00:00:00\", \"2020-06-21T00:00:00\", \"2020-06-22T00:00:00\", \"2020-06-23T00:00:00\", \"2020-06-24T00:00:00\", \"2020-06-25T00:00:00\", \"2020-06-26T00:00:00\", \"2020-06-27T00:00:00\", \"2020-06-28T00:00:00\", \"2020-06-29T00:00:00\", \"2020-06-30T00:00:00\", \"2020-07-01T00:00:00\", \"2020-07-02T00:00:00\", \"2020-07-03T00:00:00\", \"2020-07-04T00:00:00\", \"2020-07-05T00:00:00\", \"2020-07-06T00:00:00\", \"2020-07-07T00:00:00\", \"2020-07-08T00:00:00\", \"2020-07-09T00:00:00\", \"2020-07-10T00:00:00\", \"2020-07-11T00:00:00\", \"2020-07-12T00:00:00\", \"2020-07-13T00:00:00\", \"2020-07-14T00:00:00\", \"2020-07-15T00:00:00\", \"2020-07-16T00:00:00\", \"2020-07-17T00:00:00\", \"2020-07-18T00:00:00\", \"2020-07-19T00:00:00\", \"2020-07-20T00:00:00\", \"2020-07-21T00:00:00\", \"2020-07-22T00:00:00\", \"2020-07-23T00:00:00\", \"2020-07-24T00:00:00\", \"2020-07-25T00:00:00\", \"2020-07-26T00:00:00\", \"2020-07-27T00:00:00\", \"2020-07-28T00:00:00\", \"2020-07-29T00:00:00\", \"2020-07-30T00:00:00\", \"2020-07-31T00:00:00\", \"2020-08-01T00:00:00\", \"2020-08-02T00:00:00\", \"2020-08-03T00:00:00\", \"2020-08-04T00:00:00\", \"2020-08-05T00:00:00\", \"2020-08-06T00:00:00\", \"2020-08-07T00:00:00\", \"2020-08-08T00:00:00\", \"2020-08-09T00:00:00\", \"2020-08-10T00:00:00\", \"2020-08-11T00:00:00\", \"2020-08-12T00:00:00\", \"2020-08-13T00:00:00\", \"2020-08-14T00:00:00\", \"2020-08-15T00:00:00\", \"2020-08-16T00:00:00\", \"2020-08-17T00:00:00\", \"2020-08-18T00:00:00\", \"2020-08-19T00:00:00\", \"2020-08-20T00:00:00\", \"2020-08-21T00:00:00\", \"2020-08-22T00:00:00\", \"2020-08-23T00:00:00\", \"2020-08-24T00:00:00\", \"2020-08-25T00:00:00\", \"2020-08-26T00:00:00\", \"2020-08-27T00:00:00\", \"2020-08-28T00:00:00\", \"2020-08-29T00:00:00\", \"2020-08-30T00:00:00\", \"2020-08-31T00:00:00\", \"2020-09-01T00:00:00\", \"2020-09-02T00:00:00\", \"2020-09-03T00:00:00\", \"2020-09-04T00:00:00\", \"2020-09-05T00:00:00\", \"2020-09-06T00:00:00\", \"2020-09-07T00:00:00\", \"2020-09-08T00:00:00\", \"2020-09-09T00:00:00\", \"2020-09-10T00:00:00\", \"2020-09-11T00:00:00\", \"2020-09-12T00:00:00\", \"2020-09-13T00:00:00\", \"2020-09-14T00:00:00\", \"2020-09-15T00:00:00\", \"2020-09-16T00:00:00\", \"2020-09-17T00:00:00\", \"2020-09-18T00:00:00\", \"2020-09-19T00:00:00\", \"2020-09-20T00:00:00\", \"2020-09-21T00:00:00\", \"2020-09-22T00:00:00\", \"2020-09-23T00:00:00\", \"2020-09-24T00:00:00\", \"2020-09-25T00:00:00\", \"2020-09-26T00:00:00\", \"2020-09-27T00:00:00\", \"2020-09-28T00:00:00\", \"2020-09-29T00:00:00\", \"2020-09-30T00:00:00\", \"2020-10-01T00:00:00\", \"2020-10-02T00:00:00\", \"2020-10-03T00:00:00\", \"2020-10-04T00:00:00\", \"2020-10-05T00:00:00\", \"2020-10-06T00:00:00\", \"2020-10-07T00:00:00\", \"2020-10-08T00:00:00\", \"2020-10-09T00:00:00\", \"2020-10-10T00:00:00\", \"2020-10-11T00:00:00\", \"2020-10-12T00:00:00\", \"2020-10-13T00:00:00\", \"2020-10-14T00:00:00\", \"2020-10-15T00:00:00\", \"2020-10-16T00:00:00\", \"2020-10-17T00:00:00\", \"2020-10-18T00:00:00\", \"2020-10-19T00:00:00\", \"2020-10-20T00:00:00\", \"2020-10-21T00:00:00\", \"2020-10-22T00:00:00\", \"2020-10-23T00:00:00\", \"2020-10-24T00:00:00\", \"2020-10-25T00:00:00\", \"2020-10-26T00:00:00\", \"2020-10-27T00:00:00\", \"2020-10-28T00:00:00\", \"2020-10-29T00:00:00\", \"2020-10-30T00:00:00\", \"2020-10-31T00:00:00\", \"2020-11-01T00:00:00\", \"2020-11-02T00:00:00\", \"2020-11-03T00:00:00\", \"2020-11-04T00:00:00\", \"2020-11-05T00:00:00\", \"2020-11-06T00:00:00\", \"2020-11-07T00:00:00\", \"2020-11-08T00:00:00\", \"2020-11-09T00:00:00\", \"2020-11-10T00:00:00\", \"2020-11-11T00:00:00\", \"2020-11-12T00:00:00\", \"2020-11-13T00:00:00\", \"2020-11-14T00:00:00\", \"2020-11-15T00:00:00\", \"2020-11-16T00:00:00\", \"2020-11-17T00:00:00\", \"2020-11-18T00:00:00\", \"2020-11-19T00:00:00\", \"2020-11-20T00:00:00\", \"2020-11-21T00:00:00\", \"2020-11-22T00:00:00\", \"2020-11-23T00:00:00\", \"2020-11-24T00:00:00\", \"2020-11-25T00:00:00\", \"2020-11-26T00:00:00\", \"2020-11-27T00:00:00\", \"2020-11-28T00:00:00\", \"2020-11-29T00:00:00\", \"2020-11-30T00:00:00\", \"2020-12-01T00:00:00\", \"2020-12-02T00:00:00\", \"2020-12-03T00:00:00\", \"2020-12-04T00:00:00\", \"2020-12-05T00:00:00\", \"2020-12-06T00:00:00\", \"2020-12-07T00:00:00\", \"2020-12-08T00:00:00\", \"2020-12-09T00:00:00\", \"2020-12-10T00:00:00\", \"2020-12-11T00:00:00\", \"2020-12-12T00:00:00\", \"2020-12-13T00:00:00\", \"2020-12-14T00:00:00\", \"2020-12-15T00:00:00\", \"2020-12-16T00:00:00\", \"2020-12-17T00:00:00\", \"2020-12-18T00:00:00\", \"2020-12-19T00:00:00\", \"2020-12-20T00:00:00\", \"2020-12-21T00:00:00\", \"2020-12-22T00:00:00\", \"2020-12-23T00:00:00\", \"2020-12-24T00:00:00\", \"2020-12-25T00:00:00\", \"2020-12-26T00:00:00\", \"2020-12-27T00:00:00\", \"2020-12-28T00:00:00\", \"2020-12-29T00:00:00\", \"2020-12-30T00:00:00\", \"2020-12-31T00:00:00\", \"2021-01-01T00:00:00\", \"2021-01-02T00:00:00\", \"2021-01-03T00:00:00\", \"2021-01-04T00:00:00\", \"2021-01-05T00:00:00\", \"2021-01-06T00:00:00\", \"2021-01-07T00:00:00\", \"2021-01-08T00:00:00\", \"2021-01-09T00:00:00\", \"2021-01-10T00:00:00\", \"2021-01-11T00:00:00\", \"2021-01-12T00:00:00\", \"2021-01-13T00:00:00\", \"2021-01-14T00:00:00\", \"2021-01-15T00:00:00\", \"2021-01-16T00:00:00\", \"2021-01-17T00:00:00\", \"2021-01-18T00:00:00\", \"2021-01-19T00:00:00\", \"2021-01-20T00:00:00\", \"2021-01-21T00:00:00\", \"2021-01-22T00:00:00\", \"2021-01-23T00:00:00\", \"2021-01-24T00:00:00\", \"2021-01-25T00:00:00\", \"2021-01-26T00:00:00\", \"2021-01-27T00:00:00\", \"2021-01-28T00:00:00\", \"2021-01-29T00:00:00\", \"2021-01-30T00:00:00\", \"2021-01-31T00:00:00\", \"2021-02-01T00:00:00\", \"2021-02-02T00:00:00\", \"2021-02-03T00:00:00\", \"2021-02-04T00:00:00\", \"2021-02-05T00:00:00\", \"2021-02-06T00:00:00\", \"2021-02-07T00:00:00\", \"2021-02-08T00:00:00\", \"2021-02-09T00:00:00\", \"2021-02-10T00:00:00\", \"2021-02-11T00:00:00\", \"2021-02-12T00:00:00\", \"2021-02-13T00:00:00\", \"2021-02-14T00:00:00\", \"2021-02-15T00:00:00\", \"2021-02-16T00:00:00\", \"2021-02-17T00:00:00\", \"2021-02-18T00:00:00\", \"2021-02-19T00:00:00\", \"2021-02-20T00:00:00\", \"2021-02-21T00:00:00\", \"2021-02-22T00:00:00\", \"2021-02-23T00:00:00\", \"2021-02-24T00:00:00\", \"2021-02-25T00:00:00\", \"2021-02-26T00:00:00\", \"2021-02-27T00:00:00\", \"2021-02-28T00:00:00\", \"2021-03-01T00:00:00\", \"2021-03-02T00:00:00\", \"2021-03-03T00:00:00\", \"2021-03-04T00:00:00\", \"2021-03-05T00:00:00\", \"2021-03-06T00:00:00\", \"2021-03-07T00:00:00\", \"2021-03-08T00:00:00\", \"2021-03-09T00:00:00\", \"2021-03-10T00:00:00\", \"2021-03-11T00:00:00\", \"2021-03-12T00:00:00\", \"2021-03-13T00:00:00\", \"2021-03-14T00:00:00\", \"2021-03-15T00:00:00\", \"2021-03-16T00:00:00\", \"2021-03-17T00:00:00\", \"2021-03-18T00:00:00\", \"2021-03-19T00:00:00\", \"2021-03-20T00:00:00\", \"2021-03-21T00:00:00\", \"2021-03-22T00:00:00\", \"2021-03-23T00:00:00\", \"2021-03-24T00:00:00\", \"2021-03-25T00:00:00\", \"2021-03-26T00:00:00\", \"2021-03-27T00:00:00\", \"2021-03-28T00:00:00\", \"2021-03-29T00:00:00\", \"2021-03-30T00:00:00\", \"2021-03-31T00:00:00\", \"2021-04-01T00:00:00\", \"2021-04-02T00:00:00\", \"2021-04-03T00:00:00\", \"2021-04-04T00:00:00\", \"2021-04-05T00:00:00\", \"2021-04-06T00:00:00\", \"2021-04-07T00:00:00\", \"2021-04-08T00:00:00\", \"2021-04-09T00:00:00\", \"2021-04-10T00:00:00\", \"2021-04-11T00:00:00\", \"2021-04-12T00:00:00\", \"2021-04-13T00:00:00\", \"2021-04-14T00:00:00\", \"2021-04-15T00:00:00\", \"2021-04-16T00:00:00\", \"2021-04-17T00:00:00\", \"2021-04-18T00:00:00\", \"2021-04-19T00:00:00\", \"2021-04-20T00:00:00\", \"2021-04-21T00:00:00\", \"2021-04-22T00:00:00\", \"2021-04-23T00:00:00\", \"2021-04-24T00:00:00\", \"2021-04-25T00:00:00\", \"2021-04-26T00:00:00\", \"2021-04-27T00:00:00\", \"2021-04-28T00:00:00\", \"2021-04-29T00:00:00\", \"2021-04-30T00:00:00\", \"2021-05-01T00:00:00\", \"2021-05-02T00:00:00\", \"2021-05-03T00:00:00\", \"2021-05-04T00:00:00\", \"2021-05-05T00:00:00\", \"2021-05-06T00:00:00\", \"2021-05-07T00:00:00\", \"2021-05-08T00:00:00\", \"2021-05-09T00:00:00\", \"2021-05-10T00:00:00\", \"2021-05-11T00:00:00\", \"2021-05-12T00:00:00\", \"2021-05-13T00:00:00\", \"2021-05-14T00:00:00\", \"2021-05-15T00:00:00\", \"2021-05-16T00:00:00\", \"2021-05-17T00:00:00\", \"2021-05-18T00:00:00\", \"2021-05-19T00:00:00\", \"2021-05-20T00:00:00\", \"2021-05-21T00:00:00\", \"2021-05-22T00:00:00\", \"2021-05-23T00:00:00\", \"2021-05-24T00:00:00\", \"2021-05-25T00:00:00\", \"2021-05-26T00:00:00\", \"2021-05-27T00:00:00\", \"2021-05-28T00:00:00\", \"2021-05-29T00:00:00\", \"2021-05-30T00:00:00\", \"2021-05-31T00:00:00\", \"2021-06-01T00:00:00\", \"2021-06-02T00:00:00\", \"2021-06-03T00:00:00\", \"2021-06-04T00:00:00\", \"2021-06-05T00:00:00\", \"2021-06-06T00:00:00\", \"2021-06-07T00:00:00\", \"2021-06-08T00:00:00\", \"2021-06-09T00:00:00\", \"2021-06-10T00:00:00\", \"2021-06-11T00:00:00\", \"2021-06-12T00:00:00\", \"2021-06-13T00:00:00\", \"2021-06-14T00:00:00\", \"2021-06-15T00:00:00\", \"2021-06-16T00:00:00\", \"2021-06-17T00:00:00\", \"2021-06-18T00:00:00\", \"2021-06-19T00:00:00\", \"2021-06-20T00:00:00\", \"2021-06-21T00:00:00\", \"2021-06-22T00:00:00\", \"2021-06-23T00:00:00\", \"2021-06-24T00:00:00\", \"2021-06-25T00:00:00\", \"2021-06-26T00:00:00\", \"2021-06-27T00:00:00\", \"2021-06-28T00:00:00\", \"2021-06-29T00:00:00\", \"2021-06-30T00:00:00\", \"2021-07-01T00:00:00\", \"2021-07-02T00:00:00\", \"2021-07-03T00:00:00\", \"2021-07-04T00:00:00\", \"2021-07-05T00:00:00\", \"2021-07-06T00:00:00\", \"2021-07-07T00:00:00\", \"2021-07-08T00:00:00\", \"2021-07-09T00:00:00\", \"2021-07-10T00:00:00\", \"2021-07-11T00:00:00\", \"2021-07-12T00:00:00\", \"2021-07-13T00:00:00\", \"2021-07-14T00:00:00\", \"2021-07-15T00:00:00\", \"2021-07-16T00:00:00\", \"2021-07-17T00:00:00\", \"2021-07-18T00:00:00\", \"2021-07-19T00:00:00\", \"2021-07-20T00:00:00\", \"2021-07-21T00:00:00\", \"2021-07-22T00:00:00\", \"2021-07-23T00:00:00\", \"2021-07-24T00:00:00\", \"2021-07-25T00:00:00\", \"2021-07-26T00:00:00\", \"2021-07-27T00:00:00\", \"2021-07-28T00:00:00\", \"2021-07-29T00:00:00\", \"2021-07-30T00:00:00\", \"2021-07-31T00:00:00\", \"2021-08-01T00:00:00\", \"2021-08-02T00:00:00\", \"2021-08-03T00:00:00\", \"2021-08-04T00:00:00\", \"2021-08-05T00:00:00\", \"2021-08-06T00:00:00\", \"2021-08-07T00:00:00\", \"2021-08-08T00:00:00\", \"2021-08-09T00:00:00\", \"2021-08-10T00:00:00\", \"2021-08-11T00:00:00\", \"2021-08-12T00:00:00\", \"2021-08-13T00:00:00\", \"2021-08-14T00:00:00\", \"2021-08-15T00:00:00\", \"2021-08-16T00:00:00\", \"2021-08-17T00:00:00\", \"2021-08-18T00:00:00\", \"2021-08-19T00:00:00\", \"2021-08-20T00:00:00\", \"2021-08-21T00:00:00\", \"2021-08-22T00:00:00\", \"2021-08-23T00:00:00\", \"2021-08-24T00:00:00\", \"2021-08-25T00:00:00\", \"2021-08-26T00:00:00\", \"2021-08-27T00:00:00\", \"2021-08-28T00:00:00\", \"2021-08-29T00:00:00\", \"2021-08-30T00:00:00\", \"2021-08-31T00:00:00\", \"2021-09-01T00:00:00\", \"2021-09-02T00:00:00\", \"2021-09-03T00:00:00\", \"2021-09-04T00:00:00\", \"2021-09-05T00:00:00\", \"2021-09-06T00:00:00\", \"2021-09-07T00:00:00\", \"2021-09-08T00:00:00\", \"2021-09-09T00:00:00\", \"2021-09-10T00:00:00\", \"2021-09-11T00:00:00\", \"2021-09-12T00:00:00\", \"2021-09-13T00:00:00\", \"2021-09-14T00:00:00\", \"2021-09-15T00:00:00\", \"2021-09-16T00:00:00\", \"2021-09-17T00:00:00\", \"2021-09-18T00:00:00\", \"2021-09-19T00:00:00\", \"2021-09-20T00:00:00\", \"2021-09-21T00:00:00\", \"2021-09-22T00:00:00\", \"2021-09-23T00:00:00\", \"2021-09-24T00:00:00\", \"2021-09-25T00:00:00\", \"2021-09-26T00:00:00\"], \"xaxis\": \"x\", \"y\": [-0.488889, 1.861111, 1.072222, 0.320988, 1.209877, 2.027778, 7.027778, 3.7111110000000003, 0.138889, 0.911111, 2.209877, 1.35, 0.07222200000000001, -0.6055560000000001, -1.3722219999999998, -0.14444400000000002, 0.283333, 0.691358, 2.7111110000000003, 1.7333330000000002, 0.816667, 2.3722220000000003, 3.9, 4.728395, 4.401235, 7.179011999999999, 4.527778, 6.4, 5.2, 4.6722220000000005, 2.544444, 1.62963, 2.077778, 0.027777999999999997, 1.1722219999999999, -5.222222, -3.833333, 0.883333, -0.030864, 1.660494, 3.172222, 7.0055559999999995, 7.088889, 7.144444, 8.233333, 10.345678999999999, -0.47222200000000003, -4.0, -0.9, 2.9944439999999997, 4.483333, 8.738889, 4.45679, 1.9722220000000001, 8.75, 5.938889, 7.266667, 4.911111, 3.838889, 5.481481, 7.272222, 4.627778, 7.733333, 2.8722220000000003, 1.822222, 5.066667, 4.308642, 6.633333, 10.061111, 5.838889, 4.038889, 8.166667, 6.4944440000000005, 4.858025, 3.7833330000000003, 5.338889, 8.261111, 10.533333, 8.783333, 9.766667, 16.203704000000002, 10.616667, 10.433333, 10.166667, 13.372222, 13.944444, 10.65, 6.191358, 9.006173, 10.477778, 13.372222, 10.522222, 10.611111, 11.883333, 8.197531, 6.85, 11.572222, 12.983333, 9.427778, 10.461111, 10.1, 8.91358, 8.344444000000001, 8.633333, 13.544444, 12.861111, 14.183333, 11.222222, 12.679012, 10.35, 11.077778, 8.788889, 7.116667, 8.788889, 11.172222, 14.722222, 11.266667, 11.822222, 14.333332999999998, 16.3, 18.655556, 23.066667000000002, 21.191357999999997, 17.811111, 20.716667, 15.2, 17.377778, 16.227778, 18.833333, 15.993827, 16.161111, 19.916667, 16.327778, 16.461111, 20.35, 15.033332999999999, 18.87037, 21.2, 18.233333, 13.016667, 14.611111, 17.0, 17.788889, 19.654321, 19.044444, 18.627778, 20.211111, 18.644444, 19.955556, 20.944444, 20.895062, 22.188889, 20.244444, 21.066667000000002, 23.55, 26.594444, 25.233333, 22.024691, 22.994444, 26.266666999999998, 27.516666999999998, 26.105556, 25.383333, 23.722222, 24.728395000000003, 22.938889, 23.661111, 23.416667, 22.727778, 19.077778, 23.338889, 22.956789999999998, 22.85, 25.488889, 25.905556, 21.405556, 21.955556, 23.372222, 23.740741, 23.983333, 21.955556, 20.65, 20.627778, 23.111110999999998, 20.205556, 21.37037, 22.127778, 23.866667, 24.655556, 25.066667000000002, 25.205556, 24.227778, 24.981481, 19.433332999999998, 18.8, 19.277778, 19.716667, 22.411111, 23.466667, 22.845679, 24.962963000000002, 24.922222, 25.872222, 22.272222, 21.022222, 21.005556, 22.17284, 23.211111, 22.888889000000002, 22.933332999999998, 23.377778, 23.183332999999998, 26.122222, 26.17284, 26.9, 26.483333000000002, 27.605556, 26.905556, 25.666667, 22.683332999999998, 23.407407, 26.577778000000002, 25.022222, 25.85, 27.261111, 28.638889000000002, 29.405556, 28.493827000000003, 27.888889000000002, 27.088889, 28.011111, 28.094444, 27.85, 27.533333000000002, 25.339506, 25.816667000000002, 27.233333000000002, 28.633333, 28.344444, 27.711111, 27.688889, 27.098765000000004, 26.9, 24.55, 25.488889, 24.527778, 22.727778, 22.877778, 20.055556, 19.75, 21.438889, 22.927778, 21.888889000000002, 21.872222, 20.488889, 19.296295999999998, 19.827778, 20.927778, 22.594444, 21.0, 20.138889000000002, 18.544444, 18.475309, 16.533333, 16.85, 16.927778, 18.25, 18.3, 18.838889, 17.87037, 16.377778, 16.155556, 17.283333, 17.679012, 18.598765, 19.814815, 19.771604999999997, 15.294444, 13.488889000000002, 13.994444, 16.583333, 16.35, 16.351851999999997, 15.623457, 15.344444000000001, 15.588889000000002, 12.25, 11.294444, 11.822222, 11.394444, 11.024691, 10.95, 11.977778, 12.616667, 12.538889, 12.011111, 9.511111, 9.382716, 10.855556, 11.327778, 13.766667000000002, 11.955556, 9.261111, 10.588889, 11.623457, 11.233333, 9.572222, 4.988889, 4.016667, 9.944444, 10.927778, 12.234568, 7.488889, 7.411111, 6.811111, 6.45, 7.872222, 9.694444, 9.598765, 9.91358, 11.972222, 13.961110999999999, 17.883333, 14.466667000000001, 5.7555559999999995, 8.047619000000001, 6.936508, 3.644444, 4.122222, 5.811111, 8.122222, 5.011111, 2.0, 1.3777780000000002, 1.111111, 1.7277779999999998, 2.911111, 1.488889, 0.677778, 1.067901, 1.7666669999999998, 2.75, -0.594444, 2.6555560000000002, 4.877778, 6.0, 2.055556, -0.8722219999999999, -5.527778, -5.472222, -5.472222, -2.8666669999999996, -1.7222220000000001, -3.592593, -3.077778, -0.7722220000000001, 0.311111, 2.7166669999999997, 3.6277779999999997, -1.395062, 0.493827, 0.916667, 2.477778, 0.7055560000000001, -8.977778, -5.822222, -2.4, -3.2166669999999997, -3.05, -0.6055560000000001, -4.2555559999999995, -4.961111, -12.572222, -12.1, -9.583333, -6.233333, -5.5833330000000005, -1.355556, 4.205556, 3.194444, 6.4, -2.272222, -3.011111, -3.022222, -4.894444, 0.138889, 5.738889, 7.616667, 8.15, 6.611111, 6.544444, 4.611111, 2.972222, -2.644444, -5.427778, 0.466667, 5.222222, 5.216667, -3.25, -0.41111099999999995, -1.516667, 1.527778, 5.677778, 4.3277779999999995, -1.822222, -0.15, 4.927778, null, null, 4.716667, 9.383333, 0.777778, -2.577778, -6.694444, -3.905556, 5.466667, null, 13.016667, 8.827778, 2.7833330000000003, 3.911111, 5.1666669999999995, 8.672222, 6.283333, 8.233333, 7.222222, 1.7777779999999999, 4.227778, 5.844444, 9.644444, 6.216667, 5.261111, 7.2555559999999995, 7.861111, 8.527778, 11.222222, 7.111111, 8.905555999999999, 8.544444, 13.311110999999999, 9.477778, 9.65, 11.827778, 11.95, 8.333333, 5.75, 6.411111, 9.6, 10.522222, 12.683333, 14.411110999999998, 13.305556, 11.505556, 12.183333, 11.405555999999999, 14.338889000000002, 14.911110999999998, 16.961111, 14.483332999999998, 8.566667, 9.855556, 13.155555999999999, 14.577778, 12.2, 10.311111, 11.188889, 15.105556, 12.65, 9.75, 9.027778, 11.25, 12.233333, 10.516667, 10.411111, 14.311110999999999, 16.883333, 20.127778, 20.838889, 16.661111, 16.716667, 15.183333, 14.633332999999999, 16.144444, 16.355556, 16.455556, 13.444444, 10.3, 11.905555999999999, 16.3, 16.65, 13.544444, 16.255556, 13.894444, 17.222222, 16.633333, 12.688889, 15.155555999999999, 18.388889000000002, 21.322222, 23.222222, 21.144444, 19.604938, 15.493827, 17.483333, 21.022222, 15.616667000000001, 15.3, 19.277778, 22.072222, 18.522222, 15.588889000000002, 17.877778, 15.472222, 16.327778, 17.938889, 20.761111, 20.266667, 22.194444, 22.9, 17.772222, 18.722222, 22.105556, 22.127778, 23.261111, 24.688889, 25.144444, 23.816667000000002, 22.45, 24.411111, 24.472222, 23.75, 20.977778, 21.394444, 20.672222, 21.172222, 22.616667, 24.583333, 23.033333, 21.555556, 20.438889, 22.411111, 23.777778, 22.188889, 24.255556, 23.311111, 23.8, 23.827778, 25.272222, 25.177778, 22.772222, 24.277778, 22.433332999999998, 23.133333, 24.288889, 24.966667, 25.272222, 25.061111, 25.844444, 27.411111, 28.261111, 28.527778, 26.811111, 26.377778000000003, 25.994444, 26.061111, 26.255556, 26.361110999999998, 27.911111, 27.411111, 27.866667, 27.9, 27.522221999999996, 27.566667, 28.238889, 28.666666999999997, 28.905556, 29.366667, 29.505556, 27.016666999999998, 26.1, 27.516666999999998, 28.711111, 29.244444, 27.883333, 27.805556, 25.555556, 27.066667, 24.377778, 26.227778000000004, 25.755556, 25.333333, 23.366667, 24.75, 24.288889, 24.033333, 23.2, 23.361110999999998, 25.616667, 23.311111, 25.011111, 22.216667, 24.444444, 23.827778, 25.344444, 21.644444, 23.944444, 22.622222, 23.761111, 23.844444, 22.138889000000002, 21.594444, 21.233333, 22.233333, 21.127778, 20.655556, 21.311111, 21.472222, 22.811111, 22.033333, 22.994444, 24.144444, 22.666667, 21.772222, 21.722222, 22.211111, 19.416667, 21.372222, 21.544444, 23.255556, 21.605556, null, null, null, null, null], \"yaxis\": \"y\"}, {\"mode\": \"lines\", \"name\": \"rainfall\", \"type\": \"scatter\", \"x\": [\"2020-01-01T00:00:00\", \"2020-01-02T00:00:00\", \"2020-01-03T00:00:00\", \"2020-01-04T00:00:00\", \"2020-01-05T00:00:00\", \"2020-01-06T00:00:00\", \"2020-01-07T00:00:00\", \"2020-01-08T00:00:00\", \"2020-01-09T00:00:00\", \"2020-01-10T00:00:00\", \"2020-01-11T00:00:00\", \"2020-01-12T00:00:00\", \"2020-01-13T00:00:00\", \"2020-01-14T00:00:00\", \"2020-01-15T00:00:00\", \"2020-01-16T00:00:00\", \"2020-01-17T00:00:00\", \"2020-01-18T00:00:00\", \"2020-01-19T00:00:00\", \"2020-01-20T00:00:00\", \"2020-01-21T00:00:00\", \"2020-01-22T00:00:00\", \"2020-01-23T00:00:00\", \"2020-01-24T00:00:00\", \"2020-01-25T00:00:00\", \"2020-01-26T00:00:00\", \"2020-01-27T00:00:00\", \"2020-01-28T00:00:00\", \"2020-01-29T00:00:00\", \"2020-01-30T00:00:00\", \"2020-01-31T00:00:00\", \"2020-02-01T00:00:00\", \"2020-02-02T00:00:00\", \"2020-02-03T00:00:00\", \"2020-02-04T00:00:00\", \"2020-02-05T00:00:00\", \"2020-02-06T00:00:00\", \"2020-02-07T00:00:00\", \"2020-02-08T00:00:00\", \"2020-02-09T00:00:00\", \"2020-02-10T00:00:00\", \"2020-02-11T00:00:00\", \"2020-02-12T00:00:00\", \"2020-02-13T00:00:00\", \"2020-02-14T00:00:00\", \"2020-02-15T00:00:00\", \"2020-02-16T00:00:00\", \"2020-02-17T00:00:00\", \"2020-02-18T00:00:00\", \"2020-02-19T00:00:00\", \"2020-02-20T00:00:00\", \"2020-02-21T00:00:00\", \"2020-02-22T00:00:00\", \"2020-02-23T00:00:00\", \"2020-02-24T00:00:00\", \"2020-02-25T00:00:00\", \"2020-02-26T00:00:00\", \"2020-02-27T00:00:00\", \"2020-02-28T00:00:00\", \"2020-02-29T00:00:00\", \"2020-03-01T00:00:00\", \"2020-03-02T00:00:00\", \"2020-03-03T00:00:00\", \"2020-03-04T00:00:00\", \"2020-03-05T00:00:00\", \"2020-03-06T00:00:00\", \"2020-03-07T00:00:00\", \"2020-03-08T00:00:00\", \"2020-03-09T00:00:00\", \"2020-03-10T00:00:00\", \"2020-03-11T00:00:00\", \"2020-03-12T00:00:00\", \"2020-03-13T00:00:00\", \"2020-03-14T00:00:00\", \"2020-03-15T00:00:00\", \"2020-03-16T00:00:00\", \"2020-03-17T00:00:00\", \"2020-03-18T00:00:00\", \"2020-03-19T00:00:00\", \"2020-03-20T00:00:00\", \"2020-03-21T00:00:00\", \"2020-03-22T00:00:00\", \"2020-03-23T00:00:00\", \"2020-03-24T00:00:00\", \"2020-03-25T00:00:00\", \"2020-03-26T00:00:00\", \"2020-03-27T00:00:00\", \"2020-03-28T00:00:00\", \"2020-03-29T00:00:00\", \"2020-03-30T00:00:00\", \"2020-03-31T00:00:00\", \"2020-04-01T00:00:00\", \"2020-04-02T00:00:00\", \"2020-04-03T00:00:00\", \"2020-04-04T00:00:00\", \"2020-04-05T00:00:00\", \"2020-04-06T00:00:00\", \"2020-04-07T00:00:00\", \"2020-04-08T00:00:00\", \"2020-04-09T00:00:00\", \"2020-04-10T00:00:00\", \"2020-04-11T00:00:00\", \"2020-04-12T00:00:00\", \"2020-04-13T00:00:00\", \"2020-04-14T00:00:00\", \"2020-04-15T00:00:00\", \"2020-04-16T00:00:00\", \"2020-04-17T00:00:00\", \"2020-04-18T00:00:00\", \"2020-04-19T00:00:00\", \"2020-04-20T00:00:00\", \"2020-04-21T00:00:00\", \"2020-04-22T00:00:00\", \"2020-04-23T00:00:00\", \"2020-04-24T00:00:00\", \"2020-04-25T00:00:00\", \"2020-04-26T00:00:00\", \"2020-04-27T00:00:00\", \"2020-04-28T00:00:00\", \"2020-04-29T00:00:00\", \"2020-04-30T00:00:00\", \"2020-05-01T00:00:00\", \"2020-05-02T00:00:00\", \"2020-05-03T00:00:00\", \"2020-05-04T00:00:00\", \"2020-05-05T00:00:00\", \"2020-05-06T00:00:00\", \"2020-05-07T00:00:00\", \"2020-05-08T00:00:00\", \"2020-05-09T00:00:00\", \"2020-05-10T00:00:00\", \"2020-05-11T00:00:00\", \"2020-05-12T00:00:00\", \"2020-05-13T00:00:00\", \"2020-05-14T00:00:00\", \"2020-05-15T00:00:00\", \"2020-05-16T00:00:00\", \"2020-05-17T00:00:00\", \"2020-05-18T00:00:00\", \"2020-05-19T00:00:00\", \"2020-05-20T00:00:00\", \"2020-05-21T00:00:00\", \"2020-05-22T00:00:00\", \"2020-05-23T00:00:00\", \"2020-05-24T00:00:00\", \"2020-05-25T00:00:00\", \"2020-05-26T00:00:00\", \"2020-05-27T00:00:00\", \"2020-05-28T00:00:00\", \"2020-05-29T00:00:00\", \"2020-05-30T00:00:00\", \"2020-05-31T00:00:00\", \"2020-06-01T00:00:00\", \"2020-06-02T00:00:00\", \"2020-06-03T00:00:00\", \"2020-06-04T00:00:00\", \"2020-06-05T00:00:00\", \"2020-06-06T00:00:00\", \"2020-06-07T00:00:00\", \"2020-06-08T00:00:00\", \"2020-06-09T00:00:00\", \"2020-06-10T00:00:00\", \"2020-06-11T00:00:00\", \"2020-06-12T00:00:00\", \"2020-06-13T00:00:00\", \"2020-06-14T00:00:00\", \"2020-06-15T00:00:00\", \"2020-06-16T00:00:00\", \"2020-06-17T00:00:00\", \"2020-06-18T00:00:00\", \"2020-06-19T00:00:00\", \"2020-06-20T00:00:00\", \"2020-06-21T00:00:00\", \"2020-06-22T00:00:00\", \"2020-06-23T00:00:00\", \"2020-06-24T00:00:00\", \"2020-06-25T00:00:00\", \"2020-06-26T00:00:00\", \"2020-06-27T00:00:00\", \"2020-06-28T00:00:00\", \"2020-06-29T00:00:00\", \"2020-06-30T00:00:00\", \"2020-07-01T00:00:00\", \"2020-07-02T00:00:00\", \"2020-07-03T00:00:00\", \"2020-07-04T00:00:00\", \"2020-07-05T00:00:00\", \"2020-07-06T00:00:00\", \"2020-07-07T00:00:00\", \"2020-07-08T00:00:00\", \"2020-07-09T00:00:00\", \"2020-07-10T00:00:00\", \"2020-07-11T00:00:00\", \"2020-07-12T00:00:00\", \"2020-07-13T00:00:00\", \"2020-07-14T00:00:00\", \"2020-07-15T00:00:00\", \"2020-07-16T00:00:00\", \"2020-07-17T00:00:00\", \"2020-07-18T00:00:00\", \"2020-07-19T00:00:00\", \"2020-07-20T00:00:00\", \"2020-07-21T00:00:00\", \"2020-07-22T00:00:00\", \"2020-07-23T00:00:00\", \"2020-07-24T00:00:00\", \"2020-07-25T00:00:00\", \"2020-07-26T00:00:00\", \"2020-07-27T00:00:00\", \"2020-07-28T00:00:00\", \"2020-07-29T00:00:00\", \"2020-07-30T00:00:00\", \"2020-07-31T00:00:00\", \"2020-08-01T00:00:00\", \"2020-08-02T00:00:00\", \"2020-08-03T00:00:00\", \"2020-08-04T00:00:00\", \"2020-08-05T00:00:00\", \"2020-08-06T00:00:00\", \"2020-08-07T00:00:00\", \"2020-08-08T00:00:00\", \"2020-08-09T00:00:00\", \"2020-08-10T00:00:00\", \"2020-08-11T00:00:00\", \"2020-08-12T00:00:00\", \"2020-08-13T00:00:00\", \"2020-08-14T00:00:00\", \"2020-08-15T00:00:00\", \"2020-08-16T00:00:00\", \"2020-08-17T00:00:00\", \"2020-08-18T00:00:00\", \"2020-08-19T00:00:00\", \"2020-08-20T00:00:00\", \"2020-08-21T00:00:00\", \"2020-08-22T00:00:00\", \"2020-08-23T00:00:00\", \"2020-08-24T00:00:00\", \"2020-08-25T00:00:00\", \"2020-08-26T00:00:00\", \"2020-08-27T00:00:00\", \"2020-08-28T00:00:00\", \"2020-08-29T00:00:00\", \"2020-08-30T00:00:00\", \"2020-08-31T00:00:00\", \"2020-09-01T00:00:00\", \"2020-09-02T00:00:00\", \"2020-09-03T00:00:00\", \"2020-09-04T00:00:00\", \"2020-09-05T00:00:00\", \"2020-09-06T00:00:00\", \"2020-09-07T00:00:00\", \"2020-09-08T00:00:00\", \"2020-09-09T00:00:00\", \"2020-09-10T00:00:00\", \"2020-09-11T00:00:00\", \"2020-09-12T00:00:00\", \"2020-09-13T00:00:00\", \"2020-09-14T00:00:00\", \"2020-09-15T00:00:00\", \"2020-09-16T00:00:00\", \"2020-09-17T00:00:00\", \"2020-09-18T00:00:00\", \"2020-09-19T00:00:00\", \"2020-09-20T00:00:00\", \"2020-09-21T00:00:00\", \"2020-09-22T00:00:00\", \"2020-09-23T00:00:00\", \"2020-09-24T00:00:00\", \"2020-09-25T00:00:00\", \"2020-09-26T00:00:00\", \"2020-09-27T00:00:00\", \"2020-09-28T00:00:00\", \"2020-09-29T00:00:00\", \"2020-09-30T00:00:00\", \"2020-10-01T00:00:00\", \"2020-10-02T00:00:00\", \"2020-10-03T00:00:00\", \"2020-10-04T00:00:00\", \"2020-10-05T00:00:00\", \"2020-10-06T00:00:00\", \"2020-10-07T00:00:00\", \"2020-10-08T00:00:00\", \"2020-10-09T00:00:00\", \"2020-10-10T00:00:00\", \"2020-10-11T00:00:00\", \"2020-10-12T00:00:00\", \"2020-10-13T00:00:00\", \"2020-10-14T00:00:00\", \"2020-10-15T00:00:00\", \"2020-10-16T00:00:00\", \"2020-10-17T00:00:00\", \"2020-10-18T00:00:00\", \"2020-10-19T00:00:00\", \"2020-10-20T00:00:00\", \"2020-10-21T00:00:00\", \"2020-10-22T00:00:00\", \"2020-10-23T00:00:00\", \"2020-10-24T00:00:00\", \"2020-10-25T00:00:00\", \"2020-10-26T00:00:00\", \"2020-10-27T00:00:00\", \"2020-10-28T00:00:00\", \"2020-10-29T00:00:00\", \"2020-10-30T00:00:00\", \"2020-10-31T00:00:00\", \"2020-11-01T00:00:00\", \"2020-11-02T00:00:00\", \"2020-11-03T00:00:00\", \"2020-11-04T00:00:00\", \"2020-11-05T00:00:00\", \"2020-11-06T00:00:00\", \"2020-11-07T00:00:00\", \"2020-11-08T00:00:00\", \"2020-11-09T00:00:00\", \"2020-11-10T00:00:00\", \"2020-11-11T00:00:00\", \"2020-11-12T00:00:00\", \"2020-11-13T00:00:00\", \"2020-11-14T00:00:00\", \"2020-11-15T00:00:00\", \"2020-11-16T00:00:00\", \"2020-11-17T00:00:00\", \"2020-11-18T00:00:00\", \"2020-11-19T00:00:00\", \"2020-11-20T00:00:00\", \"2020-11-21T00:00:00\", \"2020-11-22T00:00:00\", \"2020-11-23T00:00:00\", \"2020-11-24T00:00:00\", \"2020-11-25T00:00:00\", \"2020-11-26T00:00:00\", \"2020-11-27T00:00:00\", \"2020-11-28T00:00:00\", \"2020-11-29T00:00:00\", \"2020-11-30T00:00:00\", \"2020-12-01T00:00:00\", \"2020-12-02T00:00:00\", \"2020-12-03T00:00:00\", \"2020-12-04T00:00:00\", \"2020-12-05T00:00:00\", \"2020-12-06T00:00:00\", \"2020-12-07T00:00:00\", \"2020-12-08T00:00:00\", \"2020-12-09T00:00:00\", \"2020-12-10T00:00:00\", \"2020-12-11T00:00:00\", \"2020-12-12T00:00:00\", \"2020-12-13T00:00:00\", \"2020-12-14T00:00:00\", \"2020-12-15T00:00:00\", \"2020-12-16T00:00:00\", \"2020-12-17T00:00:00\", \"2020-12-18T00:00:00\", \"2020-12-19T00:00:00\", \"2020-12-20T00:00:00\", \"2020-12-21T00:00:00\", \"2020-12-22T00:00:00\", \"2020-12-23T00:00:00\", \"2020-12-24T00:00:00\", \"2020-12-25T00:00:00\", \"2020-12-26T00:00:00\", \"2020-12-27T00:00:00\", \"2020-12-28T00:00:00\", \"2020-12-29T00:00:00\", \"2020-12-30T00:00:00\", \"2020-12-31T00:00:00\", \"2021-01-01T00:00:00\", \"2021-01-02T00:00:00\", \"2021-01-03T00:00:00\", \"2021-01-04T00:00:00\", \"2021-01-05T00:00:00\", \"2021-01-06T00:00:00\", \"2021-01-07T00:00:00\", \"2021-01-08T00:00:00\", \"2021-01-09T00:00:00\", \"2021-01-10T00:00:00\", \"2021-01-11T00:00:00\", \"2021-01-12T00:00:00\", \"2021-01-13T00:00:00\", \"2021-01-14T00:00:00\", \"2021-01-15T00:00:00\", \"2021-01-16T00:00:00\", \"2021-01-17T00:00:00\", \"2021-01-18T00:00:00\", \"2021-01-19T00:00:00\", \"2021-01-20T00:00:00\", \"2021-01-21T00:00:00\", \"2021-01-22T00:00:00\", \"2021-01-23T00:00:00\", \"2021-01-24T00:00:00\", \"2021-01-25T00:00:00\", \"2021-01-26T00:00:00\", \"2021-01-27T00:00:00\", \"2021-01-28T00:00:00\", \"2021-01-29T00:00:00\", \"2021-01-30T00:00:00\", \"2021-01-31T00:00:00\", \"2021-02-01T00:00:00\", \"2021-02-02T00:00:00\", \"2021-02-03T00:00:00\", \"2021-02-04T00:00:00\", \"2021-02-05T00:00:00\", \"2021-02-06T00:00:00\", \"2021-02-07T00:00:00\", \"2021-02-08T00:00:00\", \"2021-02-09T00:00:00\", \"2021-02-10T00:00:00\", \"2021-02-11T00:00:00\", \"2021-02-12T00:00:00\", \"2021-02-13T00:00:00\", \"2021-02-14T00:00:00\", \"2021-02-15T00:00:00\", \"2021-02-16T00:00:00\", \"2021-02-17T00:00:00\", \"2021-02-18T00:00:00\", \"2021-02-19T00:00:00\", \"2021-02-20T00:00:00\", \"2021-02-21T00:00:00\", \"2021-02-22T00:00:00\", \"2021-02-23T00:00:00\", \"2021-02-24T00:00:00\", \"2021-02-25T00:00:00\", \"2021-02-26T00:00:00\", \"2021-02-27T00:00:00\", \"2021-02-28T00:00:00\", \"2021-03-01T00:00:00\", \"2021-03-02T00:00:00\", \"2021-03-03T00:00:00\", \"2021-03-04T00:00:00\", \"2021-03-05T00:00:00\", \"2021-03-06T00:00:00\", \"2021-03-07T00:00:00\", \"2021-03-08T00:00:00\", \"2021-03-09T00:00:00\", \"2021-03-10T00:00:00\", \"2021-03-11T00:00:00\", \"2021-03-12T00:00:00\", \"2021-03-13T00:00:00\", \"2021-03-14T00:00:00\", \"2021-03-15T00:00:00\", \"2021-03-16T00:00:00\", \"2021-03-17T00:00:00\", \"2021-03-18T00:00:00\", \"2021-03-19T00:00:00\", \"2021-03-20T00:00:00\", \"2021-03-21T00:00:00\", \"2021-03-22T00:00:00\", \"2021-03-23T00:00:00\", \"2021-03-24T00:00:00\", \"2021-03-25T00:00:00\", \"2021-03-26T00:00:00\", \"2021-03-27T00:00:00\", \"2021-03-28T00:00:00\", \"2021-03-29T00:00:00\", \"2021-03-30T00:00:00\", \"2021-03-31T00:00:00\", \"2021-04-01T00:00:00\", \"2021-04-02T00:00:00\", \"2021-04-03T00:00:00\", \"2021-04-04T00:00:00\", \"2021-04-05T00:00:00\", \"2021-04-06T00:00:00\", \"2021-04-07T00:00:00\", \"2021-04-08T00:00:00\", \"2021-04-09T00:00:00\", \"2021-04-10T00:00:00\", \"2021-04-11T00:00:00\", \"2021-04-12T00:00:00\", \"2021-04-13T00:00:00\", \"2021-04-14T00:00:00\", \"2021-04-15T00:00:00\", \"2021-04-16T00:00:00\", \"2021-04-17T00:00:00\", \"2021-04-18T00:00:00\", \"2021-04-19T00:00:00\", \"2021-04-20T00:00:00\", \"2021-04-21T00:00:00\", \"2021-04-22T00:00:00\", \"2021-04-23T00:00:00\", \"2021-04-24T00:00:00\", \"2021-04-25T00:00:00\", \"2021-04-26T00:00:00\", \"2021-04-27T00:00:00\", \"2021-04-28T00:00:00\", \"2021-04-29T00:00:00\", \"2021-04-30T00:00:00\", \"2021-05-01T00:00:00\", \"2021-05-02T00:00:00\", \"2021-05-03T00:00:00\", \"2021-05-04T00:00:00\", \"2021-05-05T00:00:00\", \"2021-05-06T00:00:00\", \"2021-05-07T00:00:00\", \"2021-05-08T00:00:00\", \"2021-05-09T00:00:00\", \"2021-05-10T00:00:00\", \"2021-05-11T00:00:00\", \"2021-05-12T00:00:00\", \"2021-05-13T00:00:00\", \"2021-05-14T00:00:00\", \"2021-05-15T00:00:00\", \"2021-05-16T00:00:00\", \"2021-05-17T00:00:00\", \"2021-05-18T00:00:00\", \"2021-05-19T00:00:00\", \"2021-05-20T00:00:00\", \"2021-05-21T00:00:00\", \"2021-05-22T00:00:00\", \"2021-05-23T00:00:00\", \"2021-05-24T00:00:00\", \"2021-05-25T00:00:00\", \"2021-05-26T00:00:00\", \"2021-05-27T00:00:00\", \"2021-05-28T00:00:00\", \"2021-05-29T00:00:00\", \"2021-05-30T00:00:00\", \"2021-05-31T00:00:00\", \"2021-06-01T00:00:00\", \"2021-06-02T00:00:00\", \"2021-06-03T00:00:00\", \"2021-06-04T00:00:00\", \"2021-06-05T00:00:00\", \"2021-06-06T00:00:00\", \"2021-06-07T00:00:00\", \"2021-06-08T00:00:00\", \"2021-06-09T00:00:00\", \"2021-06-10T00:00:00\", \"2021-06-11T00:00:00\", \"2021-06-12T00:00:00\", \"2021-06-13T00:00:00\", \"2021-06-14T00:00:00\", \"2021-06-15T00:00:00\", \"2021-06-16T00:00:00\", \"2021-06-17T00:00:00\", \"2021-06-18T00:00:00\", \"2021-06-19T00:00:00\", \"2021-06-20T00:00:00\", \"2021-06-21T00:00:00\", \"2021-06-22T00:00:00\", \"2021-06-23T00:00:00\", \"2021-06-24T00:00:00\", \"2021-06-25T00:00:00\", \"2021-06-26T00:00:00\", \"2021-06-27T00:00:00\", \"2021-06-28T00:00:00\", \"2021-06-29T00:00:00\", \"2021-06-30T00:00:00\", \"2021-07-01T00:00:00\", \"2021-07-02T00:00:00\", \"2021-07-03T00:00:00\", \"2021-07-04T00:00:00\", \"2021-07-05T00:00:00\", \"2021-07-06T00:00:00\", \"2021-07-07T00:00:00\", \"2021-07-08T00:00:00\", \"2021-07-09T00:00:00\", \"2021-07-10T00:00:00\", \"2021-07-11T00:00:00\", \"2021-07-12T00:00:00\", \"2021-07-13T00:00:00\", \"2021-07-14T00:00:00\", \"2021-07-15T00:00:00\", \"2021-07-16T00:00:00\", \"2021-07-17T00:00:00\", \"2021-07-18T00:00:00\", \"2021-07-19T00:00:00\", \"2021-07-20T00:00:00\", \"2021-07-21T00:00:00\", \"2021-07-22T00:00:00\", \"2021-07-23T00:00:00\", \"2021-07-24T00:00:00\", \"2021-07-25T00:00:00\", \"2021-07-26T00:00:00\", \"2021-07-27T00:00:00\", \"2021-07-28T00:00:00\", \"2021-07-29T00:00:00\", \"2021-07-30T00:00:00\", \"2021-07-31T00:00:00\", \"2021-08-01T00:00:00\", \"2021-08-02T00:00:00\", \"2021-08-03T00:00:00\", \"2021-08-04T00:00:00\", \"2021-08-05T00:00:00\", \"2021-08-06T00:00:00\", \"2021-08-07T00:00:00\", \"2021-08-08T00:00:00\", \"2021-08-09T00:00:00\", \"2021-08-10T00:00:00\", \"2021-08-11T00:00:00\", \"2021-08-12T00:00:00\", \"2021-08-13T00:00:00\", \"2021-08-14T00:00:00\", \"2021-08-15T00:00:00\", \"2021-08-16T00:00:00\", \"2021-08-17T00:00:00\", \"2021-08-18T00:00:00\", \"2021-08-19T00:00:00\", \"2021-08-20T00:00:00\", \"2021-08-21T00:00:00\", \"2021-08-22T00:00:00\", \"2021-08-23T00:00:00\", \"2021-08-24T00:00:00\", \"2021-08-25T00:00:00\", \"2021-08-26T00:00:00\", \"2021-08-27T00:00:00\", \"2021-08-28T00:00:00\", \"2021-08-29T00:00:00\", \"2021-08-30T00:00:00\", \"2021-08-31T00:00:00\", \"2021-09-01T00:00:00\", \"2021-09-02T00:00:00\", \"2021-09-03T00:00:00\", \"2021-09-04T00:00:00\", \"2021-09-05T00:00:00\", \"2021-09-06T00:00:00\", \"2021-09-07T00:00:00\", \"2021-09-08T00:00:00\", \"2021-09-09T00:00:00\", \"2021-09-10T00:00:00\", \"2021-09-11T00:00:00\", \"2021-09-12T00:00:00\", \"2021-09-13T00:00:00\", \"2021-09-14T00:00:00\", \"2021-09-15T00:00:00\", \"2021-09-16T00:00:00\", \"2021-09-17T00:00:00\", \"2021-09-18T00:00:00\", \"2021-09-19T00:00:00\", \"2021-09-20T00:00:00\", \"2021-09-21T00:00:00\", \"2021-09-22T00:00:00\", \"2021-09-23T00:00:00\", \"2021-09-24T00:00:00\", \"2021-09-25T00:00:00\", \"2021-09-26T00:00:00\"], \"y\": [0.0, 0.0, 0.0, 0.0, 0.0, 8.748889, 36.971111, 8.9154, 0.2032, 0.0, 0.0, 0.0, 0.0, 0.0508, 0.0, 0.0, 0.0, 0.0, 0.0, 0.0, 0.0, 1.052286, 4.5466, 0.0, 0.0, 0.0508, 7.112, 3.2004, 0.310444, 0.0762, 0.0, 0.0, 0.0, 0.0, 0.15875, 0.1016, 0.0, 0.0, 0.0, 0.0, 0.0, 0.0, 10.216444000000001, 1.905, 0.0, 0.508, 5.644444, 1.27, 0.05644400000000001, 0.0, 0.0, 0.34925, 1.23825, 0.0, 0.0508, 34.064221999999994, 5.6388, 0.028222000000000004, 1.975556, 1.975556, 0.0, 0.0, 0.0, 0.0, 0.0, 0.0, 2.1166669999999996, 0.1524, 0.479778, 7.3660000000000005, 2.032, 0.0, 0.0, 0.0, 0.07257100000000001, 0.0, 0.0, 0.0, 0.0, 0.0, 0.0, 0.0, 0.0, 0.0, 0.0, 1.42875, 8.015111, 0.028222000000000004, 0.0, 0.0, 0.0, 0.0, 0.0, 0.0, 0.0, 0.0, 0.0, 0.0, 0.0, 0.0, 0.0, 0.0, 1.27, 0.4572, 0.0, 0.0, 0.0, 8.720667, 3.104444, 11.3284, 6.6802, 0.0, 0.0, 0.635, 0.0, 0.0, 0.0, 0.0, 0.0, 0.0, 0.0, 0.0, 0.0635, 5.3594, 1.2192, 1.4478, 0.6096, 0.0, 1.9473330000000002, 22.436667, 0.4318, 0.0, 0.0254, 0.0, 0.0, 17.497778, 3.8664440000000004, 0.0, 13.843, 9.793111, 0.3302, 0.0, 0.931333, 1.04775, 0.790222, 0.4572, 0.0, 0.0, 0.0, 0.0, 0.0, 0.0, 0.620889, 0.03175, 0.0762, 0.0, 0.0, 0.7055560000000001, 0.3302, 0.0, 0.0, 24.783143, 23.1648, 11.881556, 18.767778, 28.2194, 0.4318, 0.0, 0.0, 4.717143, 0.9031110000000001, 0.0, 0.762, 0.0, 0.0, 6.886222, 4.035778, 0.127, 0.0, 0.0, 29.830889000000003, 26.416, 0.635, 0.0, 1.4986, 3.160889, 0.0, 15.276285999999999, 1.524, 0.0, 0.127, 22.126222, 1.7497779999999998, 20.066, 88.73066700000001, 10.978444, 4.9953330000000005, 0.4318, 0.0, 0.0, 2.721429, 13.349110999999999, 3.273778, 38.946667, 42.389778, 34.120667, 15.24, 7.5946, 7.9304440000000005, 14.449778, 35.080222, 54.299556, 9.0424, 7.112, 10.6426, 1.4224, 9.454444, 9.4615, 19.783778, 45.494222, 102.474889, 20.066, 30.988000000000003, 37.281556, 15.945556, 2.0574, 0.028222000000000004, 0.620889, 0.0, 0.0, 0.0, 0.0, 0.0, 0.0, 6.44525, 1.5494, 0.0, 0.53975, 4.934857, 12.6746, 11.1506, 14.478, 27.065110999999998, 2.088444, 0.036286, 22.408444, 56.9722, 0.4064, 1.11125, 10.809111, 34.713333, 5.0292, 4.3434, 2.5146, 1.890889, 7.958667, 0.2794, 0.0, 0.0, 2.032, 1.580444, 0.6604, 0.580571, 0.4064, 0.0, 0.0, 0.0, 0.0, 0.0, 0.0, 0.0, 1.905, 1.8288, 0.0, 0.0, 0.0, 1.93675, 0.2286, 0.0, 0.0, 0.0, 0.0, 0.0, 0.0, 0.0, 0.05644400000000001, 0.0, 0.0, 0.0, 0.0, 0.0, 0.0, 0.0, 0.0, 3.338286, 1.7526, 0.0, 0.0, 0.0, 0.0, 0.0508, 0.0, 0.0, 0.0, 0.0, 2.144889, 0.8128, 0.4572, 0.0, 0.0, 0.042332999999999996, 0.028222000000000004, 0.0, 0.0, 0.0, 0.0, 0.0, 0.0, 0.0, 0.0, 0.0, 2.0955, 2.6035, 18.415, 6.7056, 0.0, 1.651, 0.0, 0.0, 0.0, 0.0, 0.0, 0.0, 0.19755599999999998, 0.0, 0.0, 0.0, 0.0, 0.0, 0.0, 0.0, 0.0, 0.0, 0.0, 0.0, 0.0, 0.0, 0.8466670000000001, 0.4064, 0.0, 0.1016, 0.0, 0.0635, 0.0, 0.0, 0.0, 0.0, 0.0, 0.0, 0.0, 0.0, 0.564444, 0.0, 0.834571, 0.3302, 1.919111, 4.5466, 0.4826, 0.0, 0.0, 0.0254, 1.185333, 2.0828, 14.985999999999999, 0.0, 5.0038, 0.0, 0.2794, 0.127, 0.0, 0.0, 0.0, 0.05644400000000001, 3.048, 0.8636, 0.0, 2.3706669999999996, 4.8260000000000005, 0.0, 0.0, 0.0, 3.527778, 2.5654, 0.479778, 0.9144, 0.028222000000000004, 0.0, 8.438444, 0.05644400000000001, 0.09525, 0.9906, 0.0, 0.0, 0.0, 0.0, 0.0, 0.0, null, null, 0.0, 0.5715, 1.27, 5.305778, 1.185333, 0.564444, 0.0, null, 0.0, 0.0, 0.0, 0.0, 2.8786669999999996, 1.7018, 0.0, 0.5442859999999999, 15.465778, 23.8506, 0.1016, 3.81, 2.6924, 0.0, 0.0, 0.0, 0.0, 0.0, 0.0, 12.446, 3.2512, 0.0, 0.0, 1.3716, 0.0, 0.0, 0.0, 4.064, 0.762, 0.0, 0.0, 0.0, 0.0, 0.0, 15.494000000000002, 12.5222, 0.0508, 2.54, 0.0, 0.0, 0.0, 16.397111, 19.332222, 0.6858, 2.4892, 0.0, 0.0, 0.0254, 0.0508, 0.0, 14.506222, 7.8232, 0.0, 0.0, 0.1016, 0.0, 0.0, 0.0, 0.0, 0.0, 0.0, 0.036286, 0.0, 0.0, 0.0, 0.0, 0.028222000000000004, 0.310444, 0.536222, 3.471333, 2.4638, 0.0, 6.6675, 5.968999999999999, 0.0, 0.762, 0.4064, 0.0, 7.055556, 11.937999999999999, 2.1844, 0.0, 0.0, 5.475111, 36.60775, 10.9855, 1.8626669999999999, 0.0, 10.272889, 6.5786, 0.0762, 0.0, 0.1905, 1.072444, 0.4064, 0.8466670000000001, 9.708444, 12.587111, 0.0635, 8.9662, 0.0, 0.0, 15.776222, 13.843, 0.0, 0.181429, 0.1016, 0.0, 0.0, 0.73025, 18.231556, 0.0, 0.127, 0.8466670000000001, 2.38125, 3.0988, 0.0635, 4.1656, 0.0, 0.0508, 0.0, 1.306286, 5.475111, 2.6246669999999996, 2.7939999999999996, 8.748889, 0.0254, 0.4826, 7.732889, 6.35, 0.4318, 2.2352, 19.868444, 20.7518, 2.19075, 40.555333000000005, 42.559111, 45.240221999999996, 6.858, 2.003778, 8.60425, 3.245556, 0.0, 0.0, 0.889, 2.7939999999999996, 2.3622, 6.5405, 5.023556, 0.4826, 0.0, 0.0, 0.0, 0.0, 0.0, 0.0, 5.1054, 5.7404, 0.6985, 0.0, 3.697111, 12.502444, 22.972889000000002, 15.113, 0.536222, 0.254, 4.4958, 1.890889, 4.0922220000000005, 0.225778, 29.43225, 1.016, 23.650222, 3.882571, 7.62, 1.354667, 0.8636, 0.19755599999999998, 19.685, 6.858, 5.249333, 15.973778, 18.70075, 19.586222, 63.669332999999995, 22.351999999999997, 8.720667, 11.684000000000001, 20.98675, 16.51, 2.9210000000000003, 0.9031110000000001, 36.604222, 5.968999999999999, 1.241778, 0.0508, 3.20675, 4.938889, 18.316222, 1.143, 0.0, 2.2098, 0.2286, 0.0, 0.0, 0.112889, 0.0, 0.508, 21.307778, 3.4544, 0.0, 0.0, 20.094222, null, null, null, null, null]}],\n",
              "                        {\"height\": 600, \"legend\": {\"tracegroupgap\": 0}, \"shapes\": [{\"line\": {\"color\": \"red\", \"width\": 1}, \"type\": \"line\", \"x0\": \"2020-06-09T00:00:00\", \"x1\": \"2020-06-09T00:00:00\", \"y0\": -12.572222, \"y1\": 29.505556}, {\"line\": {\"color\": \"red\", \"width\": 1}, \"type\": \"line\", \"x0\": \"2020-08-16T00:00:00\", \"x1\": \"2020-08-16T00:00:00\", \"y0\": -12.572222, \"y1\": 29.505556}, {\"line\": {\"color\": \"red\", \"width\": 1}, \"type\": \"line\", \"x0\": \"2020-08-18T00:00:00\", \"x1\": \"2020-08-18T00:00:00\", \"y0\": -12.572222, \"y1\": 29.505556}, {\"line\": {\"color\": \"red\", \"width\": 1}, \"type\": \"line\", \"x0\": \"2020-08-19T00:00:00\", \"x1\": \"2020-08-19T00:00:00\", \"y0\": -12.572222, \"y1\": 29.505556}, {\"line\": {\"color\": \"red\", \"width\": 1}, \"type\": \"line\", \"x0\": \"2020-08-20T00:00:00\", \"x1\": \"2020-08-20T00:00:00\", \"y0\": -12.572222, \"y1\": 29.505556}, {\"line\": {\"color\": \"red\", \"width\": 1}, \"type\": \"line\", \"x0\": \"2020-08-21T00:00:00\", \"x1\": \"2020-08-21T00:00:00\", \"y0\": -12.572222, \"y1\": 29.505556}, {\"line\": {\"color\": \"red\", \"width\": 1}, \"type\": \"line\", \"x0\": \"2021-07-13T00:00:00\", \"x1\": \"2021-07-13T00:00:00\", \"y0\": -12.572222, \"y1\": 29.505556}, {\"line\": {\"color\": \"red\", \"width\": 1}, \"type\": \"line\", \"x0\": \"2021-07-14T00:00:00\", \"x1\": \"2021-07-14T00:00:00\", \"y0\": -12.572222, \"y1\": 29.505556}, {\"line\": {\"color\": \"red\", \"width\": 1}, \"type\": \"line\", \"x0\": \"2021-07-21T00:00:00\", \"x1\": \"2021-07-21T00:00:00\", \"y0\": -12.572222, \"y1\": 29.505556}, {\"line\": {\"color\": \"red\", \"width\": 1}, \"type\": \"line\", \"x0\": \"2021-07-23T00:00:00\", \"x1\": \"2021-07-23T00:00:00\", \"y0\": -12.572222, \"y1\": 29.505556}, {\"line\": {\"color\": \"red\", \"width\": 1}, \"type\": \"line\", \"x0\": \"2021-07-24T00:00:00\", \"x1\": \"2021-07-24T00:00:00\", \"y0\": -12.572222, \"y1\": 29.505556}, {\"line\": {\"color\": \"red\", \"width\": 1}, \"type\": \"line\", \"x0\": \"2021-07-25T00:00:00\", \"x1\": \"2021-07-25T00:00:00\", \"y0\": -12.572222, \"y1\": 29.505556}, {\"line\": {\"color\": \"red\", \"width\": 1}, \"type\": \"line\", \"x0\": \"2021-07-26T00:00:00\", \"x1\": \"2021-07-26T00:00:00\", \"y0\": -12.572222, \"y1\": 29.505556}, {\"line\": {\"color\": \"red\", \"width\": 1}, \"type\": \"line\", \"x0\": \"2021-07-30T00:00:00\", \"x1\": \"2021-07-30T00:00:00\", \"y0\": -12.572222, \"y1\": 29.505556}], \"template\": {\"data\": {\"pie\": [{\"automargin\": true, \"type\": \"pie\"}]}, \"layout\": {\"xaxis\": {\"showgrid\": true, \"title\": {\"standoff\": 15}}, \"yaxis\": {\"showgrid\": true, \"title\": {\"standoff\": 15}}}}, \"title\": {\"text\": \"Average temperature over time in Korea, Republic of\"}, \"width\": 1000, \"xaxis\": {\"anchor\": \"y\", \"domain\": [0.0, 1.0], \"title\": {\"text\": \"date\"}}, \"yaxis\": {\"anchor\": \"x\", \"domain\": [0.0, 1.0], \"title\": {\"text\": \"average_temperature\"}}},\n",
              "                        {\"responsive\": true}\n",
              "                    ).then(function(){\n",
              "                            \n",
              "var gd = document.getElementById('a1c6fe71-1e78-4328-8e90-f61d4a369125');\n",
              "var x = new MutationObserver(function (mutations, observer) {{\n",
              "        var display = window.getComputedStyle(gd).display;\n",
              "        if (!display || display === 'none') {{\n",
              "            console.log([gd, 'removed!']);\n",
              "            Plotly.purge(gd);\n",
              "            observer.disconnect();\n",
              "        }}\n",
              "}});\n",
              "\n",
              "// Listen for the removal of the full notebook cells\n",
              "var notebookContainer = gd.closest('#notebook-container');\n",
              "if (notebookContainer) {{\n",
              "    x.observe(notebookContainer, {childList: true});\n",
              "}}\n",
              "\n",
              "// Listen for the clearing of the current output cell\n",
              "var outputEl = gd.closest('.output');\n",
              "if (outputEl) {{\n",
              "    x.observe(outputEl, {childList: true});\n",
              "}}\n",
              "\n",
              "                        })\n",
              "                };\n",
              "                \n",
              "            </script>\n",
              "        </div>\n",
              "</body>\n",
              "</html>"
            ]
          },
          "metadata": {}
        }
      ]
    },
    {
      "cell_type": "markdown",
      "metadata": {
        "papermill": {
          "duration": 0.029597,
          "end_time": "2020-08-09T19:17:45.951572",
          "exception": false,
          "start_time": "2020-08-09T19:17:45.921975",
          "status": "completed"
        },
        "tags": [],
        "id": "AqDj6JX7vf0z"
      },
      "source": [
        "## 3.3. Removing the holidays for the period when there were still diseases < 10<a class=\"anchor\" id=\"3.3\"></a>\n",
        "\n",
        "[Back to Table of Contents](#0.1)"
      ]
    },
    {
      "cell_type": "code",
      "metadata": {
        "execution": {
          "iopub.execute_input": "2020-08-09T19:17:46.030546Z",
          "iopub.status.busy": "2020-08-09T19:17:46.021509Z",
          "iopub.status.idle": "2020-08-09T19:17:46.099548Z",
          "shell.execute_reply": "2020-08-09T19:17:46.098882Z"
        },
        "papermill": {
          "duration": 0.118397,
          "end_time": "2020-08-09T19:17:46.099682",
          "exception": false,
          "start_time": "2020-08-09T19:17:45.981285",
          "status": "completed"
        },
        "tags": [],
        "trusted": true,
        "colab": {
          "base_uri": "https://localhost:8080/",
          "height": 380
        },
        "id": "mhGFAsYKvf0z",
        "outputId": "f57300ea-0ccb-4956-b76e-83b6ff0ba4f0"
      },
      "source": [
        "# Removing the holidays for the period when there were still diseases < 10\n",
        "holidays_df['ds_dt'] = pd.to_datetime(holidays_df['ds'], format='%Y-%m-%d', errors='ignore')\n",
        "date_the_first_many_cases = df[df.Confirmed >= 10]['Date'].min()\n",
        "holidays_df = holidays_df[holidays_df['ds_dt'] >= date_the_first_many_cases]\n",
        "holidays_df.head()"
      ],
      "execution_count": 29,
      "outputs": [
        {
          "output_type": "execute_result",
          "data": {
            "text/html": [
              "<div>\n",
              "<style scoped>\n",
              "    .dataframe tbody tr th:only-of-type {\n",
              "        vertical-align: middle;\n",
              "    }\n",
              "\n",
              "    .dataframe tbody tr th {\n",
              "        vertical-align: top;\n",
              "    }\n",
              "\n",
              "    .dataframe thead th {\n",
              "        text-align: right;\n",
              "    }\n",
              "</style>\n",
              "<table border=\"1\" class=\"dataframe\">\n",
              "  <thead>\n",
              "    <tr style=\"text-align: right;\">\n",
              "      <th></th>\n",
              "      <th>ds_holidays</th>\n",
              "      <th>holiday</th>\n",
              "      <th>ds</th>\n",
              "      <th>country</th>\n",
              "      <th>code</th>\n",
              "      <th>country_official_name</th>\n",
              "      <th>lower_window</th>\n",
              "      <th>upper_window</th>\n",
              "      <th>prior_scale</th>\n",
              "      <th>source</th>\n",
              "      <th>ds_dt</th>\n",
              "    </tr>\n",
              "  </thead>\n",
              "  <tbody>\n",
              "    <tr>\n",
              "      <th>4</th>\n",
              "      <td>2020-03-01</td>\n",
              "      <td>Independence Movement Day</td>\n",
              "      <td>2020-03-08</td>\n",
              "      <td>Korea, Republic of</td>\n",
              "      <td>KR</td>\n",
              "      <td>Korea, Republic of</td>\n",
              "      <td>-3</td>\n",
              "      <td>3</td>\n",
              "      <td>10</td>\n",
              "      <td>https://github.com/dr-prodigy/python-holidays</td>\n",
              "      <td>2020-03-08</td>\n",
              "    </tr>\n",
              "    <tr>\n",
              "      <th>5</th>\n",
              "      <td>2020-03-02</td>\n",
              "      <td>Alternative holiday of Independence Movement Day</td>\n",
              "      <td>2020-03-09</td>\n",
              "      <td>Korea, Republic of</td>\n",
              "      <td>KR</td>\n",
              "      <td>Korea, Republic of</td>\n",
              "      <td>-3</td>\n",
              "      <td>3</td>\n",
              "      <td>10</td>\n",
              "      <td>https://github.com/dr-prodigy/python-holidays</td>\n",
              "      <td>2020-03-09</td>\n",
              "    </tr>\n",
              "    <tr>\n",
              "      <th>31</th>\n",
              "      <td>2020-04-18</td>\n",
              "      <td>the weakening of quarantine</td>\n",
              "      <td>2020-04-25</td>\n",
              "      <td>Korea, Republic of</td>\n",
              "      <td>KR</td>\n",
              "      <td>Korea, Republic of</td>\n",
              "      <td>-3</td>\n",
              "      <td>3</td>\n",
              "      <td>10</td>\n",
              "      <td>https://www.bsg.ox.ac.uk/research/research-pro...</td>\n",
              "      <td>2020-04-25</td>\n",
              "    </tr>\n",
              "    <tr>\n",
              "      <th>29</th>\n",
              "      <td>2020-04-20</td>\n",
              "      <td>the weakening of quarantine</td>\n",
              "      <td>2020-04-27</td>\n",
              "      <td>Korea, Republic of</td>\n",
              "      <td>KR</td>\n",
              "      <td>Korea, Republic of</td>\n",
              "      <td>-3</td>\n",
              "      <td>3</td>\n",
              "      <td>10</td>\n",
              "      <td>https://www.bsg.ox.ac.uk/research/research-pro...</td>\n",
              "      <td>2020-04-27</td>\n",
              "    </tr>\n",
              "    <tr>\n",
              "      <th>6</th>\n",
              "      <td>2020-04-30</td>\n",
              "      <td>Birthday of the Buddha</td>\n",
              "      <td>2020-05-07</td>\n",
              "      <td>Korea, Republic of</td>\n",
              "      <td>KR</td>\n",
              "      <td>Korea, Republic of</td>\n",
              "      <td>-3</td>\n",
              "      <td>3</td>\n",
              "      <td>10</td>\n",
              "      <td>https://github.com/dr-prodigy/python-holidays</td>\n",
              "      <td>2020-05-07</td>\n",
              "    </tr>\n",
              "  </tbody>\n",
              "</table>\n",
              "</div>"
            ],
            "text/plain": [
              "   ds_holidays  ...      ds_dt\n",
              "4   2020-03-01  ... 2020-03-08\n",
              "5   2020-03-02  ... 2020-03-09\n",
              "31  2020-04-18  ... 2020-04-25\n",
              "29  2020-04-20  ... 2020-04-27\n",
              "6   2020-04-30  ... 2020-05-07\n",
              "\n",
              "[5 rows x 11 columns]"
            ]
          },
          "metadata": {},
          "execution_count": 29
        }
      ]
    },
    {
      "cell_type": "markdown",
      "metadata": {
        "papermill": {
          "duration": 0.030255,
          "end_time": "2020-08-09T19:17:46.160592",
          "exception": false,
          "start_time": "2020-08-09T19:17:46.130337",
          "status": "completed"
        },
        "tags": [],
        "id": "weFg28XIvf0z"
      },
      "source": [
        "## 4. EDA<a class=\"anchor\" id=\"4\"></a>\n",
        "\n",
        "[Back to Table of Contents](#0.1)"
      ]
    },
    {
      "cell_type": "markdown",
      "metadata": {
        "papermill": {
          "duration": 0.030337,
          "end_time": "2020-08-09T19:17:46.221558",
          "exception": false,
          "start_time": "2020-08-09T19:17:46.191221",
          "status": "completed"
        },
        "tags": [],
        "id": "21oDSFSWvf0z"
      },
      "source": [
        "## 4.1. Plots - Confirmed cases over time<a class=\"anchor\" id=\"4.1\"></a>\n",
        "\n",
        "[Back to Table of Contents](#0.1)"
      ]
    },
    {
      "cell_type": "code",
      "metadata": {
        "trusted": true,
        "id": "VFhTeRgXvf0z"
      },
      "source": [
        "df2 = df[df['Date'] >= date_the_first_many_cases]"
      ],
      "execution_count": 30,
      "outputs": []
    },
    {
      "cell_type": "code",
      "metadata": {
        "trusted": true,
        "colab": {
          "base_uri": "https://localhost:8080/",
          "height": 617
        },
        "id": "83RLUF2gvf0z",
        "outputId": "12cf3cf0-a1a0-4ee9-df35-2c4ccbf6c513"
      },
      "source": [
        "fig = px.line(df2, x=\"Date\", y=\"cum_Confirmed\", \n",
        "              title=\"Confirmed cases in \" + country_main, \n",
        "              log_y=False,template='gridon',width=1000, height=600)\n",
        "fig.show()"
      ],
      "execution_count": 31,
      "outputs": [
        {
          "output_type": "display_data",
          "data": {
            "text/html": [
              "<html>\n",
              "<head><meta charset=\"utf-8\" /></head>\n",
              "<body>\n",
              "    <div>\n",
              "            <script src=\"https://cdnjs.cloudflare.com/ajax/libs/mathjax/2.7.5/MathJax.js?config=TeX-AMS-MML_SVG\"></script><script type=\"text/javascript\">if (window.MathJax) {MathJax.Hub.Config({SVG: {font: \"STIX-Web\"}});}</script>\n",
              "                <script type=\"text/javascript\">window.PlotlyConfig = {MathJaxConfig: 'local'};</script>\n",
              "        <script src=\"https://cdn.plot.ly/plotly-latest.min.js\"></script>    \n",
              "            <div id=\"e5f35212-cba1-4327-b4bd-b94dd8f83d89\" class=\"plotly-graph-div\" style=\"height:600px; width:1000px;\"></div>\n",
              "            <script type=\"text/javascript\">\n",
              "                \n",
              "                    window.PLOTLYENV=window.PLOTLYENV || {};\n",
              "                    \n",
              "                if (document.getElementById(\"e5f35212-cba1-4327-b4bd-b94dd8f83d89\")) {\n",
              "                    Plotly.newPlot(\n",
              "                        'e5f35212-cba1-4327-b4bd-b94dd8f83d89',\n",
              "                        [{\"hoverlabel\": {\"namelength\": 0}, \"hovertemplate\": \"Date=%{x}<br>cum_Confirmed=%{y}\", \"legendgroup\": \"\", \"line\": {\"color\": \"#1F77B4\", \"dash\": \"solid\"}, \"mode\": \"lines\", \"name\": \"\", \"showlegend\": false, \"type\": \"scatter\", \"x\": [\"2020-02-19T00:00:00\", \"2020-02-20T00:00:00\", \"2020-02-21T00:00:00\", \"2020-02-22T00:00:00\", \"2020-02-23T00:00:00\", \"2020-02-24T00:00:00\", \"2020-02-25T00:00:00\", \"2020-02-26T00:00:00\", \"2020-02-27T00:00:00\", \"2020-02-28T00:00:00\", \"2020-02-29T00:00:00\", \"2020-03-01T00:00:00\", \"2020-03-02T00:00:00\", \"2020-03-03T00:00:00\", \"2020-03-04T00:00:00\", \"2020-03-05T00:00:00\", \"2020-03-06T00:00:00\", \"2020-03-07T00:00:00\", \"2020-03-08T00:00:00\", \"2020-03-09T00:00:00\", \"2020-03-10T00:00:00\", \"2020-03-11T00:00:00\", \"2020-03-12T00:00:00\", \"2020-03-13T00:00:00\", \"2020-03-14T00:00:00\", \"2020-03-15T00:00:00\", \"2020-03-16T00:00:00\", \"2020-03-17T00:00:00\", \"2020-03-18T00:00:00\", \"2020-03-19T00:00:00\", \"2020-03-20T00:00:00\", \"2020-03-21T00:00:00\", \"2020-03-22T00:00:00\", \"2020-03-23T00:00:00\", \"2020-03-24T00:00:00\", \"2020-03-25T00:00:00\", \"2020-03-26T00:00:00\", \"2020-03-27T00:00:00\", \"2020-03-28T00:00:00\", \"2020-03-29T00:00:00\", \"2020-03-30T00:00:00\", \"2020-03-31T00:00:00\", \"2020-04-01T00:00:00\", \"2020-04-02T00:00:00\", \"2020-04-03T00:00:00\", \"2020-04-04T00:00:00\", \"2020-04-05T00:00:00\", \"2020-04-06T00:00:00\", \"2020-04-07T00:00:00\", \"2020-04-08T00:00:00\", \"2020-04-09T00:00:00\", \"2020-04-10T00:00:00\", \"2020-04-11T00:00:00\", \"2020-04-12T00:00:00\", \"2020-04-13T00:00:00\", \"2020-04-14T00:00:00\", \"2020-04-15T00:00:00\", \"2020-04-16T00:00:00\", \"2020-04-17T00:00:00\", \"2020-04-18T00:00:00\", \"2020-04-19T00:00:00\", \"2020-04-20T00:00:00\", \"2020-04-21T00:00:00\", \"2020-04-22T00:00:00\", \"2020-04-23T00:00:00\", \"2020-04-24T00:00:00\", \"2020-04-25T00:00:00\", \"2020-04-26T00:00:00\", \"2020-04-27T00:00:00\", \"2020-04-28T00:00:00\", \"2020-04-29T00:00:00\", \"2020-04-30T00:00:00\", \"2020-05-01T00:00:00\", \"2020-05-02T00:00:00\", \"2020-05-03T00:00:00\", \"2020-05-04T00:00:00\", \"2020-05-05T00:00:00\", \"2020-05-06T00:00:00\", \"2020-05-07T00:00:00\", \"2020-05-08T00:00:00\", \"2020-05-09T00:00:00\", \"2020-05-10T00:00:00\", \"2020-05-11T00:00:00\", \"2020-05-12T00:00:00\", \"2020-05-13T00:00:00\", \"2020-05-14T00:00:00\", \"2020-05-15T00:00:00\", \"2020-05-16T00:00:00\", \"2020-05-17T00:00:00\", \"2020-05-18T00:00:00\", \"2020-05-19T00:00:00\", \"2020-05-20T00:00:00\", \"2020-05-21T00:00:00\", \"2020-05-22T00:00:00\", \"2020-05-23T00:00:00\", \"2020-05-24T00:00:00\", \"2020-05-25T00:00:00\", \"2020-05-26T00:00:00\", \"2020-05-27T00:00:00\", \"2020-05-28T00:00:00\", \"2020-05-29T00:00:00\", \"2020-05-30T00:00:00\", \"2020-05-31T00:00:00\", \"2020-06-01T00:00:00\", \"2020-06-02T00:00:00\", \"2020-06-03T00:00:00\", \"2020-06-04T00:00:00\", \"2020-06-05T00:00:00\", \"2020-06-06T00:00:00\", \"2020-06-07T00:00:00\", \"2020-06-08T00:00:00\", \"2020-06-09T00:00:00\", \"2020-06-10T00:00:00\", \"2020-06-11T00:00:00\", \"2020-06-12T00:00:00\", \"2020-06-13T00:00:00\", \"2020-06-14T00:00:00\", \"2020-06-15T00:00:00\", \"2020-06-16T00:00:00\", \"2020-06-17T00:00:00\", \"2020-06-18T00:00:00\", \"2020-06-19T00:00:00\", \"2020-06-20T00:00:00\", \"2020-06-21T00:00:00\", \"2020-06-22T00:00:00\", \"2020-06-23T00:00:00\", \"2020-06-24T00:00:00\", \"2020-06-25T00:00:00\", \"2020-06-26T00:00:00\", \"2020-06-27T00:00:00\", \"2020-06-28T00:00:00\", \"2020-06-29T00:00:00\", \"2020-06-30T00:00:00\", \"2020-07-01T00:00:00\", \"2020-07-02T00:00:00\", \"2020-07-03T00:00:00\", \"2020-07-04T00:00:00\", \"2020-07-05T00:00:00\", \"2020-07-06T00:00:00\", \"2020-07-07T00:00:00\", \"2020-07-08T00:00:00\", \"2020-07-09T00:00:00\", \"2020-07-10T00:00:00\", \"2020-07-11T00:00:00\", \"2020-07-12T00:00:00\", \"2020-07-13T00:00:00\", \"2020-07-14T00:00:00\", \"2020-07-15T00:00:00\", \"2020-07-16T00:00:00\", \"2020-07-17T00:00:00\", \"2020-07-18T00:00:00\", \"2020-07-19T00:00:00\", \"2020-07-20T00:00:00\", \"2020-07-21T00:00:00\", \"2020-07-22T00:00:00\", \"2020-07-23T00:00:00\", \"2020-07-24T00:00:00\", \"2020-07-25T00:00:00\", \"2020-07-26T00:00:00\", \"2020-07-27T00:00:00\", \"2020-07-28T00:00:00\", \"2020-07-29T00:00:00\", \"2020-07-30T00:00:00\", \"2020-07-31T00:00:00\", \"2020-08-01T00:00:00\", \"2020-08-02T00:00:00\", \"2020-08-03T00:00:00\", \"2020-08-04T00:00:00\", \"2020-08-05T00:00:00\", \"2020-08-06T00:00:00\", \"2020-08-07T00:00:00\", \"2020-08-08T00:00:00\", \"2020-08-09T00:00:00\", \"2020-08-10T00:00:00\", \"2020-08-11T00:00:00\", \"2020-08-12T00:00:00\", \"2020-08-13T00:00:00\", \"2020-08-14T00:00:00\", \"2020-08-15T00:00:00\", \"2020-08-16T00:00:00\", \"2020-08-17T00:00:00\", \"2020-08-18T00:00:00\", \"2020-08-19T00:00:00\", \"2020-08-20T00:00:00\", \"2020-08-21T00:00:00\", \"2020-08-22T00:00:00\", \"2020-08-23T00:00:00\", \"2020-08-24T00:00:00\", \"2020-08-25T00:00:00\", \"2020-08-26T00:00:00\", \"2020-08-27T00:00:00\", \"2020-08-28T00:00:00\", \"2020-08-29T00:00:00\", \"2020-08-30T00:00:00\", \"2020-08-31T00:00:00\", \"2020-09-01T00:00:00\", \"2020-09-02T00:00:00\", \"2020-09-03T00:00:00\", \"2020-09-04T00:00:00\", \"2020-09-05T00:00:00\", \"2020-09-06T00:00:00\", \"2020-09-07T00:00:00\", \"2020-09-08T00:00:00\", \"2020-09-09T00:00:00\", \"2020-09-10T00:00:00\", \"2020-09-11T00:00:00\", \"2020-09-12T00:00:00\", \"2020-09-13T00:00:00\", \"2020-09-14T00:00:00\", \"2020-09-15T00:00:00\", \"2020-09-16T00:00:00\", \"2020-09-17T00:00:00\", \"2020-09-18T00:00:00\", \"2020-09-19T00:00:00\", \"2020-09-20T00:00:00\", \"2020-09-21T00:00:00\", \"2020-09-22T00:00:00\", \"2020-09-23T00:00:00\", \"2020-09-24T00:00:00\", \"2020-09-25T00:00:00\", \"2020-09-26T00:00:00\", \"2020-09-27T00:00:00\", \"2020-09-28T00:00:00\", \"2020-09-29T00:00:00\", \"2020-09-30T00:00:00\", \"2020-10-01T00:00:00\", \"2020-10-02T00:00:00\", \"2020-10-03T00:00:00\", \"2020-10-04T00:00:00\", \"2020-10-05T00:00:00\", \"2020-10-06T00:00:00\", \"2020-10-07T00:00:00\", \"2020-10-08T00:00:00\", \"2020-10-09T00:00:00\", \"2020-10-10T00:00:00\", \"2020-10-11T00:00:00\", \"2020-10-12T00:00:00\", \"2020-10-13T00:00:00\", \"2020-10-14T00:00:00\", \"2020-10-15T00:00:00\", \"2020-10-16T00:00:00\", \"2020-10-17T00:00:00\", \"2020-10-18T00:00:00\", \"2020-10-19T00:00:00\", \"2020-10-20T00:00:00\", \"2020-10-21T00:00:00\", \"2020-10-22T00:00:00\", \"2020-10-23T00:00:00\", \"2020-10-24T00:00:00\", \"2020-10-25T00:00:00\", \"2020-10-26T00:00:00\", \"2020-10-27T00:00:00\", \"2020-10-28T00:00:00\", \"2020-10-29T00:00:00\", \"2020-10-30T00:00:00\", \"2020-10-31T00:00:00\", \"2020-11-01T00:00:00\", \"2020-11-02T00:00:00\", \"2020-11-03T00:00:00\", \"2020-11-04T00:00:00\", \"2020-11-05T00:00:00\", \"2020-11-06T00:00:00\", \"2020-11-07T00:00:00\", \"2020-11-08T00:00:00\", \"2020-11-09T00:00:00\", \"2020-11-10T00:00:00\", \"2020-11-11T00:00:00\", \"2020-11-12T00:00:00\", \"2020-11-13T00:00:00\", \"2020-11-14T00:00:00\", \"2020-11-15T00:00:00\", \"2020-11-16T00:00:00\", \"2020-11-17T00:00:00\", \"2020-11-18T00:00:00\", \"2020-11-19T00:00:00\", \"2020-11-20T00:00:00\", \"2020-11-21T00:00:00\", \"2020-11-22T00:00:00\", \"2020-11-23T00:00:00\", \"2020-11-24T00:00:00\", \"2020-11-25T00:00:00\", \"2020-11-26T00:00:00\", \"2020-11-27T00:00:00\", \"2020-11-28T00:00:00\", \"2020-11-29T00:00:00\", \"2020-11-30T00:00:00\", \"2020-12-01T00:00:00\", \"2020-12-02T00:00:00\", \"2020-12-03T00:00:00\", \"2020-12-04T00:00:00\", \"2020-12-05T00:00:00\", \"2020-12-06T00:00:00\", \"2020-12-07T00:00:00\", \"2020-12-08T00:00:00\", \"2020-12-09T00:00:00\", \"2020-12-10T00:00:00\", \"2020-12-11T00:00:00\", \"2020-12-12T00:00:00\", \"2020-12-13T00:00:00\", \"2020-12-14T00:00:00\", \"2020-12-15T00:00:00\", \"2020-12-16T00:00:00\", \"2020-12-17T00:00:00\", \"2020-12-18T00:00:00\", \"2020-12-19T00:00:00\", \"2020-12-20T00:00:00\", \"2020-12-21T00:00:00\", \"2020-12-22T00:00:00\", \"2020-12-23T00:00:00\", \"2020-12-24T00:00:00\", \"2020-12-25T00:00:00\", \"2020-12-26T00:00:00\", \"2020-12-27T00:00:00\", \"2020-12-28T00:00:00\", \"2020-12-29T00:00:00\", \"2020-12-30T00:00:00\", \"2020-12-31T00:00:00\", \"2021-01-01T00:00:00\", \"2021-01-02T00:00:00\", \"2021-01-03T00:00:00\", \"2021-01-04T00:00:00\", \"2021-01-05T00:00:00\", \"2021-01-06T00:00:00\", \"2021-01-07T00:00:00\", \"2021-01-08T00:00:00\", \"2021-01-09T00:00:00\", \"2021-01-10T00:00:00\", \"2021-01-11T00:00:00\", \"2021-01-12T00:00:00\", \"2021-01-13T00:00:00\", \"2021-01-14T00:00:00\", \"2021-01-15T00:00:00\", \"2021-01-16T00:00:00\", \"2021-01-17T00:00:00\", \"2021-01-18T00:00:00\", \"2021-01-19T00:00:00\", \"2021-01-20T00:00:00\", \"2021-01-21T00:00:00\", \"2021-01-22T00:00:00\", \"2021-01-23T00:00:00\", \"2021-01-24T00:00:00\", \"2021-01-25T00:00:00\", \"2021-01-26T00:00:00\", \"2021-01-27T00:00:00\", \"2021-01-28T00:00:00\", \"2021-01-29T00:00:00\", \"2021-01-30T00:00:00\", \"2021-01-31T00:00:00\", \"2021-02-01T00:00:00\", \"2021-02-02T00:00:00\", \"2021-02-03T00:00:00\", \"2021-02-04T00:00:00\", \"2021-02-05T00:00:00\", \"2021-02-06T00:00:00\", \"2021-02-07T00:00:00\", \"2021-02-08T00:00:00\", \"2021-02-09T00:00:00\", \"2021-02-10T00:00:00\", \"2021-02-11T00:00:00\", \"2021-02-12T00:00:00\", \"2021-02-13T00:00:00\", \"2021-02-14T00:00:00\", \"2021-02-15T00:00:00\", \"2021-02-16T00:00:00\", \"2021-02-17T00:00:00\", \"2021-02-18T00:00:00\", \"2021-02-19T00:00:00\", \"2021-02-20T00:00:00\", \"2021-02-21T00:00:00\", \"2021-02-22T00:00:00\", \"2021-02-23T00:00:00\", \"2021-02-24T00:00:00\", \"2021-02-25T00:00:00\", \"2021-02-26T00:00:00\", \"2021-02-27T00:00:00\", \"2021-02-28T00:00:00\", \"2021-03-01T00:00:00\", \"2021-03-02T00:00:00\", \"2021-03-03T00:00:00\", \"2021-03-04T00:00:00\", \"2021-03-05T00:00:00\", \"2021-03-06T00:00:00\", \"2021-03-07T00:00:00\", \"2021-03-08T00:00:00\", \"2021-03-09T00:00:00\", \"2021-03-10T00:00:00\", \"2021-03-11T00:00:00\", \"2021-03-12T00:00:00\", \"2021-03-13T00:00:00\", \"2021-03-14T00:00:00\", \"2021-03-15T00:00:00\", \"2021-03-16T00:00:00\", \"2021-03-17T00:00:00\", \"2021-03-18T00:00:00\", \"2021-03-19T00:00:00\", \"2021-03-20T00:00:00\", \"2021-03-21T00:00:00\", \"2021-03-22T00:00:00\", \"2021-03-23T00:00:00\", \"2021-03-24T00:00:00\", \"2021-03-25T00:00:00\", \"2021-03-26T00:00:00\", \"2021-03-27T00:00:00\", \"2021-03-28T00:00:00\", \"2021-03-29T00:00:00\", \"2021-03-30T00:00:00\", \"2021-03-31T00:00:00\", \"2021-04-01T00:00:00\", \"2021-04-02T00:00:00\", \"2021-04-03T00:00:00\", \"2021-04-04T00:00:00\", \"2021-04-05T00:00:00\", \"2021-04-06T00:00:00\", \"2021-04-07T00:00:00\", \"2021-04-08T00:00:00\", \"2021-04-09T00:00:00\", \"2021-04-10T00:00:00\", \"2021-04-11T00:00:00\", \"2021-04-12T00:00:00\", \"2021-04-13T00:00:00\", \"2021-04-14T00:00:00\", \"2021-04-15T00:00:00\", \"2021-04-16T00:00:00\", \"2021-04-17T00:00:00\", \"2021-04-18T00:00:00\", \"2021-04-19T00:00:00\", \"2021-04-20T00:00:00\", \"2021-04-21T00:00:00\", \"2021-04-22T00:00:00\", \"2021-04-23T00:00:00\", \"2021-04-24T00:00:00\", \"2021-04-25T00:00:00\", \"2021-04-26T00:00:00\", \"2021-04-27T00:00:00\", \"2021-04-28T00:00:00\", \"2021-04-29T00:00:00\", \"2021-04-30T00:00:00\", \"2021-05-01T00:00:00\", \"2021-05-02T00:00:00\", \"2021-05-03T00:00:00\", \"2021-05-04T00:00:00\", \"2021-05-05T00:00:00\", \"2021-05-06T00:00:00\", \"2021-05-07T00:00:00\", \"2021-05-08T00:00:00\", \"2021-05-09T00:00:00\", \"2021-05-10T00:00:00\", \"2021-05-11T00:00:00\", \"2021-05-12T00:00:00\", \"2021-05-13T00:00:00\", \"2021-05-14T00:00:00\", \"2021-05-15T00:00:00\", \"2021-05-16T00:00:00\", \"2021-05-17T00:00:00\", \"2021-05-18T00:00:00\", \"2021-05-19T00:00:00\", \"2021-05-20T00:00:00\", \"2021-05-21T00:00:00\", \"2021-05-22T00:00:00\", \"2021-05-23T00:00:00\", \"2021-05-24T00:00:00\", \"2021-05-25T00:00:00\", \"2021-05-26T00:00:00\", \"2021-05-27T00:00:00\", \"2021-05-28T00:00:00\", \"2021-05-29T00:00:00\", \"2021-05-30T00:00:00\", \"2021-05-31T00:00:00\", \"2021-06-01T00:00:00\", \"2021-06-02T00:00:00\", \"2021-06-03T00:00:00\", \"2021-06-04T00:00:00\", \"2021-06-05T00:00:00\", \"2021-06-06T00:00:00\", \"2021-06-07T00:00:00\", \"2021-06-08T00:00:00\", \"2021-06-09T00:00:00\", \"2021-06-10T00:00:00\", \"2021-06-11T00:00:00\", \"2021-06-12T00:00:00\", \"2021-06-13T00:00:00\", \"2021-06-14T00:00:00\", \"2021-06-15T00:00:00\", \"2021-06-16T00:00:00\", \"2021-06-17T00:00:00\", \"2021-06-18T00:00:00\", \"2021-06-19T00:00:00\", \"2021-06-20T00:00:00\", \"2021-06-21T00:00:00\", \"2021-06-22T00:00:00\", \"2021-06-23T00:00:00\", \"2021-06-24T00:00:00\", \"2021-06-25T00:00:00\", \"2021-06-26T00:00:00\", \"2021-06-27T00:00:00\", \"2021-06-28T00:00:00\", \"2021-06-29T00:00:00\", \"2021-06-30T00:00:00\", \"2021-07-01T00:00:00\", \"2021-07-02T00:00:00\", \"2021-07-03T00:00:00\", \"2021-07-04T00:00:00\", \"2021-07-05T00:00:00\", \"2021-07-06T00:00:00\", \"2021-07-07T00:00:00\", \"2021-07-08T00:00:00\", \"2021-07-09T00:00:00\", \"2021-07-10T00:00:00\", \"2021-07-11T00:00:00\", \"2021-07-12T00:00:00\", \"2021-07-13T00:00:00\", \"2021-07-14T00:00:00\", \"2021-07-15T00:00:00\", \"2021-07-16T00:00:00\", \"2021-07-17T00:00:00\", \"2021-07-18T00:00:00\", \"2021-07-19T00:00:00\", \"2021-07-20T00:00:00\", \"2021-07-21T00:00:00\", \"2021-07-22T00:00:00\", \"2021-07-23T00:00:00\", \"2021-07-24T00:00:00\", \"2021-07-25T00:00:00\", \"2021-07-26T00:00:00\", \"2021-07-27T00:00:00\", \"2021-07-28T00:00:00\", \"2021-07-29T00:00:00\", \"2021-07-30T00:00:00\", \"2021-07-31T00:00:00\", \"2021-08-01T00:00:00\", \"2021-08-02T00:00:00\", \"2021-08-03T00:00:00\", \"2021-08-04T00:00:00\", \"2021-08-05T00:00:00\", \"2021-08-06T00:00:00\", \"2021-08-07T00:00:00\", \"2021-08-08T00:00:00\", \"2021-08-09T00:00:00\", \"2021-08-10T00:00:00\", \"2021-08-11T00:00:00\", \"2021-08-12T00:00:00\", \"2021-08-13T00:00:00\", \"2021-08-14T00:00:00\", \"2021-08-15T00:00:00\", \"2021-08-16T00:00:00\", \"2021-08-17T00:00:00\", \"2021-08-18T00:00:00\", \"2021-08-19T00:00:00\", \"2021-08-20T00:00:00\", \"2021-08-21T00:00:00\", \"2021-08-22T00:00:00\", \"2021-08-23T00:00:00\", \"2021-08-24T00:00:00\", \"2021-08-25T00:00:00\", \"2021-08-26T00:00:00\", \"2021-08-27T00:00:00\", \"2021-08-28T00:00:00\", \"2021-08-29T00:00:00\", \"2021-08-30T00:00:00\", \"2021-08-31T00:00:00\", \"2021-09-01T00:00:00\", \"2021-09-02T00:00:00\", \"2021-09-03T00:00:00\", \"2021-09-04T00:00:00\", \"2021-09-05T00:00:00\", \"2021-09-06T00:00:00\", \"2021-09-07T00:00:00\", \"2021-09-08T00:00:00\", \"2021-09-09T00:00:00\", \"2021-09-10T00:00:00\", \"2021-09-11T00:00:00\", \"2021-09-12T00:00:00\", \"2021-09-13T00:00:00\", \"2021-09-14T00:00:00\", \"2021-09-15T00:00:00\", \"2021-09-16T00:00:00\", \"2021-09-17T00:00:00\", \"2021-09-18T00:00:00\", \"2021-09-19T00:00:00\", \"2021-09-20T00:00:00\", \"2021-09-21T00:00:00\", \"2021-09-22T00:00:00\", \"2021-09-23T00:00:00\", \"2021-09-24T00:00:00\"], \"xaxis\": \"x\", \"y\": [66, 82, 156, 346, 556, 763, 893, 1146, 1595, 2022, 2931, 3526, 4212, 4812, 5328, 5766, 6284, 6767, 7134, 7382, 7513, 7755, 7869, 7979, 8086, 8162, 8236, 8320, 8413, 8565, 8652, 8799, 8897, 8961, 9037, 9137, 9241, 9332, 9478, 9583, 9661, 9786, 9887, 9976, 10062, 10156, 10237, 10284, 10331, 10384, 10423, 10450, 10480, 10512, 10537, 10564, 10591, 10613, 10635, 10653, 10661, 10674, 10683, 10694, 10702, 10708, 10718, 10728, 10738, 10752, 10761, 10765, 10774, 10780, 10793, 10801, 10804, 10806, 10810, 10822, 10840, 10874, 10909, 10936, 10962, 10991, 11018, 11037, 11050, 11065, 11078, 11110, 11122, 11142, 11165, 11190, 11206, 11225, 11265, 11344, 11402, 11441, 11468, 11503, 11541, 11590, 11629, 11668, 11719, 11776, 11813, 11851, 11901, 11946, 12002, 12050, 12084, 12121, 12155, 12198, 12257, 12306, 12373, 12421, 12438, 12484, 12535, 12563, 12602, 12653, 12715, 12757, 12799, 12850, 12904, 12965, 13028, 13089, 13137, 13181, 13243, 13293, 13338, 13373, 13417, 13479, 13512, 13551, 13612, 13672, 13711, 13745, 13771, 13816, 13879, 13938, 13979, 14092, 14150, 14175, 14203, 14251, 14269, 14305, 14336, 14366, 14389, 14423, 14456, 14499, 14519, 14562, 14598, 14626, 14660, 14714, 14770, 14873, 15039, 15318, 15515, 15761, 16058, 16346, 16670, 17002, 17398, 17664, 17944, 18264, 18705, 19076, 19399, 19698, 19946, 20181, 20448, 20643, 20841, 21009, 21176, 21295, 21431, 21587, 21742, 21918, 22054, 22175, 22284, 22390, 22503, 22656, 22782, 22892, 22974, 23044, 23105, 23215, 23340, 23454, 23515, 23610, 23660, 23698, 23811, 23888, 23951, 24026, 24090, 24163, 24238, 24352, 24421, 24475, 24547, 24605, 24703, 24794, 24878, 24988, 25035, 25108, 25199, 25275, 25333, 25422, 25543, 25698, 25775, 25836, 25955, 26043, 26146, 26271, 26384, 26511, 26635, 26732, 26807, 26924, 27049, 27194, 27283, 27426, 27552, 27652, 27797, 27940, 28131, 28336, 28544, 28766, 28996, 29281, 29606, 29954, 30340, 30670, 30941, 31290, 31672, 32253, 32808, 33311, 33761, 34199, 34650, 35161, 35701, 36329, 36906, 37537, 38152, 38739, 39409, 40089, 40778, 41728, 42758, 43476, 44356, 45434, 46448, 47512, 48557, 49653, 50577, 51443, 52533, 53518, 54758, 55889, 56859, 57665, 58709, 59759, 60726, 61753, 62573, 63230, 64250, 64964, 65802, 66671, 67345, 67986, 68643, 69094, 69631, 70192, 70716, 71228, 71808, 72328, 72717, 73103, 73507, 73907, 74253, 74684, 75076, 75513, 75862, 76421, 76918, 77387, 77843, 78197, 78502, 78838, 79305, 79756, 80126, 80516, 80887, 81175, 81478, 81922, 82426, 82829, 83191, 83517, 83860, 84317, 84938, 85559, 86120, 86568, 86984, 87316, 87672, 88112, 88507, 88894, 89309, 89664, 90019, 90363, 90807, 91231, 91629, 92047, 92463, 92809, 93255, 93725, 94190, 94678, 95168, 95627, 96006, 96369, 96838, 97283, 97746, 98193, 98649, 99064, 99410, 99838, 100268, 100757, 101262, 101744, 102126, 102573, 103079, 103630, 104187, 104730, 105273, 105746, 106223, 106891, 107591, 108262, 108939, 109553, 110140, 110682, 111413, 112111, 112784, 113442, 114113, 114645, 115194, 115925, 116660, 117457, 118242, 118886, 119385, 119897, 120666, 121345, 122006, 122633, 123239, 123727, 124268, 124944, 125518, 126043, 126744, 127308, 127771, 128281, 128915, 129630, 130377, 131058, 131668, 132287, 132815, 133469, 134115, 134676, 135342, 135927, 136457, 136973, 137678, 138307, 138894, 139427, 139907, 140337, 140796, 141473, 142154, 142849, 143593, 144149, 144634, 145088, 145690, 146300, 146856, 147421, 147873, 148272, 148645, 149190, 149730, 150237, 150719, 151148, 151505, 151899, 152544, 153154, 153788, 154456, 155070, 155571, 156166, 156960, 157721, 158546, 159340, 160083, 160794, 161540, 162751, 164026, 165342, 166720, 168044, 169144, 170294, 171907, 173506, 175041, 176490, 177943, 179194, 180472, 182253, 184094, 185723, 187350, 188837, 190155, 191518, 193413, 195086, 196796, 198334, 199776, 200994, 202194, 203919, 205694, 207398, 209221, 210948, 212439, 213976, 216197, 218184, 220173, 222101, 223917, 225471, 226843, 228646, 230798, 232848, 234725, 236351, 237768, 239275, 241429, 243311, 245148, 246939, 248558, 250043, 251413, 253437, 255397, 257105, 258908, 260398, 261773, 263370, 265418, 267467, 269359, 271223, 272978, 274411, 275906, 277984, 279926, 281934, 284021, 285930, 287534, 289263, 290983, 292698, 295132], \"yaxis\": \"y\"}],\n",
              "                        {\"height\": 600, \"legend\": {\"tracegroupgap\": 0}, \"template\": {\"data\": {\"pie\": [{\"automargin\": true, \"type\": \"pie\"}]}, \"layout\": {\"xaxis\": {\"showgrid\": true, \"title\": {\"standoff\": 15}}, \"yaxis\": {\"showgrid\": true, \"title\": {\"standoff\": 15}}}}, \"title\": {\"text\": \"Confirmed cases in Korea, Republic of\"}, \"width\": 1000, \"xaxis\": {\"anchor\": \"y\", \"domain\": [0.0, 1.0], \"title\": {\"text\": \"Date\"}}, \"yaxis\": {\"anchor\": \"x\", \"domain\": [0.0, 1.0], \"title\": {\"text\": \"cum_Confirmed\"}}},\n",
              "                        {\"responsive\": true}\n",
              "                    ).then(function(){\n",
              "                            \n",
              "var gd = document.getElementById('e5f35212-cba1-4327-b4bd-b94dd8f83d89');\n",
              "var x = new MutationObserver(function (mutations, observer) {{\n",
              "        var display = window.getComputedStyle(gd).display;\n",
              "        if (!display || display === 'none') {{\n",
              "            console.log([gd, 'removed!']);\n",
              "            Plotly.purge(gd);\n",
              "            observer.disconnect();\n",
              "        }}\n",
              "}});\n",
              "\n",
              "// Listen for the removal of the full notebook cells\n",
              "var notebookContainer = gd.closest('#notebook-container');\n",
              "if (notebookContainer) {{\n",
              "    x.observe(notebookContainer, {childList: true});\n",
              "}}\n",
              "\n",
              "// Listen for the clearing of the current output cell\n",
              "var outputEl = gd.closest('.output');\n",
              "if (outputEl) {{\n",
              "    x.observe(outputEl, {childList: true});\n",
              "}}\n",
              "\n",
              "                        })\n",
              "                };\n",
              "                \n",
              "            </script>\n",
              "        </div>\n",
              "</body>\n",
              "</html>"
            ]
          },
          "metadata": {}
        }
      ]
    },
    {
      "cell_type": "code",
      "metadata": {
        "_kg_hide-input": true,
        "execution": {
          "iopub.execute_input": "2020-08-09T19:17:46.423303Z",
          "iopub.status.busy": "2020-08-09T19:17:46.422499Z",
          "iopub.status.idle": "2020-08-09T19:17:46.452837Z",
          "shell.execute_reply": "2020-08-09T19:17:46.452137Z"
        },
        "papermill": {
          "duration": 0.086398,
          "end_time": "2020-08-09T19:17:46.452992",
          "exception": false,
          "start_time": "2020-08-09T19:17:46.366594",
          "status": "completed"
        },
        "tags": [],
        "trusted": true,
        "colab": {
          "base_uri": "https://localhost:8080/",
          "height": 617
        },
        "id": "ExutLk5Hvf0z",
        "outputId": "094eac9f-6cf5-4ccb-cf82-6be9a07ffbad"
      },
      "source": [
        "fig = px.line(df2, x=\"Date\", y=\"cum_Confirmed\", \n",
        "              title=\"Cumulative Confirmed cases (logarithmic scale) in \" + country_main, \n",
        "              log_y=True,template='gridon',width=1000, height=600)\n",
        "fig.show()"
      ],
      "execution_count": 32,
      "outputs": [
        {
          "output_type": "display_data",
          "data": {
            "text/html": [
              "<html>\n",
              "<head><meta charset=\"utf-8\" /></head>\n",
              "<body>\n",
              "    <div>\n",
              "            <script src=\"https://cdnjs.cloudflare.com/ajax/libs/mathjax/2.7.5/MathJax.js?config=TeX-AMS-MML_SVG\"></script><script type=\"text/javascript\">if (window.MathJax) {MathJax.Hub.Config({SVG: {font: \"STIX-Web\"}});}</script>\n",
              "                <script type=\"text/javascript\">window.PlotlyConfig = {MathJaxConfig: 'local'};</script>\n",
              "        <script src=\"https://cdn.plot.ly/plotly-latest.min.js\"></script>    \n",
              "            <div id=\"1cb909ae-645a-4ba4-86ba-1a50610942a9\" class=\"plotly-graph-div\" style=\"height:600px; width:1000px;\"></div>\n",
              "            <script type=\"text/javascript\">\n",
              "                \n",
              "                    window.PLOTLYENV=window.PLOTLYENV || {};\n",
              "                    \n",
              "                if (document.getElementById(\"1cb909ae-645a-4ba4-86ba-1a50610942a9\")) {\n",
              "                    Plotly.newPlot(\n",
              "                        '1cb909ae-645a-4ba4-86ba-1a50610942a9',\n",
              "                        [{\"hoverlabel\": {\"namelength\": 0}, \"hovertemplate\": \"Date=%{x}<br>cum_Confirmed=%{y}\", \"legendgroup\": \"\", \"line\": {\"color\": \"#1F77B4\", \"dash\": \"solid\"}, \"mode\": \"lines\", \"name\": \"\", \"showlegend\": false, \"type\": \"scatter\", \"x\": [\"2020-02-19T00:00:00\", \"2020-02-20T00:00:00\", \"2020-02-21T00:00:00\", \"2020-02-22T00:00:00\", \"2020-02-23T00:00:00\", \"2020-02-24T00:00:00\", \"2020-02-25T00:00:00\", \"2020-02-26T00:00:00\", \"2020-02-27T00:00:00\", \"2020-02-28T00:00:00\", \"2020-02-29T00:00:00\", \"2020-03-01T00:00:00\", \"2020-03-02T00:00:00\", \"2020-03-03T00:00:00\", \"2020-03-04T00:00:00\", \"2020-03-05T00:00:00\", \"2020-03-06T00:00:00\", \"2020-03-07T00:00:00\", \"2020-03-08T00:00:00\", \"2020-03-09T00:00:00\", \"2020-03-10T00:00:00\", \"2020-03-11T00:00:00\", \"2020-03-12T00:00:00\", \"2020-03-13T00:00:00\", \"2020-03-14T00:00:00\", \"2020-03-15T00:00:00\", \"2020-03-16T00:00:00\", \"2020-03-17T00:00:00\", \"2020-03-18T00:00:00\", \"2020-03-19T00:00:00\", \"2020-03-20T00:00:00\", \"2020-03-21T00:00:00\", \"2020-03-22T00:00:00\", \"2020-03-23T00:00:00\", \"2020-03-24T00:00:00\", \"2020-03-25T00:00:00\", \"2020-03-26T00:00:00\", \"2020-03-27T00:00:00\", \"2020-03-28T00:00:00\", \"2020-03-29T00:00:00\", \"2020-03-30T00:00:00\", \"2020-03-31T00:00:00\", \"2020-04-01T00:00:00\", \"2020-04-02T00:00:00\", \"2020-04-03T00:00:00\", \"2020-04-04T00:00:00\", \"2020-04-05T00:00:00\", \"2020-04-06T00:00:00\", \"2020-04-07T00:00:00\", \"2020-04-08T00:00:00\", \"2020-04-09T00:00:00\", \"2020-04-10T00:00:00\", \"2020-04-11T00:00:00\", \"2020-04-12T00:00:00\", \"2020-04-13T00:00:00\", \"2020-04-14T00:00:00\", \"2020-04-15T00:00:00\", \"2020-04-16T00:00:00\", \"2020-04-17T00:00:00\", \"2020-04-18T00:00:00\", \"2020-04-19T00:00:00\", \"2020-04-20T00:00:00\", \"2020-04-21T00:00:00\", \"2020-04-22T00:00:00\", \"2020-04-23T00:00:00\", \"2020-04-24T00:00:00\", \"2020-04-25T00:00:00\", \"2020-04-26T00:00:00\", \"2020-04-27T00:00:00\", \"2020-04-28T00:00:00\", \"2020-04-29T00:00:00\", \"2020-04-30T00:00:00\", \"2020-05-01T00:00:00\", \"2020-05-02T00:00:00\", \"2020-05-03T00:00:00\", \"2020-05-04T00:00:00\", \"2020-05-05T00:00:00\", \"2020-05-06T00:00:00\", \"2020-05-07T00:00:00\", \"2020-05-08T00:00:00\", \"2020-05-09T00:00:00\", \"2020-05-10T00:00:00\", \"2020-05-11T00:00:00\", \"2020-05-12T00:00:00\", \"2020-05-13T00:00:00\", \"2020-05-14T00:00:00\", \"2020-05-15T00:00:00\", \"2020-05-16T00:00:00\", \"2020-05-17T00:00:00\", \"2020-05-18T00:00:00\", \"2020-05-19T00:00:00\", \"2020-05-20T00:00:00\", \"2020-05-21T00:00:00\", \"2020-05-22T00:00:00\", \"2020-05-23T00:00:00\", \"2020-05-24T00:00:00\", \"2020-05-25T00:00:00\", \"2020-05-26T00:00:00\", \"2020-05-27T00:00:00\", \"2020-05-28T00:00:00\", \"2020-05-29T00:00:00\", \"2020-05-30T00:00:00\", \"2020-05-31T00:00:00\", \"2020-06-01T00:00:00\", \"2020-06-02T00:00:00\", \"2020-06-03T00:00:00\", \"2020-06-04T00:00:00\", \"2020-06-05T00:00:00\", \"2020-06-06T00:00:00\", \"2020-06-07T00:00:00\", \"2020-06-08T00:00:00\", \"2020-06-09T00:00:00\", \"2020-06-10T00:00:00\", \"2020-06-11T00:00:00\", \"2020-06-12T00:00:00\", \"2020-06-13T00:00:00\", \"2020-06-14T00:00:00\", \"2020-06-15T00:00:00\", \"2020-06-16T00:00:00\", \"2020-06-17T00:00:00\", \"2020-06-18T00:00:00\", \"2020-06-19T00:00:00\", \"2020-06-20T00:00:00\", \"2020-06-21T00:00:00\", \"2020-06-22T00:00:00\", \"2020-06-23T00:00:00\", \"2020-06-24T00:00:00\", \"2020-06-25T00:00:00\", \"2020-06-26T00:00:00\", \"2020-06-27T00:00:00\", \"2020-06-28T00:00:00\", \"2020-06-29T00:00:00\", \"2020-06-30T00:00:00\", \"2020-07-01T00:00:00\", \"2020-07-02T00:00:00\", \"2020-07-03T00:00:00\", \"2020-07-04T00:00:00\", \"2020-07-05T00:00:00\", \"2020-07-06T00:00:00\", \"2020-07-07T00:00:00\", \"2020-07-08T00:00:00\", \"2020-07-09T00:00:00\", \"2020-07-10T00:00:00\", \"2020-07-11T00:00:00\", \"2020-07-12T00:00:00\", \"2020-07-13T00:00:00\", \"2020-07-14T00:00:00\", \"2020-07-15T00:00:00\", \"2020-07-16T00:00:00\", \"2020-07-17T00:00:00\", \"2020-07-18T00:00:00\", \"2020-07-19T00:00:00\", \"2020-07-20T00:00:00\", \"2020-07-21T00:00:00\", \"2020-07-22T00:00:00\", \"2020-07-23T00:00:00\", \"2020-07-24T00:00:00\", \"2020-07-25T00:00:00\", \"2020-07-26T00:00:00\", \"2020-07-27T00:00:00\", \"2020-07-28T00:00:00\", \"2020-07-29T00:00:00\", \"2020-07-30T00:00:00\", \"2020-07-31T00:00:00\", \"2020-08-01T00:00:00\", \"2020-08-02T00:00:00\", \"2020-08-03T00:00:00\", \"2020-08-04T00:00:00\", \"2020-08-05T00:00:00\", \"2020-08-06T00:00:00\", \"2020-08-07T00:00:00\", \"2020-08-08T00:00:00\", \"2020-08-09T00:00:00\", \"2020-08-10T00:00:00\", \"2020-08-11T00:00:00\", \"2020-08-12T00:00:00\", \"2020-08-13T00:00:00\", \"2020-08-14T00:00:00\", \"2020-08-15T00:00:00\", \"2020-08-16T00:00:00\", \"2020-08-17T00:00:00\", \"2020-08-18T00:00:00\", \"2020-08-19T00:00:00\", \"2020-08-20T00:00:00\", \"2020-08-21T00:00:00\", \"2020-08-22T00:00:00\", \"2020-08-23T00:00:00\", \"2020-08-24T00:00:00\", \"2020-08-25T00:00:00\", \"2020-08-26T00:00:00\", \"2020-08-27T00:00:00\", \"2020-08-28T00:00:00\", \"2020-08-29T00:00:00\", \"2020-08-30T00:00:00\", \"2020-08-31T00:00:00\", \"2020-09-01T00:00:00\", \"2020-09-02T00:00:00\", \"2020-09-03T00:00:00\", \"2020-09-04T00:00:00\", \"2020-09-05T00:00:00\", \"2020-09-06T00:00:00\", \"2020-09-07T00:00:00\", \"2020-09-08T00:00:00\", \"2020-09-09T00:00:00\", \"2020-09-10T00:00:00\", \"2020-09-11T00:00:00\", \"2020-09-12T00:00:00\", \"2020-09-13T00:00:00\", \"2020-09-14T00:00:00\", \"2020-09-15T00:00:00\", \"2020-09-16T00:00:00\", \"2020-09-17T00:00:00\", \"2020-09-18T00:00:00\", \"2020-09-19T00:00:00\", \"2020-09-20T00:00:00\", \"2020-09-21T00:00:00\", \"2020-09-22T00:00:00\", \"2020-09-23T00:00:00\", \"2020-09-24T00:00:00\", \"2020-09-25T00:00:00\", \"2020-09-26T00:00:00\", \"2020-09-27T00:00:00\", \"2020-09-28T00:00:00\", \"2020-09-29T00:00:00\", \"2020-09-30T00:00:00\", \"2020-10-01T00:00:00\", \"2020-10-02T00:00:00\", \"2020-10-03T00:00:00\", \"2020-10-04T00:00:00\", \"2020-10-05T00:00:00\", \"2020-10-06T00:00:00\", \"2020-10-07T00:00:00\", \"2020-10-08T00:00:00\", \"2020-10-09T00:00:00\", \"2020-10-10T00:00:00\", \"2020-10-11T00:00:00\", \"2020-10-12T00:00:00\", \"2020-10-13T00:00:00\", \"2020-10-14T00:00:00\", \"2020-10-15T00:00:00\", \"2020-10-16T00:00:00\", \"2020-10-17T00:00:00\", \"2020-10-18T00:00:00\", \"2020-10-19T00:00:00\", \"2020-10-20T00:00:00\", \"2020-10-21T00:00:00\", \"2020-10-22T00:00:00\", \"2020-10-23T00:00:00\", \"2020-10-24T00:00:00\", \"2020-10-25T00:00:00\", \"2020-10-26T00:00:00\", \"2020-10-27T00:00:00\", \"2020-10-28T00:00:00\", \"2020-10-29T00:00:00\", \"2020-10-30T00:00:00\", \"2020-10-31T00:00:00\", \"2020-11-01T00:00:00\", \"2020-11-02T00:00:00\", \"2020-11-03T00:00:00\", \"2020-11-04T00:00:00\", \"2020-11-05T00:00:00\", \"2020-11-06T00:00:00\", \"2020-11-07T00:00:00\", \"2020-11-08T00:00:00\", \"2020-11-09T00:00:00\", \"2020-11-10T00:00:00\", \"2020-11-11T00:00:00\", \"2020-11-12T00:00:00\", \"2020-11-13T00:00:00\", \"2020-11-14T00:00:00\", \"2020-11-15T00:00:00\", \"2020-11-16T00:00:00\", \"2020-11-17T00:00:00\", \"2020-11-18T00:00:00\", \"2020-11-19T00:00:00\", \"2020-11-20T00:00:00\", \"2020-11-21T00:00:00\", \"2020-11-22T00:00:00\", \"2020-11-23T00:00:00\", \"2020-11-24T00:00:00\", \"2020-11-25T00:00:00\", \"2020-11-26T00:00:00\", \"2020-11-27T00:00:00\", \"2020-11-28T00:00:00\", \"2020-11-29T00:00:00\", \"2020-11-30T00:00:00\", \"2020-12-01T00:00:00\", \"2020-12-02T00:00:00\", \"2020-12-03T00:00:00\", \"2020-12-04T00:00:00\", \"2020-12-05T00:00:00\", \"2020-12-06T00:00:00\", \"2020-12-07T00:00:00\", \"2020-12-08T00:00:00\", \"2020-12-09T00:00:00\", \"2020-12-10T00:00:00\", \"2020-12-11T00:00:00\", \"2020-12-12T00:00:00\", \"2020-12-13T00:00:00\", \"2020-12-14T00:00:00\", \"2020-12-15T00:00:00\", \"2020-12-16T00:00:00\", \"2020-12-17T00:00:00\", \"2020-12-18T00:00:00\", \"2020-12-19T00:00:00\", \"2020-12-20T00:00:00\", \"2020-12-21T00:00:00\", \"2020-12-22T00:00:00\", \"2020-12-23T00:00:00\", \"2020-12-24T00:00:00\", \"2020-12-25T00:00:00\", \"2020-12-26T00:00:00\", \"2020-12-27T00:00:00\", \"2020-12-28T00:00:00\", \"2020-12-29T00:00:00\", \"2020-12-30T00:00:00\", \"2020-12-31T00:00:00\", \"2021-01-01T00:00:00\", \"2021-01-02T00:00:00\", \"2021-01-03T00:00:00\", \"2021-01-04T00:00:00\", \"2021-01-05T00:00:00\", \"2021-01-06T00:00:00\", \"2021-01-07T00:00:00\", \"2021-01-08T00:00:00\", \"2021-01-09T00:00:00\", \"2021-01-10T00:00:00\", \"2021-01-11T00:00:00\", \"2021-01-12T00:00:00\", \"2021-01-13T00:00:00\", \"2021-01-14T00:00:00\", \"2021-01-15T00:00:00\", \"2021-01-16T00:00:00\", \"2021-01-17T00:00:00\", \"2021-01-18T00:00:00\", \"2021-01-19T00:00:00\", \"2021-01-20T00:00:00\", \"2021-01-21T00:00:00\", \"2021-01-22T00:00:00\", \"2021-01-23T00:00:00\", \"2021-01-24T00:00:00\", \"2021-01-25T00:00:00\", \"2021-01-26T00:00:00\", \"2021-01-27T00:00:00\", \"2021-01-28T00:00:00\", \"2021-01-29T00:00:00\", \"2021-01-30T00:00:00\", \"2021-01-31T00:00:00\", \"2021-02-01T00:00:00\", \"2021-02-02T00:00:00\", \"2021-02-03T00:00:00\", \"2021-02-04T00:00:00\", \"2021-02-05T00:00:00\", \"2021-02-06T00:00:00\", \"2021-02-07T00:00:00\", \"2021-02-08T00:00:00\", \"2021-02-09T00:00:00\", \"2021-02-10T00:00:00\", \"2021-02-11T00:00:00\", \"2021-02-12T00:00:00\", \"2021-02-13T00:00:00\", \"2021-02-14T00:00:00\", \"2021-02-15T00:00:00\", \"2021-02-16T00:00:00\", \"2021-02-17T00:00:00\", \"2021-02-18T00:00:00\", \"2021-02-19T00:00:00\", \"2021-02-20T00:00:00\", \"2021-02-21T00:00:00\", \"2021-02-22T00:00:00\", \"2021-02-23T00:00:00\", \"2021-02-24T00:00:00\", \"2021-02-25T00:00:00\", \"2021-02-26T00:00:00\", \"2021-02-27T00:00:00\", \"2021-02-28T00:00:00\", \"2021-03-01T00:00:00\", \"2021-03-02T00:00:00\", \"2021-03-03T00:00:00\", \"2021-03-04T00:00:00\", \"2021-03-05T00:00:00\", \"2021-03-06T00:00:00\", \"2021-03-07T00:00:00\", \"2021-03-08T00:00:00\", \"2021-03-09T00:00:00\", \"2021-03-10T00:00:00\", \"2021-03-11T00:00:00\", \"2021-03-12T00:00:00\", \"2021-03-13T00:00:00\", \"2021-03-14T00:00:00\", \"2021-03-15T00:00:00\", \"2021-03-16T00:00:00\", \"2021-03-17T00:00:00\", \"2021-03-18T00:00:00\", \"2021-03-19T00:00:00\", \"2021-03-20T00:00:00\", \"2021-03-21T00:00:00\", \"2021-03-22T00:00:00\", \"2021-03-23T00:00:00\", \"2021-03-24T00:00:00\", \"2021-03-25T00:00:00\", \"2021-03-26T00:00:00\", \"2021-03-27T00:00:00\", \"2021-03-28T00:00:00\", \"2021-03-29T00:00:00\", \"2021-03-30T00:00:00\", \"2021-03-31T00:00:00\", \"2021-04-01T00:00:00\", \"2021-04-02T00:00:00\", \"2021-04-03T00:00:00\", \"2021-04-04T00:00:00\", \"2021-04-05T00:00:00\", \"2021-04-06T00:00:00\", \"2021-04-07T00:00:00\", \"2021-04-08T00:00:00\", \"2021-04-09T00:00:00\", \"2021-04-10T00:00:00\", \"2021-04-11T00:00:00\", \"2021-04-12T00:00:00\", \"2021-04-13T00:00:00\", \"2021-04-14T00:00:00\", \"2021-04-15T00:00:00\", \"2021-04-16T00:00:00\", \"2021-04-17T00:00:00\", \"2021-04-18T00:00:00\", \"2021-04-19T00:00:00\", \"2021-04-20T00:00:00\", \"2021-04-21T00:00:00\", \"2021-04-22T00:00:00\", \"2021-04-23T00:00:00\", \"2021-04-24T00:00:00\", \"2021-04-25T00:00:00\", \"2021-04-26T00:00:00\", \"2021-04-27T00:00:00\", \"2021-04-28T00:00:00\", \"2021-04-29T00:00:00\", \"2021-04-30T00:00:00\", \"2021-05-01T00:00:00\", \"2021-05-02T00:00:00\", \"2021-05-03T00:00:00\", \"2021-05-04T00:00:00\", \"2021-05-05T00:00:00\", \"2021-05-06T00:00:00\", \"2021-05-07T00:00:00\", \"2021-05-08T00:00:00\", \"2021-05-09T00:00:00\", \"2021-05-10T00:00:00\", \"2021-05-11T00:00:00\", \"2021-05-12T00:00:00\", \"2021-05-13T00:00:00\", \"2021-05-14T00:00:00\", \"2021-05-15T00:00:00\", \"2021-05-16T00:00:00\", \"2021-05-17T00:00:00\", \"2021-05-18T00:00:00\", \"2021-05-19T00:00:00\", \"2021-05-20T00:00:00\", \"2021-05-21T00:00:00\", \"2021-05-22T00:00:00\", \"2021-05-23T00:00:00\", \"2021-05-24T00:00:00\", \"2021-05-25T00:00:00\", \"2021-05-26T00:00:00\", \"2021-05-27T00:00:00\", \"2021-05-28T00:00:00\", \"2021-05-29T00:00:00\", \"2021-05-30T00:00:00\", \"2021-05-31T00:00:00\", \"2021-06-01T00:00:00\", \"2021-06-02T00:00:00\", \"2021-06-03T00:00:00\", \"2021-06-04T00:00:00\", \"2021-06-05T00:00:00\", \"2021-06-06T00:00:00\", \"2021-06-07T00:00:00\", \"2021-06-08T00:00:00\", \"2021-06-09T00:00:00\", \"2021-06-10T00:00:00\", \"2021-06-11T00:00:00\", \"2021-06-12T00:00:00\", \"2021-06-13T00:00:00\", \"2021-06-14T00:00:00\", \"2021-06-15T00:00:00\", \"2021-06-16T00:00:00\", \"2021-06-17T00:00:00\", \"2021-06-18T00:00:00\", \"2021-06-19T00:00:00\", \"2021-06-20T00:00:00\", \"2021-06-21T00:00:00\", \"2021-06-22T00:00:00\", \"2021-06-23T00:00:00\", \"2021-06-24T00:00:00\", \"2021-06-25T00:00:00\", \"2021-06-26T00:00:00\", \"2021-06-27T00:00:00\", \"2021-06-28T00:00:00\", \"2021-06-29T00:00:00\", \"2021-06-30T00:00:00\", \"2021-07-01T00:00:00\", \"2021-07-02T00:00:00\", \"2021-07-03T00:00:00\", \"2021-07-04T00:00:00\", \"2021-07-05T00:00:00\", \"2021-07-06T00:00:00\", \"2021-07-07T00:00:00\", \"2021-07-08T00:00:00\", \"2021-07-09T00:00:00\", \"2021-07-10T00:00:00\", \"2021-07-11T00:00:00\", \"2021-07-12T00:00:00\", \"2021-07-13T00:00:00\", \"2021-07-14T00:00:00\", \"2021-07-15T00:00:00\", \"2021-07-16T00:00:00\", \"2021-07-17T00:00:00\", \"2021-07-18T00:00:00\", \"2021-07-19T00:00:00\", \"2021-07-20T00:00:00\", \"2021-07-21T00:00:00\", \"2021-07-22T00:00:00\", \"2021-07-23T00:00:00\", \"2021-07-24T00:00:00\", \"2021-07-25T00:00:00\", \"2021-07-26T00:00:00\", \"2021-07-27T00:00:00\", \"2021-07-28T00:00:00\", \"2021-07-29T00:00:00\", \"2021-07-30T00:00:00\", \"2021-07-31T00:00:00\", \"2021-08-01T00:00:00\", \"2021-08-02T00:00:00\", \"2021-08-03T00:00:00\", \"2021-08-04T00:00:00\", \"2021-08-05T00:00:00\", \"2021-08-06T00:00:00\", \"2021-08-07T00:00:00\", \"2021-08-08T00:00:00\", \"2021-08-09T00:00:00\", \"2021-08-10T00:00:00\", \"2021-08-11T00:00:00\", \"2021-08-12T00:00:00\", \"2021-08-13T00:00:00\", \"2021-08-14T00:00:00\", \"2021-08-15T00:00:00\", \"2021-08-16T00:00:00\", \"2021-08-17T00:00:00\", \"2021-08-18T00:00:00\", \"2021-08-19T00:00:00\", \"2021-08-20T00:00:00\", \"2021-08-21T00:00:00\", \"2021-08-22T00:00:00\", \"2021-08-23T00:00:00\", \"2021-08-24T00:00:00\", \"2021-08-25T00:00:00\", \"2021-08-26T00:00:00\", \"2021-08-27T00:00:00\", \"2021-08-28T00:00:00\", \"2021-08-29T00:00:00\", \"2021-08-30T00:00:00\", \"2021-08-31T00:00:00\", \"2021-09-01T00:00:00\", \"2021-09-02T00:00:00\", \"2021-09-03T00:00:00\", \"2021-09-04T00:00:00\", \"2021-09-05T00:00:00\", \"2021-09-06T00:00:00\", \"2021-09-07T00:00:00\", \"2021-09-08T00:00:00\", \"2021-09-09T00:00:00\", \"2021-09-10T00:00:00\", \"2021-09-11T00:00:00\", \"2021-09-12T00:00:00\", \"2021-09-13T00:00:00\", \"2021-09-14T00:00:00\", \"2021-09-15T00:00:00\", \"2021-09-16T00:00:00\", \"2021-09-17T00:00:00\", \"2021-09-18T00:00:00\", \"2021-09-19T00:00:00\", \"2021-09-20T00:00:00\", \"2021-09-21T00:00:00\", \"2021-09-22T00:00:00\", \"2021-09-23T00:00:00\", \"2021-09-24T00:00:00\"], \"xaxis\": \"x\", \"y\": [66, 82, 156, 346, 556, 763, 893, 1146, 1595, 2022, 2931, 3526, 4212, 4812, 5328, 5766, 6284, 6767, 7134, 7382, 7513, 7755, 7869, 7979, 8086, 8162, 8236, 8320, 8413, 8565, 8652, 8799, 8897, 8961, 9037, 9137, 9241, 9332, 9478, 9583, 9661, 9786, 9887, 9976, 10062, 10156, 10237, 10284, 10331, 10384, 10423, 10450, 10480, 10512, 10537, 10564, 10591, 10613, 10635, 10653, 10661, 10674, 10683, 10694, 10702, 10708, 10718, 10728, 10738, 10752, 10761, 10765, 10774, 10780, 10793, 10801, 10804, 10806, 10810, 10822, 10840, 10874, 10909, 10936, 10962, 10991, 11018, 11037, 11050, 11065, 11078, 11110, 11122, 11142, 11165, 11190, 11206, 11225, 11265, 11344, 11402, 11441, 11468, 11503, 11541, 11590, 11629, 11668, 11719, 11776, 11813, 11851, 11901, 11946, 12002, 12050, 12084, 12121, 12155, 12198, 12257, 12306, 12373, 12421, 12438, 12484, 12535, 12563, 12602, 12653, 12715, 12757, 12799, 12850, 12904, 12965, 13028, 13089, 13137, 13181, 13243, 13293, 13338, 13373, 13417, 13479, 13512, 13551, 13612, 13672, 13711, 13745, 13771, 13816, 13879, 13938, 13979, 14092, 14150, 14175, 14203, 14251, 14269, 14305, 14336, 14366, 14389, 14423, 14456, 14499, 14519, 14562, 14598, 14626, 14660, 14714, 14770, 14873, 15039, 15318, 15515, 15761, 16058, 16346, 16670, 17002, 17398, 17664, 17944, 18264, 18705, 19076, 19399, 19698, 19946, 20181, 20448, 20643, 20841, 21009, 21176, 21295, 21431, 21587, 21742, 21918, 22054, 22175, 22284, 22390, 22503, 22656, 22782, 22892, 22974, 23044, 23105, 23215, 23340, 23454, 23515, 23610, 23660, 23698, 23811, 23888, 23951, 24026, 24090, 24163, 24238, 24352, 24421, 24475, 24547, 24605, 24703, 24794, 24878, 24988, 25035, 25108, 25199, 25275, 25333, 25422, 25543, 25698, 25775, 25836, 25955, 26043, 26146, 26271, 26384, 26511, 26635, 26732, 26807, 26924, 27049, 27194, 27283, 27426, 27552, 27652, 27797, 27940, 28131, 28336, 28544, 28766, 28996, 29281, 29606, 29954, 30340, 30670, 30941, 31290, 31672, 32253, 32808, 33311, 33761, 34199, 34650, 35161, 35701, 36329, 36906, 37537, 38152, 38739, 39409, 40089, 40778, 41728, 42758, 43476, 44356, 45434, 46448, 47512, 48557, 49653, 50577, 51443, 52533, 53518, 54758, 55889, 56859, 57665, 58709, 59759, 60726, 61753, 62573, 63230, 64250, 64964, 65802, 66671, 67345, 67986, 68643, 69094, 69631, 70192, 70716, 71228, 71808, 72328, 72717, 73103, 73507, 73907, 74253, 74684, 75076, 75513, 75862, 76421, 76918, 77387, 77843, 78197, 78502, 78838, 79305, 79756, 80126, 80516, 80887, 81175, 81478, 81922, 82426, 82829, 83191, 83517, 83860, 84317, 84938, 85559, 86120, 86568, 86984, 87316, 87672, 88112, 88507, 88894, 89309, 89664, 90019, 90363, 90807, 91231, 91629, 92047, 92463, 92809, 93255, 93725, 94190, 94678, 95168, 95627, 96006, 96369, 96838, 97283, 97746, 98193, 98649, 99064, 99410, 99838, 100268, 100757, 101262, 101744, 102126, 102573, 103079, 103630, 104187, 104730, 105273, 105746, 106223, 106891, 107591, 108262, 108939, 109553, 110140, 110682, 111413, 112111, 112784, 113442, 114113, 114645, 115194, 115925, 116660, 117457, 118242, 118886, 119385, 119897, 120666, 121345, 122006, 122633, 123239, 123727, 124268, 124944, 125518, 126043, 126744, 127308, 127771, 128281, 128915, 129630, 130377, 131058, 131668, 132287, 132815, 133469, 134115, 134676, 135342, 135927, 136457, 136973, 137678, 138307, 138894, 139427, 139907, 140337, 140796, 141473, 142154, 142849, 143593, 144149, 144634, 145088, 145690, 146300, 146856, 147421, 147873, 148272, 148645, 149190, 149730, 150237, 150719, 151148, 151505, 151899, 152544, 153154, 153788, 154456, 155070, 155571, 156166, 156960, 157721, 158546, 159340, 160083, 160794, 161540, 162751, 164026, 165342, 166720, 168044, 169144, 170294, 171907, 173506, 175041, 176490, 177943, 179194, 180472, 182253, 184094, 185723, 187350, 188837, 190155, 191518, 193413, 195086, 196796, 198334, 199776, 200994, 202194, 203919, 205694, 207398, 209221, 210948, 212439, 213976, 216197, 218184, 220173, 222101, 223917, 225471, 226843, 228646, 230798, 232848, 234725, 236351, 237768, 239275, 241429, 243311, 245148, 246939, 248558, 250043, 251413, 253437, 255397, 257105, 258908, 260398, 261773, 263370, 265418, 267467, 269359, 271223, 272978, 274411, 275906, 277984, 279926, 281934, 284021, 285930, 287534, 289263, 290983, 292698, 295132], \"yaxis\": \"y\"}],\n",
              "                        {\"height\": 600, \"legend\": {\"tracegroupgap\": 0}, \"template\": {\"data\": {\"pie\": [{\"automargin\": true, \"type\": \"pie\"}]}, \"layout\": {\"xaxis\": {\"showgrid\": true, \"title\": {\"standoff\": 15}}, \"yaxis\": {\"showgrid\": true, \"title\": {\"standoff\": 15}}}}, \"title\": {\"text\": \"Cumulative Confirmed cases (logarithmic scale) in Korea, Republic of\"}, \"width\": 1000, \"xaxis\": {\"anchor\": \"y\", \"domain\": [0.0, 1.0], \"title\": {\"text\": \"Date\"}}, \"yaxis\": {\"anchor\": \"x\", \"domain\": [0.0, 1.0], \"title\": {\"text\": \"cum_Confirmed\"}, \"type\": \"log\"}},\n",
              "                        {\"responsive\": true}\n",
              "                    ).then(function(){\n",
              "                            \n",
              "var gd = document.getElementById('1cb909ae-645a-4ba4-86ba-1a50610942a9');\n",
              "var x = new MutationObserver(function (mutations, observer) {{\n",
              "        var display = window.getComputedStyle(gd).display;\n",
              "        if (!display || display === 'none') {{\n",
              "            console.log([gd, 'removed!']);\n",
              "            Plotly.purge(gd);\n",
              "            observer.disconnect();\n",
              "        }}\n",
              "}});\n",
              "\n",
              "// Listen for the removal of the full notebook cells\n",
              "var notebookContainer = gd.closest('#notebook-container');\n",
              "if (notebookContainer) {{\n",
              "    x.observe(notebookContainer, {childList: true});\n",
              "}}\n",
              "\n",
              "// Listen for the clearing of the current output cell\n",
              "var outputEl = gd.closest('.output');\n",
              "if (outputEl) {{\n",
              "    x.observe(outputEl, {childList: true});\n",
              "}}\n",
              "\n",
              "                        })\n",
              "                };\n",
              "                \n",
              "            </script>\n",
              "        </div>\n",
              "</body>\n",
              "</html>"
            ]
          },
          "metadata": {}
        }
      ]
    },
    {
      "cell_type": "code",
      "metadata": {
        "execution": {
          "iopub.execute_input": "2020-08-09T19:17:46.54524Z",
          "iopub.status.busy": "2020-08-09T19:17:46.536856Z",
          "iopub.status.idle": "2020-08-09T19:17:46.63746Z",
          "shell.execute_reply": "2020-08-09T19:17:46.636796Z"
        },
        "papermill": {
          "duration": 0.153328,
          "end_time": "2020-08-09T19:17:46.6376",
          "exception": false,
          "start_time": "2020-08-09T19:17:46.484272",
          "status": "completed"
        },
        "tags": [],
        "colab": {
          "base_uri": "https://localhost:8080/",
          "height": 617
        },
        "id": "rgKC_Zchvf00",
        "outputId": "e26d3a7a-776b-4f22-fac5-e7cdce3919ed"
      },
      "source": [
        "df2['holiday'] = 0\n",
        "holidays_df_dates = holidays_df['ds'].tolist()\n",
        "df2.loc[df2['Date'].isin(holidays_df_dates), 'holiday'] = 1\n",
        "plot_with_anomalies(df2, [\"cum_Confirmed\"], {\"cum_Confirmed\" : \"Confirmed cases and holidays data in \" + country_main}, 'Date', 'holiday', 1)\n",
        "df2 = df2.drop(columns=['holiday'])"
      ],
      "execution_count": 33,
      "outputs": [
        {
          "output_type": "display_data",
          "data": {
            "text/html": [
              "<html>\n",
              "<head><meta charset=\"utf-8\" /></head>\n",
              "<body>\n",
              "    <div>\n",
              "            <script src=\"https://cdnjs.cloudflare.com/ajax/libs/mathjax/2.7.5/MathJax.js?config=TeX-AMS-MML_SVG\"></script><script type=\"text/javascript\">if (window.MathJax) {MathJax.Hub.Config({SVG: {font: \"STIX-Web\"}});}</script>\n",
              "                <script type=\"text/javascript\">window.PlotlyConfig = {MathJaxConfig: 'local'};</script>\n",
              "        <script src=\"https://cdn.plot.ly/plotly-latest.min.js\"></script>    \n",
              "            <div id=\"66ead290-2392-4ed8-8fc2-d13a0f20c99b\" class=\"plotly-graph-div\" style=\"height:600px; width:1000px;\"></div>\n",
              "            <script type=\"text/javascript\">\n",
              "                \n",
              "                    window.PLOTLYENV=window.PLOTLYENV || {};\n",
              "                    \n",
              "                if (document.getElementById(\"66ead290-2392-4ed8-8fc2-d13a0f20c99b\")) {\n",
              "                    Plotly.newPlot(\n",
              "                        '66ead290-2392-4ed8-8fc2-d13a0f20c99b',\n",
              "                        [{\"hoverlabel\": {\"namelength\": 0}, \"hovertemplate\": \"Date=%{x}<br>cum_Confirmed=%{y}\", \"legendgroup\": \"\", \"line\": {\"color\": \"#1F77B4\", \"dash\": \"solid\"}, \"mode\": \"lines\", \"name\": \"\", \"showlegend\": false, \"type\": \"scatter\", \"x\": [\"2020-02-19T00:00:00\", \"2020-02-20T00:00:00\", \"2020-02-21T00:00:00\", \"2020-02-22T00:00:00\", \"2020-02-23T00:00:00\", \"2020-02-24T00:00:00\", \"2020-02-25T00:00:00\", \"2020-02-26T00:00:00\", \"2020-02-27T00:00:00\", \"2020-02-28T00:00:00\", \"2020-02-29T00:00:00\", \"2020-03-01T00:00:00\", \"2020-03-02T00:00:00\", \"2020-03-03T00:00:00\", \"2020-03-04T00:00:00\", \"2020-03-05T00:00:00\", \"2020-03-06T00:00:00\", \"2020-03-07T00:00:00\", \"2020-03-08T00:00:00\", \"2020-03-09T00:00:00\", \"2020-03-10T00:00:00\", \"2020-03-11T00:00:00\", \"2020-03-12T00:00:00\", \"2020-03-13T00:00:00\", \"2020-03-14T00:00:00\", \"2020-03-15T00:00:00\", \"2020-03-16T00:00:00\", \"2020-03-17T00:00:00\", \"2020-03-18T00:00:00\", \"2020-03-19T00:00:00\", \"2020-03-20T00:00:00\", \"2020-03-21T00:00:00\", \"2020-03-22T00:00:00\", \"2020-03-23T00:00:00\", \"2020-03-24T00:00:00\", \"2020-03-25T00:00:00\", \"2020-03-26T00:00:00\", \"2020-03-27T00:00:00\", \"2020-03-28T00:00:00\", \"2020-03-29T00:00:00\", \"2020-03-30T00:00:00\", \"2020-03-31T00:00:00\", \"2020-04-01T00:00:00\", \"2020-04-02T00:00:00\", \"2020-04-03T00:00:00\", \"2020-04-04T00:00:00\", \"2020-04-05T00:00:00\", \"2020-04-06T00:00:00\", \"2020-04-07T00:00:00\", \"2020-04-08T00:00:00\", \"2020-04-09T00:00:00\", \"2020-04-10T00:00:00\", \"2020-04-11T00:00:00\", \"2020-04-12T00:00:00\", \"2020-04-13T00:00:00\", \"2020-04-14T00:00:00\", \"2020-04-15T00:00:00\", \"2020-04-16T00:00:00\", \"2020-04-17T00:00:00\", \"2020-04-18T00:00:00\", \"2020-04-19T00:00:00\", \"2020-04-20T00:00:00\", \"2020-04-21T00:00:00\", \"2020-04-22T00:00:00\", \"2020-04-23T00:00:00\", \"2020-04-24T00:00:00\", \"2020-04-25T00:00:00\", \"2020-04-26T00:00:00\", \"2020-04-27T00:00:00\", \"2020-04-28T00:00:00\", \"2020-04-29T00:00:00\", \"2020-04-30T00:00:00\", \"2020-05-01T00:00:00\", \"2020-05-02T00:00:00\", \"2020-05-03T00:00:00\", \"2020-05-04T00:00:00\", \"2020-05-05T00:00:00\", \"2020-05-06T00:00:00\", \"2020-05-07T00:00:00\", \"2020-05-08T00:00:00\", \"2020-05-09T00:00:00\", \"2020-05-10T00:00:00\", \"2020-05-11T00:00:00\", \"2020-05-12T00:00:00\", \"2020-05-13T00:00:00\", \"2020-05-14T00:00:00\", \"2020-05-15T00:00:00\", \"2020-05-16T00:00:00\", \"2020-05-17T00:00:00\", \"2020-05-18T00:00:00\", \"2020-05-19T00:00:00\", \"2020-05-20T00:00:00\", \"2020-05-21T00:00:00\", \"2020-05-22T00:00:00\", \"2020-05-23T00:00:00\", \"2020-05-24T00:00:00\", \"2020-05-25T00:00:00\", \"2020-05-26T00:00:00\", \"2020-05-27T00:00:00\", \"2020-05-28T00:00:00\", \"2020-05-29T00:00:00\", \"2020-05-30T00:00:00\", \"2020-05-31T00:00:00\", \"2020-06-01T00:00:00\", \"2020-06-02T00:00:00\", \"2020-06-03T00:00:00\", \"2020-06-04T00:00:00\", \"2020-06-05T00:00:00\", \"2020-06-06T00:00:00\", \"2020-06-07T00:00:00\", \"2020-06-08T00:00:00\", \"2020-06-09T00:00:00\", \"2020-06-10T00:00:00\", \"2020-06-11T00:00:00\", \"2020-06-12T00:00:00\", \"2020-06-13T00:00:00\", \"2020-06-14T00:00:00\", \"2020-06-15T00:00:00\", \"2020-06-16T00:00:00\", \"2020-06-17T00:00:00\", \"2020-06-18T00:00:00\", \"2020-06-19T00:00:00\", \"2020-06-20T00:00:00\", \"2020-06-21T00:00:00\", \"2020-06-22T00:00:00\", \"2020-06-23T00:00:00\", \"2020-06-24T00:00:00\", \"2020-06-25T00:00:00\", \"2020-06-26T00:00:00\", \"2020-06-27T00:00:00\", \"2020-06-28T00:00:00\", \"2020-06-29T00:00:00\", \"2020-06-30T00:00:00\", \"2020-07-01T00:00:00\", \"2020-07-02T00:00:00\", \"2020-07-03T00:00:00\", \"2020-07-04T00:00:00\", \"2020-07-05T00:00:00\", \"2020-07-06T00:00:00\", \"2020-07-07T00:00:00\", \"2020-07-08T00:00:00\", \"2020-07-09T00:00:00\", \"2020-07-10T00:00:00\", \"2020-07-11T00:00:00\", \"2020-07-12T00:00:00\", \"2020-07-13T00:00:00\", \"2020-07-14T00:00:00\", \"2020-07-15T00:00:00\", \"2020-07-16T00:00:00\", \"2020-07-17T00:00:00\", \"2020-07-18T00:00:00\", \"2020-07-19T00:00:00\", \"2020-07-20T00:00:00\", \"2020-07-21T00:00:00\", \"2020-07-22T00:00:00\", \"2020-07-23T00:00:00\", \"2020-07-24T00:00:00\", \"2020-07-25T00:00:00\", \"2020-07-26T00:00:00\", \"2020-07-27T00:00:00\", \"2020-07-28T00:00:00\", \"2020-07-29T00:00:00\", \"2020-07-30T00:00:00\", \"2020-07-31T00:00:00\", \"2020-08-01T00:00:00\", \"2020-08-02T00:00:00\", \"2020-08-03T00:00:00\", \"2020-08-04T00:00:00\", \"2020-08-05T00:00:00\", \"2020-08-06T00:00:00\", \"2020-08-07T00:00:00\", \"2020-08-08T00:00:00\", \"2020-08-09T00:00:00\", \"2020-08-10T00:00:00\", \"2020-08-11T00:00:00\", \"2020-08-12T00:00:00\", \"2020-08-13T00:00:00\", \"2020-08-14T00:00:00\", \"2020-08-15T00:00:00\", \"2020-08-16T00:00:00\", \"2020-08-17T00:00:00\", \"2020-08-18T00:00:00\", \"2020-08-19T00:00:00\", \"2020-08-20T00:00:00\", \"2020-08-21T00:00:00\", \"2020-08-22T00:00:00\", \"2020-08-23T00:00:00\", \"2020-08-24T00:00:00\", \"2020-08-25T00:00:00\", \"2020-08-26T00:00:00\", \"2020-08-27T00:00:00\", \"2020-08-28T00:00:00\", \"2020-08-29T00:00:00\", \"2020-08-30T00:00:00\", \"2020-08-31T00:00:00\", \"2020-09-01T00:00:00\", \"2020-09-02T00:00:00\", \"2020-09-03T00:00:00\", \"2020-09-04T00:00:00\", \"2020-09-05T00:00:00\", \"2020-09-06T00:00:00\", \"2020-09-07T00:00:00\", \"2020-09-08T00:00:00\", \"2020-09-09T00:00:00\", \"2020-09-10T00:00:00\", \"2020-09-11T00:00:00\", \"2020-09-12T00:00:00\", \"2020-09-13T00:00:00\", \"2020-09-14T00:00:00\", \"2020-09-15T00:00:00\", \"2020-09-16T00:00:00\", \"2020-09-17T00:00:00\", \"2020-09-18T00:00:00\", \"2020-09-19T00:00:00\", \"2020-09-20T00:00:00\", \"2020-09-21T00:00:00\", \"2020-09-22T00:00:00\", \"2020-09-23T00:00:00\", \"2020-09-24T00:00:00\", \"2020-09-25T00:00:00\", \"2020-09-26T00:00:00\", \"2020-09-27T00:00:00\", \"2020-09-28T00:00:00\", \"2020-09-29T00:00:00\", \"2020-09-30T00:00:00\", \"2020-10-01T00:00:00\", \"2020-10-02T00:00:00\", \"2020-10-03T00:00:00\", \"2020-10-04T00:00:00\", \"2020-10-05T00:00:00\", \"2020-10-06T00:00:00\", \"2020-10-07T00:00:00\", \"2020-10-08T00:00:00\", \"2020-10-09T00:00:00\", \"2020-10-10T00:00:00\", \"2020-10-11T00:00:00\", \"2020-10-12T00:00:00\", \"2020-10-13T00:00:00\", \"2020-10-14T00:00:00\", \"2020-10-15T00:00:00\", \"2020-10-16T00:00:00\", \"2020-10-17T00:00:00\", \"2020-10-18T00:00:00\", \"2020-10-19T00:00:00\", \"2020-10-20T00:00:00\", \"2020-10-21T00:00:00\", \"2020-10-22T00:00:00\", \"2020-10-23T00:00:00\", \"2020-10-24T00:00:00\", \"2020-10-25T00:00:00\", \"2020-10-26T00:00:00\", \"2020-10-27T00:00:00\", \"2020-10-28T00:00:00\", \"2020-10-29T00:00:00\", \"2020-10-30T00:00:00\", \"2020-10-31T00:00:00\", \"2020-11-01T00:00:00\", \"2020-11-02T00:00:00\", \"2020-11-03T00:00:00\", \"2020-11-04T00:00:00\", \"2020-11-05T00:00:00\", \"2020-11-06T00:00:00\", \"2020-11-07T00:00:00\", \"2020-11-08T00:00:00\", \"2020-11-09T00:00:00\", \"2020-11-10T00:00:00\", \"2020-11-11T00:00:00\", \"2020-11-12T00:00:00\", \"2020-11-13T00:00:00\", \"2020-11-14T00:00:00\", \"2020-11-15T00:00:00\", \"2020-11-16T00:00:00\", \"2020-11-17T00:00:00\", \"2020-11-18T00:00:00\", \"2020-11-19T00:00:00\", \"2020-11-20T00:00:00\", \"2020-11-21T00:00:00\", \"2020-11-22T00:00:00\", \"2020-11-23T00:00:00\", \"2020-11-24T00:00:00\", \"2020-11-25T00:00:00\", \"2020-11-26T00:00:00\", \"2020-11-27T00:00:00\", \"2020-11-28T00:00:00\", \"2020-11-29T00:00:00\", \"2020-11-30T00:00:00\", \"2020-12-01T00:00:00\", \"2020-12-02T00:00:00\", \"2020-12-03T00:00:00\", \"2020-12-04T00:00:00\", \"2020-12-05T00:00:00\", \"2020-12-06T00:00:00\", \"2020-12-07T00:00:00\", \"2020-12-08T00:00:00\", \"2020-12-09T00:00:00\", \"2020-12-10T00:00:00\", \"2020-12-11T00:00:00\", \"2020-12-12T00:00:00\", \"2020-12-13T00:00:00\", \"2020-12-14T00:00:00\", \"2020-12-15T00:00:00\", \"2020-12-16T00:00:00\", \"2020-12-17T00:00:00\", \"2020-12-18T00:00:00\", \"2020-12-19T00:00:00\", \"2020-12-20T00:00:00\", \"2020-12-21T00:00:00\", \"2020-12-22T00:00:00\", \"2020-12-23T00:00:00\", \"2020-12-24T00:00:00\", \"2020-12-25T00:00:00\", \"2020-12-26T00:00:00\", \"2020-12-27T00:00:00\", \"2020-12-28T00:00:00\", \"2020-12-29T00:00:00\", \"2020-12-30T00:00:00\", \"2020-12-31T00:00:00\", \"2021-01-01T00:00:00\", \"2021-01-02T00:00:00\", \"2021-01-03T00:00:00\", \"2021-01-04T00:00:00\", \"2021-01-05T00:00:00\", \"2021-01-06T00:00:00\", \"2021-01-07T00:00:00\", \"2021-01-08T00:00:00\", \"2021-01-09T00:00:00\", \"2021-01-10T00:00:00\", \"2021-01-11T00:00:00\", \"2021-01-12T00:00:00\", \"2021-01-13T00:00:00\", \"2021-01-14T00:00:00\", \"2021-01-15T00:00:00\", \"2021-01-16T00:00:00\", \"2021-01-17T00:00:00\", \"2021-01-18T00:00:00\", \"2021-01-19T00:00:00\", \"2021-01-20T00:00:00\", \"2021-01-21T00:00:00\", \"2021-01-22T00:00:00\", \"2021-01-23T00:00:00\", \"2021-01-24T00:00:00\", \"2021-01-25T00:00:00\", \"2021-01-26T00:00:00\", \"2021-01-27T00:00:00\", \"2021-01-28T00:00:00\", \"2021-01-29T00:00:00\", \"2021-01-30T00:00:00\", \"2021-01-31T00:00:00\", \"2021-02-01T00:00:00\", \"2021-02-02T00:00:00\", \"2021-02-03T00:00:00\", \"2021-02-04T00:00:00\", \"2021-02-05T00:00:00\", \"2021-02-06T00:00:00\", \"2021-02-07T00:00:00\", \"2021-02-08T00:00:00\", \"2021-02-09T00:00:00\", \"2021-02-10T00:00:00\", \"2021-02-11T00:00:00\", \"2021-02-12T00:00:00\", \"2021-02-13T00:00:00\", \"2021-02-14T00:00:00\", \"2021-02-15T00:00:00\", \"2021-02-16T00:00:00\", \"2021-02-17T00:00:00\", \"2021-02-18T00:00:00\", \"2021-02-19T00:00:00\", \"2021-02-20T00:00:00\", \"2021-02-21T00:00:00\", \"2021-02-22T00:00:00\", \"2021-02-23T00:00:00\", \"2021-02-24T00:00:00\", \"2021-02-25T00:00:00\", \"2021-02-26T00:00:00\", \"2021-02-27T00:00:00\", \"2021-02-28T00:00:00\", \"2021-03-01T00:00:00\", \"2021-03-02T00:00:00\", \"2021-03-03T00:00:00\", \"2021-03-04T00:00:00\", \"2021-03-05T00:00:00\", \"2021-03-06T00:00:00\", \"2021-03-07T00:00:00\", \"2021-03-08T00:00:00\", \"2021-03-09T00:00:00\", \"2021-03-10T00:00:00\", \"2021-03-11T00:00:00\", \"2021-03-12T00:00:00\", \"2021-03-13T00:00:00\", \"2021-03-14T00:00:00\", \"2021-03-15T00:00:00\", \"2021-03-16T00:00:00\", \"2021-03-17T00:00:00\", \"2021-03-18T00:00:00\", \"2021-03-19T00:00:00\", \"2021-03-20T00:00:00\", \"2021-03-21T00:00:00\", \"2021-03-22T00:00:00\", \"2021-03-23T00:00:00\", \"2021-03-24T00:00:00\", \"2021-03-25T00:00:00\", \"2021-03-26T00:00:00\", \"2021-03-27T00:00:00\", \"2021-03-28T00:00:00\", \"2021-03-29T00:00:00\", \"2021-03-30T00:00:00\", \"2021-03-31T00:00:00\", \"2021-04-01T00:00:00\", \"2021-04-02T00:00:00\", \"2021-04-03T00:00:00\", \"2021-04-04T00:00:00\", \"2021-04-05T00:00:00\", \"2021-04-06T00:00:00\", \"2021-04-07T00:00:00\", \"2021-04-08T00:00:00\", \"2021-04-09T00:00:00\", \"2021-04-10T00:00:00\", \"2021-04-11T00:00:00\", \"2021-04-12T00:00:00\", \"2021-04-13T00:00:00\", \"2021-04-14T00:00:00\", \"2021-04-15T00:00:00\", \"2021-04-16T00:00:00\", \"2021-04-17T00:00:00\", \"2021-04-18T00:00:00\", \"2021-04-19T00:00:00\", \"2021-04-20T00:00:00\", \"2021-04-21T00:00:00\", \"2021-04-22T00:00:00\", \"2021-04-23T00:00:00\", \"2021-04-24T00:00:00\", \"2021-04-25T00:00:00\", \"2021-04-26T00:00:00\", \"2021-04-27T00:00:00\", \"2021-04-28T00:00:00\", \"2021-04-29T00:00:00\", \"2021-04-30T00:00:00\", \"2021-05-01T00:00:00\", \"2021-05-02T00:00:00\", \"2021-05-03T00:00:00\", \"2021-05-04T00:00:00\", \"2021-05-05T00:00:00\", \"2021-05-06T00:00:00\", \"2021-05-07T00:00:00\", \"2021-05-08T00:00:00\", \"2021-05-09T00:00:00\", \"2021-05-10T00:00:00\", \"2021-05-11T00:00:00\", \"2021-05-12T00:00:00\", \"2021-05-13T00:00:00\", \"2021-05-14T00:00:00\", \"2021-05-15T00:00:00\", \"2021-05-16T00:00:00\", \"2021-05-17T00:00:00\", \"2021-05-18T00:00:00\", \"2021-05-19T00:00:00\", \"2021-05-20T00:00:00\", \"2021-05-21T00:00:00\", \"2021-05-22T00:00:00\", \"2021-05-23T00:00:00\", \"2021-05-24T00:00:00\", \"2021-05-25T00:00:00\", \"2021-05-26T00:00:00\", \"2021-05-27T00:00:00\", \"2021-05-28T00:00:00\", \"2021-05-29T00:00:00\", \"2021-05-30T00:00:00\", \"2021-05-31T00:00:00\", \"2021-06-01T00:00:00\", \"2021-06-02T00:00:00\", \"2021-06-03T00:00:00\", \"2021-06-04T00:00:00\", \"2021-06-05T00:00:00\", \"2021-06-06T00:00:00\", \"2021-06-07T00:00:00\", \"2021-06-08T00:00:00\", \"2021-06-09T00:00:00\", \"2021-06-10T00:00:00\", \"2021-06-11T00:00:00\", \"2021-06-12T00:00:00\", \"2021-06-13T00:00:00\", \"2021-06-14T00:00:00\", \"2021-06-15T00:00:00\", \"2021-06-16T00:00:00\", \"2021-06-17T00:00:00\", \"2021-06-18T00:00:00\", \"2021-06-19T00:00:00\", \"2021-06-20T00:00:00\", \"2021-06-21T00:00:00\", \"2021-06-22T00:00:00\", \"2021-06-23T00:00:00\", \"2021-06-24T00:00:00\", \"2021-06-25T00:00:00\", \"2021-06-26T00:00:00\", \"2021-06-27T00:00:00\", \"2021-06-28T00:00:00\", \"2021-06-29T00:00:00\", \"2021-06-30T00:00:00\", \"2021-07-01T00:00:00\", \"2021-07-02T00:00:00\", \"2021-07-03T00:00:00\", \"2021-07-04T00:00:00\", \"2021-07-05T00:00:00\", \"2021-07-06T00:00:00\", \"2021-07-07T00:00:00\", \"2021-07-08T00:00:00\", \"2021-07-09T00:00:00\", \"2021-07-10T00:00:00\", \"2021-07-11T00:00:00\", \"2021-07-12T00:00:00\", \"2021-07-13T00:00:00\", \"2021-07-14T00:00:00\", \"2021-07-15T00:00:00\", \"2021-07-16T00:00:00\", \"2021-07-17T00:00:00\", \"2021-07-18T00:00:00\", \"2021-07-19T00:00:00\", \"2021-07-20T00:00:00\", \"2021-07-21T00:00:00\", \"2021-07-22T00:00:00\", \"2021-07-23T00:00:00\", \"2021-07-24T00:00:00\", \"2021-07-25T00:00:00\", \"2021-07-26T00:00:00\", \"2021-07-27T00:00:00\", \"2021-07-28T00:00:00\", \"2021-07-29T00:00:00\", \"2021-07-30T00:00:00\", \"2021-07-31T00:00:00\", \"2021-08-01T00:00:00\", \"2021-08-02T00:00:00\", \"2021-08-03T00:00:00\", \"2021-08-04T00:00:00\", \"2021-08-05T00:00:00\", \"2021-08-06T00:00:00\", \"2021-08-07T00:00:00\", \"2021-08-08T00:00:00\", \"2021-08-09T00:00:00\", \"2021-08-10T00:00:00\", \"2021-08-11T00:00:00\", \"2021-08-12T00:00:00\", \"2021-08-13T00:00:00\", \"2021-08-14T00:00:00\", \"2021-08-15T00:00:00\", \"2021-08-16T00:00:00\", \"2021-08-17T00:00:00\", \"2021-08-18T00:00:00\", \"2021-08-19T00:00:00\", \"2021-08-20T00:00:00\", \"2021-08-21T00:00:00\", \"2021-08-22T00:00:00\", \"2021-08-23T00:00:00\", \"2021-08-24T00:00:00\", \"2021-08-25T00:00:00\", \"2021-08-26T00:00:00\", \"2021-08-27T00:00:00\", \"2021-08-28T00:00:00\", \"2021-08-29T00:00:00\", \"2021-08-30T00:00:00\", \"2021-08-31T00:00:00\", \"2021-09-01T00:00:00\", \"2021-09-02T00:00:00\", \"2021-09-03T00:00:00\", \"2021-09-04T00:00:00\", \"2021-09-05T00:00:00\", \"2021-09-06T00:00:00\", \"2021-09-07T00:00:00\", \"2021-09-08T00:00:00\", \"2021-09-09T00:00:00\", \"2021-09-10T00:00:00\", \"2021-09-11T00:00:00\", \"2021-09-12T00:00:00\", \"2021-09-13T00:00:00\", \"2021-09-14T00:00:00\", \"2021-09-15T00:00:00\", \"2021-09-16T00:00:00\", \"2021-09-17T00:00:00\", \"2021-09-18T00:00:00\", \"2021-09-19T00:00:00\", \"2021-09-20T00:00:00\", \"2021-09-21T00:00:00\", \"2021-09-22T00:00:00\", \"2021-09-23T00:00:00\", \"2021-09-24T00:00:00\"], \"xaxis\": \"x\", \"y\": [66, 82, 156, 346, 556, 763, 893, 1146, 1595, 2022, 2931, 3526, 4212, 4812, 5328, 5766, 6284, 6767, 7134, 7382, 7513, 7755, 7869, 7979, 8086, 8162, 8236, 8320, 8413, 8565, 8652, 8799, 8897, 8961, 9037, 9137, 9241, 9332, 9478, 9583, 9661, 9786, 9887, 9976, 10062, 10156, 10237, 10284, 10331, 10384, 10423, 10450, 10480, 10512, 10537, 10564, 10591, 10613, 10635, 10653, 10661, 10674, 10683, 10694, 10702, 10708, 10718, 10728, 10738, 10752, 10761, 10765, 10774, 10780, 10793, 10801, 10804, 10806, 10810, 10822, 10840, 10874, 10909, 10936, 10962, 10991, 11018, 11037, 11050, 11065, 11078, 11110, 11122, 11142, 11165, 11190, 11206, 11225, 11265, 11344, 11402, 11441, 11468, 11503, 11541, 11590, 11629, 11668, 11719, 11776, 11813, 11851, 11901, 11946, 12002, 12050, 12084, 12121, 12155, 12198, 12257, 12306, 12373, 12421, 12438, 12484, 12535, 12563, 12602, 12653, 12715, 12757, 12799, 12850, 12904, 12965, 13028, 13089, 13137, 13181, 13243, 13293, 13338, 13373, 13417, 13479, 13512, 13551, 13612, 13672, 13711, 13745, 13771, 13816, 13879, 13938, 13979, 14092, 14150, 14175, 14203, 14251, 14269, 14305, 14336, 14366, 14389, 14423, 14456, 14499, 14519, 14562, 14598, 14626, 14660, 14714, 14770, 14873, 15039, 15318, 15515, 15761, 16058, 16346, 16670, 17002, 17398, 17664, 17944, 18264, 18705, 19076, 19399, 19698, 19946, 20181, 20448, 20643, 20841, 21009, 21176, 21295, 21431, 21587, 21742, 21918, 22054, 22175, 22284, 22390, 22503, 22656, 22782, 22892, 22974, 23044, 23105, 23215, 23340, 23454, 23515, 23610, 23660, 23698, 23811, 23888, 23951, 24026, 24090, 24163, 24238, 24352, 24421, 24475, 24547, 24605, 24703, 24794, 24878, 24988, 25035, 25108, 25199, 25275, 25333, 25422, 25543, 25698, 25775, 25836, 25955, 26043, 26146, 26271, 26384, 26511, 26635, 26732, 26807, 26924, 27049, 27194, 27283, 27426, 27552, 27652, 27797, 27940, 28131, 28336, 28544, 28766, 28996, 29281, 29606, 29954, 30340, 30670, 30941, 31290, 31672, 32253, 32808, 33311, 33761, 34199, 34650, 35161, 35701, 36329, 36906, 37537, 38152, 38739, 39409, 40089, 40778, 41728, 42758, 43476, 44356, 45434, 46448, 47512, 48557, 49653, 50577, 51443, 52533, 53518, 54758, 55889, 56859, 57665, 58709, 59759, 60726, 61753, 62573, 63230, 64250, 64964, 65802, 66671, 67345, 67986, 68643, 69094, 69631, 70192, 70716, 71228, 71808, 72328, 72717, 73103, 73507, 73907, 74253, 74684, 75076, 75513, 75862, 76421, 76918, 77387, 77843, 78197, 78502, 78838, 79305, 79756, 80126, 80516, 80887, 81175, 81478, 81922, 82426, 82829, 83191, 83517, 83860, 84317, 84938, 85559, 86120, 86568, 86984, 87316, 87672, 88112, 88507, 88894, 89309, 89664, 90019, 90363, 90807, 91231, 91629, 92047, 92463, 92809, 93255, 93725, 94190, 94678, 95168, 95627, 96006, 96369, 96838, 97283, 97746, 98193, 98649, 99064, 99410, 99838, 100268, 100757, 101262, 101744, 102126, 102573, 103079, 103630, 104187, 104730, 105273, 105746, 106223, 106891, 107591, 108262, 108939, 109553, 110140, 110682, 111413, 112111, 112784, 113442, 114113, 114645, 115194, 115925, 116660, 117457, 118242, 118886, 119385, 119897, 120666, 121345, 122006, 122633, 123239, 123727, 124268, 124944, 125518, 126043, 126744, 127308, 127771, 128281, 128915, 129630, 130377, 131058, 131668, 132287, 132815, 133469, 134115, 134676, 135342, 135927, 136457, 136973, 137678, 138307, 138894, 139427, 139907, 140337, 140796, 141473, 142154, 142849, 143593, 144149, 144634, 145088, 145690, 146300, 146856, 147421, 147873, 148272, 148645, 149190, 149730, 150237, 150719, 151148, 151505, 151899, 152544, 153154, 153788, 154456, 155070, 155571, 156166, 156960, 157721, 158546, 159340, 160083, 160794, 161540, 162751, 164026, 165342, 166720, 168044, 169144, 170294, 171907, 173506, 175041, 176490, 177943, 179194, 180472, 182253, 184094, 185723, 187350, 188837, 190155, 191518, 193413, 195086, 196796, 198334, 199776, 200994, 202194, 203919, 205694, 207398, 209221, 210948, 212439, 213976, 216197, 218184, 220173, 222101, 223917, 225471, 226843, 228646, 230798, 232848, 234725, 236351, 237768, 239275, 241429, 243311, 245148, 246939, 248558, 250043, 251413, 253437, 255397, 257105, 258908, 260398, 261773, 263370, 265418, 267467, 269359, 271223, 272978, 274411, 275906, 277984, 279926, 281934, 284021, 285930, 287534, 289263, 290983, 292698, 295132], \"yaxis\": \"y\"}],\n",
              "                        {\"height\": 600, \"legend\": {\"tracegroupgap\": 0}, \"shapes\": [{\"line\": {\"color\": \"red\", \"width\": 1}, \"type\": \"line\", \"x0\": \"2020-03-08T00:00:00\", \"x1\": \"2020-03-08T00:00:00\", \"y0\": 0, \"y1\": 295132}, {\"line\": {\"color\": \"red\", \"width\": 1}, \"type\": \"line\", \"x0\": \"2020-03-09T00:00:00\", \"x1\": \"2020-03-09T00:00:00\", \"y0\": 0, \"y1\": 295132}, {\"line\": {\"color\": \"red\", \"width\": 1}, \"type\": \"line\", \"x0\": \"2020-04-25T00:00:00\", \"x1\": \"2020-04-25T00:00:00\", \"y0\": 0, \"y1\": 295132}, {\"line\": {\"color\": \"red\", \"width\": 1}, \"type\": \"line\", \"x0\": \"2020-04-27T00:00:00\", \"x1\": \"2020-04-27T00:00:00\", \"y0\": 0, \"y1\": 295132}, {\"line\": {\"color\": \"red\", \"width\": 1}, \"type\": \"line\", \"x0\": \"2020-05-07T00:00:00\", \"x1\": \"2020-05-07T00:00:00\", \"y0\": 0, \"y1\": 295132}, {\"line\": {\"color\": \"red\", \"width\": 1}, \"type\": \"line\", \"x0\": \"2020-05-08T00:00:00\", \"x1\": \"2020-05-08T00:00:00\", \"y0\": 0, \"y1\": 295132}, {\"line\": {\"color\": \"red\", \"width\": 1}, \"type\": \"line\", \"x0\": \"2020-05-12T00:00:00\", \"x1\": \"2020-05-12T00:00:00\", \"y0\": 0, \"y1\": 295132}, {\"line\": {\"color\": \"red\", \"width\": 1}, \"type\": \"line\", \"x0\": \"2020-05-27T00:00:00\", \"x1\": \"2020-05-27T00:00:00\", \"y0\": 0, \"y1\": 295132}, {\"line\": {\"color\": \"red\", \"width\": 1}, \"type\": \"line\", \"x0\": \"2020-06-13T00:00:00\", \"x1\": \"2020-06-13T00:00:00\", \"y0\": 0, \"y1\": 295132}, {\"line\": {\"color\": \"red\", \"width\": 1}, \"type\": \"line\", \"x0\": \"2020-06-15T00:00:00\", \"x1\": \"2020-06-15T00:00:00\", \"y0\": 0, \"y1\": 295132}, {\"line\": {\"color\": \"red\", \"width\": 1}, \"type\": \"line\", \"x0\": \"2020-07-11T00:00:00\", \"x1\": \"2020-07-11T00:00:00\", \"y0\": 0, \"y1\": 295132}, {\"line\": {\"color\": \"red\", \"width\": 1}, \"type\": \"line\", \"x0\": \"2020-08-22T00:00:00\", \"x1\": \"2020-08-22T00:00:00\", \"y0\": 0, \"y1\": 295132}, {\"line\": {\"color\": \"red\", \"width\": 1}, \"type\": \"line\", \"x0\": \"2020-09-09T00:00:00\", \"x1\": \"2020-09-09T00:00:00\", \"y0\": 0, \"y1\": 295132}, {\"line\": {\"color\": \"red\", \"width\": 1}, \"type\": \"line\", \"x0\": \"2020-09-28T00:00:00\", \"x1\": \"2020-09-28T00:00:00\", \"y0\": 0, \"y1\": 295132}, {\"line\": {\"color\": \"red\", \"width\": 1}, \"type\": \"line\", \"x0\": \"2020-10-07T00:00:00\", \"x1\": \"2020-10-07T00:00:00\", \"y0\": 0, \"y1\": 295132}, {\"line\": {\"color\": \"red\", \"width\": 1}, \"type\": \"line\", \"x0\": \"2020-10-08T00:00:00\", \"x1\": \"2020-10-08T00:00:00\", \"y0\": 0, \"y1\": 295132}, {\"line\": {\"color\": \"red\", \"width\": 1}, \"type\": \"line\", \"x0\": \"2020-10-09T00:00:00\", \"x1\": \"2020-10-09T00:00:00\", \"y0\": 0, \"y1\": 295132}, {\"line\": {\"color\": \"red\", \"width\": 1}, \"type\": \"line\", \"x0\": \"2020-10-10T00:00:00\", \"x1\": \"2020-10-10T00:00:00\", \"y0\": 0, \"y1\": 295132}, {\"line\": {\"color\": \"red\", \"width\": 1}, \"type\": \"line\", \"x0\": \"2020-10-11T00:00:00\", \"x1\": \"2020-10-11T00:00:00\", \"y0\": 0, \"y1\": 295132}, {\"line\": {\"color\": \"red\", \"width\": 1}, \"type\": \"line\", \"x0\": \"2020-10-16T00:00:00\", \"x1\": \"2020-10-16T00:00:00\", \"y0\": 0, \"y1\": 295132}, {\"line\": {\"color\": \"red\", \"width\": 1}, \"type\": \"line\", \"x0\": \"2020-10-19T00:00:00\", \"x1\": \"2020-10-19T00:00:00\", \"y0\": 0, \"y1\": 295132}, {\"line\": {\"color\": \"red\", \"width\": 1}, \"type\": \"line\", \"x0\": \"2020-11-01T00:00:00\", \"x1\": \"2020-11-01T00:00:00\", \"y0\": 0, \"y1\": 295132}, {\"line\": {\"color\": \"red\", \"width\": 1}, \"type\": \"line\", \"x0\": \"2020-12-01T00:00:00\", \"x1\": \"2020-12-01T00:00:00\", \"y0\": 0, \"y1\": 295132}, {\"line\": {\"color\": \"red\", \"width\": 1}, \"type\": \"line\", \"x0\": \"2020-12-15T00:00:00\", \"x1\": \"2020-12-15T00:00:00\", \"y0\": 0, \"y1\": 295132}, {\"line\": {\"color\": \"red\", \"width\": 1}, \"type\": \"line\", \"x0\": \"2021-01-01T00:00:00\", \"x1\": \"2021-01-01T00:00:00\", \"y0\": 0, \"y1\": 295132}, {\"line\": {\"color\": \"red\", \"width\": 1}, \"type\": \"line\", \"x0\": \"2021-01-08T00:00:00\", \"x1\": \"2021-01-08T00:00:00\", \"y0\": 0, \"y1\": 295132}, {\"line\": {\"color\": \"red\", \"width\": 1}, \"type\": \"line\", \"x0\": \"2021-01-14T00:00:00\", \"x1\": \"2021-01-14T00:00:00\", \"y0\": 0, \"y1\": 295132}, {\"line\": {\"color\": \"red\", \"width\": 1}, \"type\": \"line\", \"x0\": \"2021-03-08T00:00:00\", \"x1\": \"2021-03-08T00:00:00\", \"y0\": 0, \"y1\": 295132}, {\"line\": {\"color\": \"red\", \"width\": 1}, \"type\": \"line\", \"x0\": \"2021-05-10T00:00:00\", \"x1\": \"2021-05-10T00:00:00\", \"y0\": 0, \"y1\": 295132}, {\"line\": {\"color\": \"red\", \"width\": 1}, \"type\": \"line\", \"x0\": \"2021-05-13T00:00:00\", \"x1\": \"2021-05-13T00:00:00\", \"y0\": 0, \"y1\": 295132}, {\"line\": {\"color\": \"red\", \"width\": 1}, \"type\": \"line\", \"x0\": \"2021-07-08T00:00:00\", \"x1\": \"2021-07-08T00:00:00\", \"y0\": 0, \"y1\": 295132}, {\"line\": {\"color\": \"red\", \"width\": 1}, \"type\": \"line\", \"x0\": \"2021-09-13T00:00:00\", \"x1\": \"2021-09-13T00:00:00\", \"y0\": 0, \"y1\": 295132}], \"template\": {\"data\": {\"pie\": [{\"automargin\": true, \"type\": \"pie\"}]}, \"layout\": {\"xaxis\": {\"showgrid\": true, \"title\": {\"standoff\": 15}}, \"yaxis\": {\"showgrid\": true, \"title\": {\"standoff\": 15}}}}, \"title\": {\"text\": \"Confirmed cases and holidays data in Korea, Republic of\"}, \"width\": 1000, \"xaxis\": {\"anchor\": \"y\", \"domain\": [0.0, 1.0], \"title\": {\"text\": \"Date\"}}, \"yaxis\": {\"anchor\": \"x\", \"domain\": [0.0, 1.0], \"title\": {\"text\": \"cum_Confirmed\"}}},\n",
              "                        {\"responsive\": true}\n",
              "                    ).then(function(){\n",
              "                            \n",
              "var gd = document.getElementById('66ead290-2392-4ed8-8fc2-d13a0f20c99b');\n",
              "var x = new MutationObserver(function (mutations, observer) {{\n",
              "        var display = window.getComputedStyle(gd).display;\n",
              "        if (!display || display === 'none') {{\n",
              "            console.log([gd, 'removed!']);\n",
              "            Plotly.purge(gd);\n",
              "            observer.disconnect();\n",
              "        }}\n",
              "}});\n",
              "\n",
              "// Listen for the removal of the full notebook cells\n",
              "var notebookContainer = gd.closest('#notebook-container');\n",
              "if (notebookContainer) {{\n",
              "    x.observe(notebookContainer, {childList: true});\n",
              "}}\n",
              "\n",
              "// Listen for the clearing of the current output cell\n",
              "var outputEl = gd.closest('.output');\n",
              "if (outputEl) {{\n",
              "    x.observe(outputEl, {childList: true});\n",
              "}}\n",
              "\n",
              "                        })\n",
              "                };\n",
              "                \n",
              "            </script>\n",
              "        </div>\n",
              "</body>\n",
              "</html>"
            ]
          },
          "metadata": {}
        }
      ]
    },
    {
      "cell_type": "markdown",
      "metadata": {
        "papermill": {
          "duration": 0.031421,
          "end_time": "2020-08-09T19:17:46.702342",
          "exception": false,
          "start_time": "2020-08-09T19:17:46.670921",
          "status": "completed"
        },
        "tags": [],
        "id": "6cc77Pzmvf00"
      },
      "source": [
        "## 4.2. Statistics<a class=\"anchor\" id=\"4.2\"></a>\n",
        "\n",
        "[Back to Table of Contents](#0.1)"
      ]
    },
    {
      "cell_type": "markdown",
      "metadata": {
        "papermill": {
          "duration": 0.031192,
          "end_time": "2020-08-09T19:17:46.765151",
          "exception": false,
          "start_time": "2020-08-09T19:17:46.733959",
          "status": "completed"
        },
        "tags": [],
        "id": "B_89Xd16vf00"
      },
      "source": [
        "## Describe statistics"
      ]
    },
    {
      "cell_type": "code",
      "metadata": {
        "execution": {
          "iopub.execute_input": "2020-08-09T19:17:46.845374Z",
          "iopub.status.busy": "2020-08-09T19:17:46.844471Z",
          "iopub.status.idle": "2020-08-09T19:17:46.84959Z",
          "shell.execute_reply": "2020-08-09T19:17:46.848934Z"
        },
        "papermill": {
          "duration": 0.052852,
          "end_time": "2020-08-09T19:17:46.84973",
          "exception": false,
          "start_time": "2020-08-09T19:17:46.796878",
          "status": "completed"
        },
        "tags": [],
        "colab": {
          "base_uri": "https://localhost:8080/",
          "height": 0
        },
        "id": "4ZYWKo5_vf00",
        "outputId": "2b38d8b7-732b-426f-f5a4-03d716d9d27a"
      },
      "source": [
        "df2.describe()"
      ],
      "execution_count": 34,
      "outputs": [
        {
          "output_type": "execute_result",
          "data": {
            "text/html": [
              "<div>\n",
              "<style scoped>\n",
              "    .dataframe tbody tr th:only-of-type {\n",
              "        vertical-align: middle;\n",
              "    }\n",
              "\n",
              "    .dataframe tbody tr th {\n",
              "        vertical-align: top;\n",
              "    }\n",
              "\n",
              "    .dataframe thead th {\n",
              "        text-align: right;\n",
              "    }\n",
              "</style>\n",
              "<table border=\"1\" class=\"dataframe\">\n",
              "  <thead>\n",
              "    <tr style=\"text-align: right;\">\n",
              "      <th></th>\n",
              "      <th>cum_Confirmed</th>\n",
              "    </tr>\n",
              "  </thead>\n",
              "  <tbody>\n",
              "    <tr>\n",
              "      <th>count</th>\n",
              "      <td>584.000000</td>\n",
              "    </tr>\n",
              "    <tr>\n",
              "      <th>mean</th>\n",
              "      <td>76094.234589</td>\n",
              "    </tr>\n",
              "    <tr>\n",
              "      <th>std</th>\n",
              "      <td>75840.452159</td>\n",
              "    </tr>\n",
              "    <tr>\n",
              "      <th>min</th>\n",
              "      <td>66.000000</td>\n",
              "    </tr>\n",
              "    <tr>\n",
              "      <th>25%</th>\n",
              "      <td>13503.750000</td>\n",
              "    </tr>\n",
              "    <tr>\n",
              "      <th>50%</th>\n",
              "      <td>37844.500000</td>\n",
              "    </tr>\n",
              "    <tr>\n",
              "      <th>75%</th>\n",
              "      <td>122784.500000</td>\n",
              "    </tr>\n",
              "    <tr>\n",
              "      <th>max</th>\n",
              "      <td>295132.000000</td>\n",
              "    </tr>\n",
              "  </tbody>\n",
              "</table>\n",
              "</div>"
            ],
            "text/plain": [
              "       cum_Confirmed\n",
              "count     584.000000\n",
              "mean    76094.234589\n",
              "std     75840.452159\n",
              "min        66.000000\n",
              "25%     13503.750000\n",
              "50%     37844.500000\n",
              "75%    122784.500000\n",
              "max    295132.000000"
            ]
          },
          "metadata": {},
          "execution_count": 34
        }
      ]
    },
    {
      "cell_type": "markdown",
      "metadata": {
        "papermill": {
          "duration": 0.031416,
          "end_time": "2020-08-09T19:17:46.912659",
          "exception": false,
          "start_time": "2020-08-09T19:17:46.881243",
          "status": "completed"
        },
        "tags": [],
        "id": "0_xX5sIvvf00"
      },
      "source": [
        "## Earliest Cases"
      ]
    },
    {
      "cell_type": "code",
      "metadata": {
        "_kg_hide-input": true,
        "execution": {
          "iopub.execute_input": "2020-08-09T19:17:46.989491Z",
          "iopub.status.busy": "2020-08-09T19:17:46.988567Z",
          "iopub.status.idle": "2020-08-09T19:17:46.994298Z",
          "shell.execute_reply": "2020-08-09T19:17:46.993605Z"
        },
        "papermill": {
          "duration": 0.050072,
          "end_time": "2020-08-09T19:17:46.994451",
          "exception": false,
          "start_time": "2020-08-09T19:17:46.944379",
          "status": "completed"
        },
        "tags": [],
        "colab": {
          "base_uri": "https://localhost:8080/",
          "height": 0
        },
        "id": "5_gRIJacvf00",
        "outputId": "5c5c7ecf-a499-4ab0-ead0-044b0e68cf08"
      },
      "source": [
        "df2.head()"
      ],
      "execution_count": 35,
      "outputs": [
        {
          "output_type": "execute_result",
          "data": {
            "text/html": [
              "<div>\n",
              "<style scoped>\n",
              "    .dataframe tbody tr th:only-of-type {\n",
              "        vertical-align: middle;\n",
              "    }\n",
              "\n",
              "    .dataframe tbody tr th {\n",
              "        vertical-align: top;\n",
              "    }\n",
              "\n",
              "    .dataframe thead th {\n",
              "        text-align: right;\n",
              "    }\n",
              "</style>\n",
              "<table border=\"1\" class=\"dataframe\">\n",
              "  <thead>\n",
              "    <tr style=\"text-align: right;\">\n",
              "      <th></th>\n",
              "      <th>Date</th>\n",
              "      <th>Confirmed</th>\n",
              "      <th>domestic</th>\n",
              "      <th>foreign</th>\n",
              "      <th>dead</th>\n",
              "      <th>cum_Confirmed</th>\n",
              "    </tr>\n",
              "  </thead>\n",
              "  <tbody>\n",
              "    <tr>\n",
              "      <th>30</th>\n",
              "      <td>2020-02-19</td>\n",
              "      <td>34</td>\n",
              "      <td>34</td>\n",
              "      <td>-</td>\n",
              "      <td>-</td>\n",
              "      <td>66</td>\n",
              "    </tr>\n",
              "    <tr>\n",
              "      <th>31</th>\n",
              "      <td>2020-02-20</td>\n",
              "      <td>16</td>\n",
              "      <td>16</td>\n",
              "      <td>-</td>\n",
              "      <td>1</td>\n",
              "      <td>82</td>\n",
              "    </tr>\n",
              "    <tr>\n",
              "      <th>32</th>\n",
              "      <td>2020-02-21</td>\n",
              "      <td>74</td>\n",
              "      <td>74</td>\n",
              "      <td>-</td>\n",
              "      <td>-</td>\n",
              "      <td>156</td>\n",
              "    </tr>\n",
              "    <tr>\n",
              "      <th>33</th>\n",
              "      <td>2020-02-22</td>\n",
              "      <td>190</td>\n",
              "      <td>190</td>\n",
              "      <td>-</td>\n",
              "      <td>2</td>\n",
              "      <td>346</td>\n",
              "    </tr>\n",
              "    <tr>\n",
              "      <th>34</th>\n",
              "      <td>2020-02-23</td>\n",
              "      <td>210</td>\n",
              "      <td>209</td>\n",
              "      <td>1</td>\n",
              "      <td>-</td>\n",
              "      <td>556</td>\n",
              "    </tr>\n",
              "  </tbody>\n",
              "</table>\n",
              "</div>"
            ],
            "text/plain": [
              "         Date Confirmed domestic foreign dead  cum_Confirmed\n",
              "30 2020-02-19        34       34       -    -             66\n",
              "31 2020-02-20        16       16       -    1             82\n",
              "32 2020-02-21        74       74       -    -            156\n",
              "33 2020-02-22       190      190       -    2            346\n",
              "34 2020-02-23       210      209       1    -            556"
            ]
          },
          "metadata": {},
          "execution_count": 35
        }
      ]
    }
  ]
}